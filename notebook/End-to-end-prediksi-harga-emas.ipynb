{
  "cells": [
    {
      "cell_type": "markdown",
      "metadata": {
        "id": "cB1Z9eSmkJvI"
      },
      "source": [
        "# Import"
      ]
    },
    {
      "cell_type": "code",
      "execution_count": 1,
      "metadata": {
        "id": "G7R0WKA7C6MP"
      },
      "outputs": [
        {
          "data": {
            "text/html": [
              "\n",
              "    <div class=\"bk-root\">\n",
              "        <a href=\"https://bokeh.org\" target=\"_blank\" class=\"bk-logo bk-logo-small bk-logo-notebook\"></a>\n",
              "        <span id=\"1002\">Loading BokehJS ...</span>\n",
              "    </div>"
            ]
          },
          "metadata": {},
          "output_type": "display_data"
        },
        {
          "data": {
            "application/javascript": "\n(function(root) {\n  function now() {\n    return new Date();\n  }\n\n  const force = true;\n\n  if (typeof root._bokeh_onload_callbacks === \"undefined\" || force === true) {\n    root._bokeh_onload_callbacks = [];\n    root._bokeh_is_loading = undefined;\n  }\n\n  const JS_MIME_TYPE = 'application/javascript';\n  const HTML_MIME_TYPE = 'text/html';\n  const EXEC_MIME_TYPE = 'application/vnd.bokehjs_exec.v0+json';\n  const CLASS_NAME = 'output_bokeh rendered_html';\n\n  /**\n   * Render data to the DOM node\n   */\n  function render(props, node) {\n    const script = document.createElement(\"script\");\n    node.appendChild(script);\n  }\n\n  /**\n   * Handle when an output is cleared or removed\n   */\n  function handleClearOutput(event, handle) {\n    const cell = handle.cell;\n\n    const id = cell.output_area._bokeh_element_id;\n    const server_id = cell.output_area._bokeh_server_id;\n    // Clean up Bokeh references\n    if (id != null && id in Bokeh.index) {\n      Bokeh.index[id].model.document.clear();\n      delete Bokeh.index[id];\n    }\n\n    if (server_id !== undefined) {\n      // Clean up Bokeh references\n      const cmd_clean = \"from bokeh.io.state import curstate; print(curstate().uuid_to_server['\" + server_id + \"'].get_sessions()[0].document.roots[0]._id)\";\n      cell.notebook.kernel.execute(cmd_clean, {\n        iopub: {\n          output: function(msg) {\n            const id = msg.content.text.trim();\n            if (id in Bokeh.index) {\n              Bokeh.index[id].model.document.clear();\n              delete Bokeh.index[id];\n            }\n          }\n        }\n      });\n      // Destroy server and session\n      const cmd_destroy = \"import bokeh.io.notebook as ion; ion.destroy_server('\" + server_id + \"')\";\n      cell.notebook.kernel.execute(cmd_destroy);\n    }\n  }\n\n  /**\n   * Handle when a new output is added\n   */\n  function handleAddOutput(event, handle) {\n    const output_area = handle.output_area;\n    const output = handle.output;\n\n    // limit handleAddOutput to display_data with EXEC_MIME_TYPE content only\n    if ((output.output_type != \"display_data\") || (!Object.prototype.hasOwnProperty.call(output.data, EXEC_MIME_TYPE))) {\n      return\n    }\n\n    const toinsert = output_area.element.find(\".\" + CLASS_NAME.split(' ')[0]);\n\n    if (output.metadata[EXEC_MIME_TYPE][\"id\"] !== undefined) {\n      toinsert[toinsert.length - 1].firstChild.textContent = output.data[JS_MIME_TYPE];\n      // store reference to embed id on output_area\n      output_area._bokeh_element_id = output.metadata[EXEC_MIME_TYPE][\"id\"];\n    }\n    if (output.metadata[EXEC_MIME_TYPE][\"server_id\"] !== undefined) {\n      const bk_div = document.createElement(\"div\");\n      bk_div.innerHTML = output.data[HTML_MIME_TYPE];\n      const script_attrs = bk_div.children[0].attributes;\n      for (let i = 0; i < script_attrs.length; i++) {\n        toinsert[toinsert.length - 1].firstChild.setAttribute(script_attrs[i].name, script_attrs[i].value);\n        toinsert[toinsert.length - 1].firstChild.textContent = bk_div.children[0].textContent\n      }\n      // store reference to server id on output_area\n      output_area._bokeh_server_id = output.metadata[EXEC_MIME_TYPE][\"server_id\"];\n    }\n  }\n\n  function register_renderer(events, OutputArea) {\n\n    function append_mime(data, metadata, element) {\n      // create a DOM node to render to\n      const toinsert = this.create_output_subarea(\n        metadata,\n        CLASS_NAME,\n        EXEC_MIME_TYPE\n      );\n      this.keyboard_manager.register_events(toinsert);\n      // Render to node\n      const props = {data: data, metadata: metadata[EXEC_MIME_TYPE]};\n      render(props, toinsert[toinsert.length - 1]);\n      element.append(toinsert);\n      return toinsert\n    }\n\n    /* Handle when an output is cleared or removed */\n    events.on('clear_output.CodeCell', handleClearOutput);\n    events.on('delete.Cell', handleClearOutput);\n\n    /* Handle when a new output is added */\n    events.on('output_added.OutputArea', handleAddOutput);\n\n    /**\n     * Register the mime type and append_mime function with output_area\n     */\n    OutputArea.prototype.register_mime_type(EXEC_MIME_TYPE, append_mime, {\n      /* Is output safe? */\n      safe: true,\n      /* Index of renderer in `output_area.display_order` */\n      index: 0\n    });\n  }\n\n  // register the mime type if in Jupyter Notebook environment and previously unregistered\n  if (root.Jupyter !== undefined) {\n    const events = require('base/js/events');\n    const OutputArea = require('notebook/js/outputarea').OutputArea;\n\n    if (OutputArea.prototype.mime_types().indexOf(EXEC_MIME_TYPE) == -1) {\n      register_renderer(events, OutputArea);\n    }\n  }\n\n  \n  if (typeof (root._bokeh_timeout) === \"undefined\" || force === true) {\n    root._bokeh_timeout = Date.now() + 5000;\n    root._bokeh_failed_load = false;\n  }\n\n  const NB_LOAD_WARNING = {'data': {'text/html':\n     \"<div style='background-color: #fdd'>\\n\"+\n     \"<p>\\n\"+\n     \"BokehJS does not appear to have successfully loaded. If loading BokehJS from CDN, this \\n\"+\n     \"may be due to a slow or bad network connection. Possible fixes:\\n\"+\n     \"</p>\\n\"+\n     \"<ul>\\n\"+\n     \"<li>re-rerun `output_notebook()` to attempt to load from CDN again, or</li>\\n\"+\n     \"<li>use INLINE resources instead, as so:</li>\\n\"+\n     \"</ul>\\n\"+\n     \"<code>\\n\"+\n     \"from bokeh.resources import INLINE\\n\"+\n     \"output_notebook(resources=INLINE)\\n\"+\n     \"</code>\\n\"+\n     \"</div>\"}};\n\n  function display_loaded() {\n    const el = document.getElementById(\"1002\");\n    if (el != null) {\n      el.textContent = \"BokehJS is loading...\";\n    }\n    if (root.Bokeh !== undefined) {\n      if (el != null) {\n        el.textContent = \"BokehJS \" + root.Bokeh.version + \" successfully loaded.\";\n      }\n    } else if (Date.now() < root._bokeh_timeout) {\n      setTimeout(display_loaded, 100)\n    }\n  }\n\n\n  function run_callbacks() {\n    try {\n      root._bokeh_onload_callbacks.forEach(function(callback) {\n        if (callback != null)\n          callback();\n      });\n    } finally {\n      delete root._bokeh_onload_callbacks\n    }\n    console.debug(\"Bokeh: all callbacks have finished\");\n  }\n\n  function load_libs(css_urls, js_urls, callback) {\n    if (css_urls == null) css_urls = [];\n    if (js_urls == null) js_urls = [];\n\n    root._bokeh_onload_callbacks.push(callback);\n    if (root._bokeh_is_loading > 0) {\n      console.debug(\"Bokeh: BokehJS is being loaded, scheduling callback at\", now());\n      return null;\n    }\n    if (js_urls == null || js_urls.length === 0) {\n      run_callbacks();\n      return null;\n    }\n    console.debug(\"Bokeh: BokehJS not loaded, scheduling load and callback at\", now());\n    root._bokeh_is_loading = css_urls.length + js_urls.length;\n\n    function on_load() {\n      root._bokeh_is_loading--;\n      if (root._bokeh_is_loading === 0) {\n        console.debug(\"Bokeh: all BokehJS libraries/stylesheets loaded\");\n        run_callbacks()\n      }\n    }\n\n    function on_error(url) {\n      console.error(\"failed to load \" + url);\n    }\n\n    for (let i = 0; i < css_urls.length; i++) {\n      const url = css_urls[i];\n      const element = document.createElement(\"link\");\n      element.onload = on_load;\n      element.onerror = on_error.bind(null, url);\n      element.rel = \"stylesheet\";\n      element.type = \"text/css\";\n      element.href = url;\n      console.debug(\"Bokeh: injecting link tag for BokehJS stylesheet: \", url);\n      document.body.appendChild(element);\n    }\n\n    for (let i = 0; i < js_urls.length; i++) {\n      const url = js_urls[i];\n      const element = document.createElement('script');\n      element.onload = on_load;\n      element.onerror = on_error.bind(null, url);\n      element.async = false;\n      element.src = url;\n      console.debug(\"Bokeh: injecting script tag for BokehJS library: \", url);\n      document.head.appendChild(element);\n    }\n  };\n\n  function inject_raw_css(css) {\n    const element = document.createElement(\"style\");\n    element.appendChild(document.createTextNode(css));\n    document.body.appendChild(element);\n  }\n\n  \n  const js_urls = [\"https://cdn.bokeh.org/bokeh/release/bokeh-2.4.1.min.js\", \"https://cdn.bokeh.org/bokeh/release/bokeh-gl-2.4.1.min.js\", \"https://cdn.bokeh.org/bokeh/release/bokeh-widgets-2.4.1.min.js\", \"https://cdn.bokeh.org/bokeh/release/bokeh-tables-2.4.1.min.js\", \"https://cdn.bokeh.org/bokeh/release/bokeh-mathjax-2.4.1.min.js\"];\n  const css_urls = [];\n  \n\n  const inline_js = [\n    function(Bokeh) {\n      Bokeh.set_log_level(\"info\");\n    },\n    function(Bokeh) {\n    \n    \n    }\n  ];\n\n  function run_inline_js() {\n    \n    if (root.Bokeh !== undefined || force === true) {\n      \n    for (let i = 0; i < inline_js.length; i++) {\n      inline_js[i].call(root, root.Bokeh);\n    }\n    if (force === true) {\n        display_loaded();\n      }} else if (Date.now() < root._bokeh_timeout) {\n      setTimeout(run_inline_js, 100);\n    } else if (!root._bokeh_failed_load) {\n      console.log(\"Bokeh: BokehJS failed to load within specified timeout.\");\n      root._bokeh_failed_load = true;\n    } else if (force !== true) {\n      const cell = $(document.getElementById(\"1002\")).parents('.cell').data().cell;\n      cell.output_area.append_execute_result(NB_LOAD_WARNING)\n    }\n\n  }\n\n  if (root._bokeh_is_loading === 0) {\n    console.debug(\"Bokeh: BokehJS loaded, going straight to plotting\");\n    run_inline_js();\n  } else {\n    load_libs(css_urls, js_urls, function() {\n      console.debug(\"Bokeh: BokehJS plotting callback run at\", now());\n      run_inline_js();\n    });\n  }\n}(window));",
            "application/vnd.bokehjs_load.v0+json": ""
          },
          "metadata": {},
          "output_type": "display_data"
        }
      ],
      "source": [
        "import random\n",
        "import pickle\n",
        "\n",
        "import numpy as np\n",
        "import pandas as pd\n",
        "import matplotlib.pyplot as plt\n",
        "%matplotlib inline \n",
        "\n",
        "from bokeh.plotting import figure, show, output_notebook\n",
        "from bokeh.models import Legend, Div\n",
        "from bokeh.layouts import column\n",
        "from bokeh.transform import dodge\n",
        "from bokeh.palettes import Category10_3, Category10_4\n",
        "output_notebook()\n",
        "\n",
        "import warnings\n",
        "warnings.filterwarnings(\"ignore\")\n",
        "pd.set_option('max_colwidth', 1000)"
      ]
    },
    {
      "cell_type": "code",
      "execution_count": 2,
      "metadata": {
        "id": "fK-6WLWuDGE7"
      },
      "outputs": [],
      "source": [
        "from sklearn.datasets import load_breast_cancer\n",
        "from sklearn.model_selection import train_test_split\n",
        "from sklearn.preprocessing import MinMaxScaler, StandardScaler\n",
        "from sklearn.linear_model import LogisticRegression, LinearRegression\n",
        "from sklearn.metrics import accuracy_score, r2_score, mean_squared_error, mean_absolute_error"
      ]
    },
    {
      "cell_type": "markdown",
      "metadata": {
        "id": "FvElzGZs90wB"
      },
      "source": [
        "# Load data\n",
        "\n",
        "pada proses load data, dilakukan penambahan data berupa datetime pada kolom *date* , kolom ini nanti akan digunakan sebagai variabel tanggal pada grafik"
      ]
    },
    {
      "cell_type": "code",
      "execution_count": 3,
      "metadata": {
        "colab": {
          "base_uri": "https://localhost:8080/",
          "height": 501
        },
        "id": "Yb0h5RBDDNtY",
        "outputId": "5cfb6541-8918-4649-e047-1f3f8aff751c"
      },
      "outputs": [
        {
          "name": "stdout",
          "output_type": "stream",
          "text": [
            "<class 'pandas.core.frame.DataFrame'>\n",
            "RangeIndex: 1671 entries, 0 to 1670\n",
            "Data columns (total 10 columns):\n",
            " #   Column       Non-Null Count  Dtype  \n",
            "---  ------       --------------  -----  \n",
            " 0   Date         1671 non-null   object \n",
            " 1   Tanggal      1671 non-null   int64  \n",
            " 2   Bulan        1671 non-null   int64  \n",
            " 3   Tahun        1671 non-null   int64  \n",
            " 4   HargaJual    1671 non-null   int64  \n",
            " 5   HargaBeli    1671 non-null   int64  \n",
            " 6   Inflasi      1671 non-null   float64\n",
            " 7   HargaMinyak  1671 non-null   float64\n",
            " 8   KursJual     1671 non-null   float64\n",
            " 9   KursBeli     1671 non-null   float64\n",
            "dtypes: float64(4), int64(5), object(1)\n",
            "memory usage: 130.7+ KB\n"
          ]
        },
        {
          "data": {
            "text/html": [
              "<div>\n",
              "<style scoped>\n",
              "    .dataframe tbody tr th:only-of-type {\n",
              "        vertical-align: middle;\n",
              "    }\n",
              "\n",
              "    .dataframe tbody tr th {\n",
              "        vertical-align: top;\n",
              "    }\n",
              "\n",
              "    .dataframe thead th {\n",
              "        text-align: right;\n",
              "    }\n",
              "</style>\n",
              "<table border=\"1\" class=\"dataframe\">\n",
              "  <thead>\n",
              "    <tr style=\"text-align: right;\">\n",
              "      <th></th>\n",
              "      <th>Date</th>\n",
              "      <th>Tanggal</th>\n",
              "      <th>Bulan</th>\n",
              "      <th>Tahun</th>\n",
              "      <th>HargaJual</th>\n",
              "      <th>HargaBeli</th>\n",
              "      <th>Inflasi</th>\n",
              "      <th>HargaMinyak</th>\n",
              "      <th>KursJual</th>\n",
              "      <th>KursBeli</th>\n",
              "    </tr>\n",
              "  </thead>\n",
              "  <tbody>\n",
              "    <tr>\n",
              "      <th>0</th>\n",
              "      <td>31/07/2021</td>\n",
              "      <td>31</td>\n",
              "      <td>7</td>\n",
              "      <td>2021</td>\n",
              "      <td>843000</td>\n",
              "      <td>948000</td>\n",
              "      <td>1.52</td>\n",
              "      <td>73.95</td>\n",
              "      <td>14570.0</td>\n",
              "      <td>14426.0</td>\n",
              "    </tr>\n",
              "    <tr>\n",
              "      <th>1</th>\n",
              "      <td>30/07/2021</td>\n",
              "      <td>30</td>\n",
              "      <td>7</td>\n",
              "      <td>2021</td>\n",
              "      <td>850000</td>\n",
              "      <td>953000</td>\n",
              "      <td>1.52</td>\n",
              "      <td>73.95</td>\n",
              "      <td>14570.0</td>\n",
              "      <td>14426.0</td>\n",
              "    </tr>\n",
              "    <tr>\n",
              "      <th>2</th>\n",
              "      <td>29/07/2021</td>\n",
              "      <td>29</td>\n",
              "      <td>7</td>\n",
              "      <td>2021</td>\n",
              "      <td>842000</td>\n",
              "      <td>945000</td>\n",
              "      <td>1.52</td>\n",
              "      <td>73.62</td>\n",
              "      <td>14570.0</td>\n",
              "      <td>14426.0</td>\n",
              "    </tr>\n",
              "    <tr>\n",
              "      <th>3</th>\n",
              "      <td>28/07/2021</td>\n",
              "      <td>28</td>\n",
              "      <td>7</td>\n",
              "      <td>2021</td>\n",
              "      <td>837000</td>\n",
              "      <td>940000</td>\n",
              "      <td>1.52</td>\n",
              "      <td>72.39</td>\n",
              "      <td>14561.0</td>\n",
              "      <td>14417.0</td>\n",
              "    </tr>\n",
              "    <tr>\n",
              "      <th>4</th>\n",
              "      <td>27/07/2021</td>\n",
              "      <td>27</td>\n",
              "      <td>7</td>\n",
              "      <td>2021</td>\n",
              "      <td>837000</td>\n",
              "      <td>940000</td>\n",
              "      <td>1.52</td>\n",
              "      <td>71.65</td>\n",
              "      <td>14566.0</td>\n",
              "      <td>14422.0</td>\n",
              "    </tr>\n",
              "  </tbody>\n",
              "</table>\n",
              "</div>"
            ],
            "text/plain": [
              "         Date  Tanggal  Bulan  Tahun  HargaJual  HargaBeli  Inflasi  \\\n",
              "0  31/07/2021       31      7   2021     843000     948000     1.52   \n",
              "1  30/07/2021       30      7   2021     850000     953000     1.52   \n",
              "2  29/07/2021       29      7   2021     842000     945000     1.52   \n",
              "3  28/07/2021       28      7   2021     837000     940000     1.52   \n",
              "4  27/07/2021       27      7   2021     837000     940000     1.52   \n",
              "\n",
              "   HargaMinyak  KursJual  KursBeli  \n",
              "0        73.95   14570.0   14426.0  \n",
              "1        73.95   14570.0   14426.0  \n",
              "2        73.62   14570.0   14426.0  \n",
              "3        72.39   14561.0   14417.0  \n",
              "4        71.65   14566.0   14422.0  "
            ]
          },
          "execution_count": 3,
          "metadata": {},
          "output_type": "execute_result"
        }
      ],
      "source": [
        "data = pd.read_csv('dataset_full.csv')\n",
        "data.info()\n",
        "data.head()"
      ]
    },
    {
      "cell_type": "markdown",
      "metadata": {
        "id": "zw3YjQ6TOJrw"
      },
      "source": [
        "# Sunting urutan data\n",
        "Data asli memiliki urutan harga emas dari yang **terbaru ke terlama**, oleh karena itu kita perlu mengubah urutannya menjadi **terlama ke terbaru**."
      ]
    },
    {
      "cell_type": "code",
      "execution_count": 4,
      "metadata": {
        "colab": {
          "base_uri": "https://localhost:8080/",
          "height": 455
        },
        "id": "g47cJPUTN5pP",
        "outputId": "61d53ba4-167f-4eb4-ca01-b9b3f65e3a38"
      },
      "outputs": [
        {
          "data": {
            "text/html": [
              "<div>\n",
              "<style scoped>\n",
              "    .dataframe tbody tr th:only-of-type {\n",
              "        vertical-align: middle;\n",
              "    }\n",
              "\n",
              "    .dataframe tbody tr th {\n",
              "        vertical-align: top;\n",
              "    }\n",
              "\n",
              "    .dataframe thead th {\n",
              "        text-align: right;\n",
              "    }\n",
              "</style>\n",
              "<table border=\"1\" class=\"dataframe\">\n",
              "  <thead>\n",
              "    <tr style=\"text-align: right;\">\n",
              "      <th></th>\n",
              "      <th>Tanggal</th>\n",
              "      <th>Bulan</th>\n",
              "      <th>Tahun</th>\n",
              "      <th>HargaJual</th>\n",
              "      <th>HargaBeli</th>\n",
              "      <th>Inflasi</th>\n",
              "      <th>HargaMinyak</th>\n",
              "      <th>KursJual</th>\n",
              "      <th>KursBeli</th>\n",
              "    </tr>\n",
              "    <tr>\n",
              "      <th>Date</th>\n",
              "      <th></th>\n",
              "      <th></th>\n",
              "      <th></th>\n",
              "      <th></th>\n",
              "      <th></th>\n",
              "      <th></th>\n",
              "      <th></th>\n",
              "      <th></th>\n",
              "      <th></th>\n",
              "    </tr>\n",
              "  </thead>\n",
              "  <tbody>\n",
              "    <tr>\n",
              "      <th>2017-01-01</th>\n",
              "      <td>1</td>\n",
              "      <td>1</td>\n",
              "      <td>2017</td>\n",
              "      <td>506000</td>\n",
              "      <td>546000</td>\n",
              "      <td>3.49</td>\n",
              "      <td>54.03</td>\n",
              "      <td>13552.0</td>\n",
              "      <td>13418.0</td>\n",
              "    </tr>\n",
              "    <tr>\n",
              "      <th>2017-01-02</th>\n",
              "      <td>2</td>\n",
              "      <td>1</td>\n",
              "      <td>2017</td>\n",
              "      <td>506000</td>\n",
              "      <td>546000</td>\n",
              "      <td>3.49</td>\n",
              "      <td>54.03</td>\n",
              "      <td>13552.0</td>\n",
              "      <td>13418.0</td>\n",
              "    </tr>\n",
              "    <tr>\n",
              "      <th>2017-01-03</th>\n",
              "      <td>3</td>\n",
              "      <td>1</td>\n",
              "      <td>2017</td>\n",
              "      <td>506000</td>\n",
              "      <td>546000</td>\n",
              "      <td>3.49</td>\n",
              "      <td>52.33</td>\n",
              "      <td>13552.0</td>\n",
              "      <td>13418.0</td>\n",
              "    </tr>\n",
              "    <tr>\n",
              "      <th>2017-01-04</th>\n",
              "      <td>4</td>\n",
              "      <td>1</td>\n",
              "      <td>2017</td>\n",
              "      <td>506000</td>\n",
              "      <td>546000</td>\n",
              "      <td>3.49</td>\n",
              "      <td>53.26</td>\n",
              "      <td>13545.0</td>\n",
              "      <td>13411.0</td>\n",
              "    </tr>\n",
              "    <tr>\n",
              "      <th>2017-01-05</th>\n",
              "      <td>5</td>\n",
              "      <td>1</td>\n",
              "      <td>2017</td>\n",
              "      <td>506000</td>\n",
              "      <td>546000</td>\n",
              "      <td>3.49</td>\n",
              "      <td>53.76</td>\n",
              "      <td>13437.0</td>\n",
              "      <td>13303.0</td>\n",
              "    </tr>\n",
              "    <tr>\n",
              "      <th>...</th>\n",
              "      <td>...</td>\n",
              "      <td>...</td>\n",
              "      <td>...</td>\n",
              "      <td>...</td>\n",
              "      <td>...</td>\n",
              "      <td>...</td>\n",
              "      <td>...</td>\n",
              "      <td>...</td>\n",
              "      <td>...</td>\n",
              "    </tr>\n",
              "    <tr>\n",
              "      <th>2021-07-27</th>\n",
              "      <td>27</td>\n",
              "      <td>7</td>\n",
              "      <td>2021</td>\n",
              "      <td>837000</td>\n",
              "      <td>940000</td>\n",
              "      <td>1.52</td>\n",
              "      <td>71.65</td>\n",
              "      <td>14566.0</td>\n",
              "      <td>14422.0</td>\n",
              "    </tr>\n",
              "    <tr>\n",
              "      <th>2021-07-28</th>\n",
              "      <td>28</td>\n",
              "      <td>7</td>\n",
              "      <td>2021</td>\n",
              "      <td>837000</td>\n",
              "      <td>940000</td>\n",
              "      <td>1.52</td>\n",
              "      <td>72.39</td>\n",
              "      <td>14561.0</td>\n",
              "      <td>14417.0</td>\n",
              "    </tr>\n",
              "    <tr>\n",
              "      <th>2021-07-29</th>\n",
              "      <td>29</td>\n",
              "      <td>7</td>\n",
              "      <td>2021</td>\n",
              "      <td>842000</td>\n",
              "      <td>945000</td>\n",
              "      <td>1.52</td>\n",
              "      <td>73.62</td>\n",
              "      <td>14570.0</td>\n",
              "      <td>14426.0</td>\n",
              "    </tr>\n",
              "    <tr>\n",
              "      <th>2021-07-30</th>\n",
              "      <td>30</td>\n",
              "      <td>7</td>\n",
              "      <td>2021</td>\n",
              "      <td>850000</td>\n",
              "      <td>953000</td>\n",
              "      <td>1.52</td>\n",
              "      <td>73.95</td>\n",
              "      <td>14570.0</td>\n",
              "      <td>14426.0</td>\n",
              "    </tr>\n",
              "    <tr>\n",
              "      <th>2021-07-31</th>\n",
              "      <td>31</td>\n",
              "      <td>7</td>\n",
              "      <td>2021</td>\n",
              "      <td>843000</td>\n",
              "      <td>948000</td>\n",
              "      <td>1.52</td>\n",
              "      <td>73.95</td>\n",
              "      <td>14570.0</td>\n",
              "      <td>14426.0</td>\n",
              "    </tr>\n",
              "  </tbody>\n",
              "</table>\n",
              "<p>1671 rows × 9 columns</p>\n",
              "</div>"
            ],
            "text/plain": [
              "            Tanggal  Bulan  Tahun  HargaJual  HargaBeli  Inflasi  HargaMinyak  \\\n",
              "Date                                                                            \n",
              "2017-01-01        1      1   2017     506000     546000     3.49        54.03   \n",
              "2017-01-02        2      1   2017     506000     546000     3.49        54.03   \n",
              "2017-01-03        3      1   2017     506000     546000     3.49        52.33   \n",
              "2017-01-04        4      1   2017     506000     546000     3.49        53.26   \n",
              "2017-01-05        5      1   2017     506000     546000     3.49        53.76   \n",
              "...             ...    ...    ...        ...        ...      ...          ...   \n",
              "2021-07-27       27      7   2021     837000     940000     1.52        71.65   \n",
              "2021-07-28       28      7   2021     837000     940000     1.52        72.39   \n",
              "2021-07-29       29      7   2021     842000     945000     1.52        73.62   \n",
              "2021-07-30       30      7   2021     850000     953000     1.52        73.95   \n",
              "2021-07-31       31      7   2021     843000     948000     1.52        73.95   \n",
              "\n",
              "            KursJual  KursBeli  \n",
              "Date                            \n",
              "2017-01-01   13552.0   13418.0  \n",
              "2017-01-02   13552.0   13418.0  \n",
              "2017-01-03   13552.0   13418.0  \n",
              "2017-01-04   13545.0   13411.0  \n",
              "2017-01-05   13437.0   13303.0  \n",
              "...              ...       ...  \n",
              "2021-07-27   14566.0   14422.0  \n",
              "2021-07-28   14561.0   14417.0  \n",
              "2021-07-29   14570.0   14426.0  \n",
              "2021-07-30   14570.0   14426.0  \n",
              "2021-07-31   14570.0   14426.0  \n",
              "\n",
              "[1671 rows x 9 columns]"
            ]
          },
          "execution_count": 4,
          "metadata": {},
          "output_type": "execute_result"
        }
      ],
      "source": [
        "def sort_by_column(df, col_name=\"Date\"):\n",
        "    # Membalikkan urutan\n",
        "    df = df.iloc[::-1]\n",
        "    df = df.reset_index(drop=True)\n",
        "\n",
        "    # Mengubah indeks menjadi tanggal\n",
        "    df[col_name] = pd.to_datetime(df[col_name], format=\"%d/%m/%Y\")\n",
        "    df = df.set_index(col_name)\n",
        "\n",
        "    return df\n",
        "\n",
        "\n",
        "fixed_data = sort_by_column(data)\n",
        "fixed_data"
      ]
    },
    {
      "cell_type": "markdown",
      "metadata": {
        "id": "mn2hrTkvKSKl"
      },
      "source": [
        "# Pengaturan ulang skala data\n",
        "Data berada pada skala seratus ribuan sampai jutaan sehingga akan mengakibatkan parameter regresi menjadi tinggi. Oleh karena itu, data akan ditransformasi sehingga memiliki range diantara 0 dan 1 sehingga nilainya terkendali dan bisa diterima oleh model regresi linier."
      ]
    },
    {
      "cell_type": "code",
      "execution_count": 5,
      "metadata": {
        "id": "Bpi3TmlIKXDf"
      },
      "outputs": [],
      "source": [
        "fixed_data[\"HargaJual\"] = fixed_data[\"HargaJual\"] / 1000\n",
        "fixed_data[\"HargaBeli\"] = fixed_data[\"HargaBeli\"] / 1000\n",
        "fixed_data[\"KursBeli\"] = fixed_data[\"KursBeli\"] / 1000\n",
        "fixed_data[\"KursJual\"] = fixed_data[\"KursJual\"] / 1000"
      ]
    },
    {
      "cell_type": "code",
      "execution_count": 6,
      "metadata": {
        "colab": {
          "base_uri": "https://localhost:8080/",
          "height": 455
        },
        "id": "t50YY_ZbKxdD",
        "outputId": "52a4f90e-26c3-493d-d83e-b0700f507907"
      },
      "outputs": [
        {
          "data": {
            "text/html": [
              "<div>\n",
              "<style scoped>\n",
              "    .dataframe tbody tr th:only-of-type {\n",
              "        vertical-align: middle;\n",
              "    }\n",
              "\n",
              "    .dataframe tbody tr th {\n",
              "        vertical-align: top;\n",
              "    }\n",
              "\n",
              "    .dataframe thead th {\n",
              "        text-align: right;\n",
              "    }\n",
              "</style>\n",
              "<table border=\"1\" class=\"dataframe\">\n",
              "  <thead>\n",
              "    <tr style=\"text-align: right;\">\n",
              "      <th></th>\n",
              "      <th>Tanggal</th>\n",
              "      <th>Bulan</th>\n",
              "      <th>Tahun</th>\n",
              "      <th>HargaJual</th>\n",
              "      <th>HargaBeli</th>\n",
              "      <th>Inflasi</th>\n",
              "      <th>HargaMinyak</th>\n",
              "      <th>KursJual</th>\n",
              "      <th>KursBeli</th>\n",
              "    </tr>\n",
              "    <tr>\n",
              "      <th>Date</th>\n",
              "      <th></th>\n",
              "      <th></th>\n",
              "      <th></th>\n",
              "      <th></th>\n",
              "      <th></th>\n",
              "      <th></th>\n",
              "      <th></th>\n",
              "      <th></th>\n",
              "      <th></th>\n",
              "    </tr>\n",
              "  </thead>\n",
              "  <tbody>\n",
              "    <tr>\n",
              "      <th>2017-01-01</th>\n",
              "      <td>1</td>\n",
              "      <td>1</td>\n",
              "      <td>2017</td>\n",
              "      <td>506.0</td>\n",
              "      <td>546.0</td>\n",
              "      <td>3.49</td>\n",
              "      <td>54.03</td>\n",
              "      <td>13.552</td>\n",
              "      <td>13.418</td>\n",
              "    </tr>\n",
              "    <tr>\n",
              "      <th>2017-01-02</th>\n",
              "      <td>2</td>\n",
              "      <td>1</td>\n",
              "      <td>2017</td>\n",
              "      <td>506.0</td>\n",
              "      <td>546.0</td>\n",
              "      <td>3.49</td>\n",
              "      <td>54.03</td>\n",
              "      <td>13.552</td>\n",
              "      <td>13.418</td>\n",
              "    </tr>\n",
              "    <tr>\n",
              "      <th>2017-01-03</th>\n",
              "      <td>3</td>\n",
              "      <td>1</td>\n",
              "      <td>2017</td>\n",
              "      <td>506.0</td>\n",
              "      <td>546.0</td>\n",
              "      <td>3.49</td>\n",
              "      <td>52.33</td>\n",
              "      <td>13.552</td>\n",
              "      <td>13.418</td>\n",
              "    </tr>\n",
              "    <tr>\n",
              "      <th>2017-01-04</th>\n",
              "      <td>4</td>\n",
              "      <td>1</td>\n",
              "      <td>2017</td>\n",
              "      <td>506.0</td>\n",
              "      <td>546.0</td>\n",
              "      <td>3.49</td>\n",
              "      <td>53.26</td>\n",
              "      <td>13.545</td>\n",
              "      <td>13.411</td>\n",
              "    </tr>\n",
              "    <tr>\n",
              "      <th>2017-01-05</th>\n",
              "      <td>5</td>\n",
              "      <td>1</td>\n",
              "      <td>2017</td>\n",
              "      <td>506.0</td>\n",
              "      <td>546.0</td>\n",
              "      <td>3.49</td>\n",
              "      <td>53.76</td>\n",
              "      <td>13.437</td>\n",
              "      <td>13.303</td>\n",
              "    </tr>\n",
              "    <tr>\n",
              "      <th>...</th>\n",
              "      <td>...</td>\n",
              "      <td>...</td>\n",
              "      <td>...</td>\n",
              "      <td>...</td>\n",
              "      <td>...</td>\n",
              "      <td>...</td>\n",
              "      <td>...</td>\n",
              "      <td>...</td>\n",
              "      <td>...</td>\n",
              "    </tr>\n",
              "    <tr>\n",
              "      <th>2021-07-27</th>\n",
              "      <td>27</td>\n",
              "      <td>7</td>\n",
              "      <td>2021</td>\n",
              "      <td>837.0</td>\n",
              "      <td>940.0</td>\n",
              "      <td>1.52</td>\n",
              "      <td>71.65</td>\n",
              "      <td>14.566</td>\n",
              "      <td>14.422</td>\n",
              "    </tr>\n",
              "    <tr>\n",
              "      <th>2021-07-28</th>\n",
              "      <td>28</td>\n",
              "      <td>7</td>\n",
              "      <td>2021</td>\n",
              "      <td>837.0</td>\n",
              "      <td>940.0</td>\n",
              "      <td>1.52</td>\n",
              "      <td>72.39</td>\n",
              "      <td>14.561</td>\n",
              "      <td>14.417</td>\n",
              "    </tr>\n",
              "    <tr>\n",
              "      <th>2021-07-29</th>\n",
              "      <td>29</td>\n",
              "      <td>7</td>\n",
              "      <td>2021</td>\n",
              "      <td>842.0</td>\n",
              "      <td>945.0</td>\n",
              "      <td>1.52</td>\n",
              "      <td>73.62</td>\n",
              "      <td>14.570</td>\n",
              "      <td>14.426</td>\n",
              "    </tr>\n",
              "    <tr>\n",
              "      <th>2021-07-30</th>\n",
              "      <td>30</td>\n",
              "      <td>7</td>\n",
              "      <td>2021</td>\n",
              "      <td>850.0</td>\n",
              "      <td>953.0</td>\n",
              "      <td>1.52</td>\n",
              "      <td>73.95</td>\n",
              "      <td>14.570</td>\n",
              "      <td>14.426</td>\n",
              "    </tr>\n",
              "    <tr>\n",
              "      <th>2021-07-31</th>\n",
              "      <td>31</td>\n",
              "      <td>7</td>\n",
              "      <td>2021</td>\n",
              "      <td>843.0</td>\n",
              "      <td>948.0</td>\n",
              "      <td>1.52</td>\n",
              "      <td>73.95</td>\n",
              "      <td>14.570</td>\n",
              "      <td>14.426</td>\n",
              "    </tr>\n",
              "  </tbody>\n",
              "</table>\n",
              "<p>1671 rows × 9 columns</p>\n",
              "</div>"
            ],
            "text/plain": [
              "            Tanggal  Bulan  Tahun  HargaJual  HargaBeli  Inflasi  HargaMinyak  \\\n",
              "Date                                                                            \n",
              "2017-01-01        1      1   2017      506.0      546.0     3.49        54.03   \n",
              "2017-01-02        2      1   2017      506.0      546.0     3.49        54.03   \n",
              "2017-01-03        3      1   2017      506.0      546.0     3.49        52.33   \n",
              "2017-01-04        4      1   2017      506.0      546.0     3.49        53.26   \n",
              "2017-01-05        5      1   2017      506.0      546.0     3.49        53.76   \n",
              "...             ...    ...    ...        ...        ...      ...          ...   \n",
              "2021-07-27       27      7   2021      837.0      940.0     1.52        71.65   \n",
              "2021-07-28       28      7   2021      837.0      940.0     1.52        72.39   \n",
              "2021-07-29       29      7   2021      842.0      945.0     1.52        73.62   \n",
              "2021-07-30       30      7   2021      850.0      953.0     1.52        73.95   \n",
              "2021-07-31       31      7   2021      843.0      948.0     1.52        73.95   \n",
              "\n",
              "            KursJual  KursBeli  \n",
              "Date                            \n",
              "2017-01-01    13.552    13.418  \n",
              "2017-01-02    13.552    13.418  \n",
              "2017-01-03    13.552    13.418  \n",
              "2017-01-04    13.545    13.411  \n",
              "2017-01-05    13.437    13.303  \n",
              "...              ...       ...  \n",
              "2021-07-27    14.566    14.422  \n",
              "2021-07-28    14.561    14.417  \n",
              "2021-07-29    14.570    14.426  \n",
              "2021-07-30    14.570    14.426  \n",
              "2021-07-31    14.570    14.426  \n",
              "\n",
              "[1671 rows x 9 columns]"
            ]
          },
          "execution_count": 6,
          "metadata": {},
          "output_type": "execute_result"
        }
      ],
      "source": [
        "fixed_data"
      ]
    },
    {
      "cell_type": "markdown",
      "metadata": {
        "id": "D_xOgbqYO9C7"
      },
      "source": [
        "# Variabel Respon dan Prediktor\n",
        "Variabel respon adalah variabel yang ingin kita prediksi sedangkan variabel prediktor adalah variabel yang mempengaruhi variabel respon. Pada machine learning, kita menggunakan simbol **X** untuk menggambarkan variabel prediktor dan simbol **y** untuk menggambarkan variabel respon.\n",
        "\n",
        "**X yang digunakan adalah**\n",
        "* Harga jual di masa sebelumnya\n",
        "* Harga beli di masa sebelumnya\n",
        "\n",
        "**y yang digunakan adalah**: \n",
        "* Harga Beli di masa mendatang\n",
        "* Harga Jual di masa mendatang"
      ]
    },
    {
      "cell_type": "markdown",
      "metadata": {
        "id": "aJxMxmSMSKPb"
      },
      "source": [
        "**Membuat variabel prediktor**  \n",
        "Variabel prediktor merupakan harga emas pada masa sebelumnya.  \n",
        "[referensi](https://stackoverflow.com/questions/20410312/how-to-create-a-lagged-data-structure-using-pandas-dataframe)\n",
        "\n",
        "**Membuat variabel respon**  \n",
        "Variabel respon merupakan harga emas dimasa mendatang"
      ]
    },
    {
      "cell_type": "code",
      "execution_count": 7,
      "metadata": {
        "id": "9-9fOsixDPWW"
      },
      "outputs": [],
      "source": [
        "def get_variables(df, mode, period=1):\n",
        "    # Copy dataframe supaya tidak menimpa dataframe asli\n",
        "    df = df.copy()\n",
        "    mode = mode.title()\n",
        "\n",
        "    # Tentukan variabel\n",
        "    predictor = df[[\"Inflasi\", \"HargaMinyak\", f\"Kurs{mode}\"]]\n",
        "    respon = df[[f\"Harga{mode}\"]]\n",
        "\n",
        "    # Mundurkan variabel respon ke observasi pada beberapa hari yang lalu\n",
        "    respon = respon.shift(-period)\n",
        "\n",
        "    # Hilangkan missing value\n",
        "    respon = respon.dropna()\n",
        "\n",
        "    # Sejajarkan variabel respon dan prediktor supaya memiliki jumlah observasi yang sama\n",
        "    predictor = predictor.loc[respon.index]\n",
        "    # print(respon.index + pd.Timedelta(days=60))\n",
        "\n",
        "    return predictor, respon\n",
        "\n",
        "\n",
        "\n",
        "X_beli, y_beli = get_variables(fixed_data, \"beli\", period=60)\n",
        "X_jual, y_jual = get_variables(fixed_data, \"jual\", period=60)"
      ]
    },
    {
      "cell_type": "markdown",
      "metadata": {
        "id": "sKUpeqxJDqZZ"
      },
      "source": [
        "#SPLIT DATASET\n",
        "\n",
        "![1-16.png](data:image/png;base64,iVBORw0KGgoAAAANSUhEUgAAAdQAAAC3CAYAAACrMK8sAAAACXBIWXMAAA7EAAAOxAGVKw4bAAAKT2lDQ1BQaG90b3Nob3AgSUNDIHByb2ZpbGUAAHjanVNnVFPpFj333vRCS4iAlEtvUhUIIFJCi4AUkSYqIQkQSoghodkVUcERRUUEG8igiAOOjoCMFVEsDIoK2AfkIaKOg6OIisr74Xuja9a89+bN/rXXPues852zzwfACAyWSDNRNYAMqUIeEeCDx8TG4eQuQIEKJHAAEAizZCFz/SMBAPh+PDwrIsAHvgABeNMLCADATZvAMByH/w/qQplcAYCEAcB0kThLCIAUAEB6jkKmAEBGAYCdmCZTAKAEAGDLY2LjAFAtAGAnf+bTAICd+Jl7AQBblCEVAaCRACATZYhEAGg7AKzPVopFAFgwABRmS8Q5ANgtADBJV2ZIALC3AMDOEAuyAAgMADBRiIUpAAR7AGDIIyN4AISZABRG8lc88SuuEOcqAAB4mbI8uSQ5RYFbCC1xB1dXLh4ozkkXKxQ2YQJhmkAuwnmZGTKBNA/g88wAAKCRFRHgg/P9eM4Ors7ONo62Dl8t6r8G/yJiYuP+5c+rcEAAAOF0ftH+LC+zGoA7BoBt/qIl7gRoXgugdfeLZrIPQLUAoOnaV/Nw+H48PEWhkLnZ2eXk5NhKxEJbYcpXff5nwl/AV/1s+X48/Pf14L7iJIEyXYFHBPjgwsz0TKUcz5IJhGLc5o9H/LcL//wd0yLESWK5WCoU41EScY5EmozzMqUiiUKSKcUl0v9k4t8s+wM+3zUAsGo+AXuRLahdYwP2SycQWHTA4vcAAPK7b8HUKAgDgGiD4c93/+8//UegJQCAZkmScQAAXkQkLlTKsz/HCAAARKCBKrBBG/TBGCzABhzBBdzBC/xgNoRCJMTCQhBCCmSAHHJgKayCQiiGzbAdKmAv1EAdNMBRaIaTcA4uwlW4Dj1wD/phCJ7BKLyBCQRByAgTYSHaiAFiilgjjggXmYX4IcFIBBKLJCDJiBRRIkuRNUgxUopUIFVIHfI9cgI5h1xGupE7yAAygvyGvEcxlIGyUT3UDLVDuag3GoRGogvQZHQxmo8WoJvQcrQaPYw2oefQq2gP2o8+Q8cwwOgYBzPEbDAuxsNCsTgsCZNjy7EirAyrxhqwVqwDu4n1Y8+xdwQSgUXACTYEd0IgYR5BSFhMWE7YSKggHCQ0EdoJNwkDhFHCJyKTqEu0JroR+cQYYjIxh1hILCPWEo8TLxB7iEPENyQSiUMyJ7mQAkmxpFTSEtJG0m5SI+ksqZs0SBojk8naZGuyBzmULCAryIXkneTD5DPkG+Qh8lsKnWJAcaT4U+IoUspqShnlEOU05QZlmDJBVaOaUt2ooVQRNY9aQq2htlKvUYeoEzR1mjnNgxZJS6WtopXTGmgXaPdpr+h0uhHdlR5Ol9BX0svpR+iX6AP0dwwNhhWDx4hnKBmbGAcYZxl3GK+YTKYZ04sZx1QwNzHrmOeZD5lvVVgqtip8FZHKCpVKlSaVGyovVKmqpqreqgtV81XLVI+pXlN9rkZVM1PjqQnUlqtVqp1Q61MbU2epO6iHqmeob1Q/pH5Z/YkGWcNMw09DpFGgsV/jvMYgC2MZs3gsIWsNq4Z1gTXEJrHN2Xx2KruY/R27iz2qqaE5QzNKM1ezUvOUZj8H45hx+Jx0TgnnKKeX836K3hTvKeIpG6Y0TLkxZVxrqpaXllirSKtRq0frvTau7aedpr1Fu1n7gQ5Bx0onXCdHZ4/OBZ3nU9lT3acKpxZNPTr1ri6qa6UbobtEd79up+6Ynr5egJ5Mb6feeb3n+hx9L/1U/W36p/VHDFgGswwkBtsMzhg8xTVxbzwdL8fb8VFDXcNAQ6VhlWGX4YSRudE8o9VGjUYPjGnGXOMk423GbcajJgYmISZLTepN7ppSTbmmKaY7TDtMx83MzaLN1pk1mz0x1zLnm+eb15vft2BaeFostqi2uGVJsuRaplnutrxuhVo5WaVYVVpds0atna0l1rutu6cRp7lOk06rntZnw7Dxtsm2qbcZsOXYBtuutm22fWFnYhdnt8Wuw+6TvZN9un2N/T0HDYfZDqsdWh1+c7RyFDpWOt6azpzuP33F9JbpL2dYzxDP2DPjthPLKcRpnVOb00dnF2e5c4PziIuJS4LLLpc+Lpsbxt3IveRKdPVxXeF60vWdm7Obwu2o26/uNu5p7ofcn8w0nymeWTNz0MPIQ+BR5dE/C5+VMGvfrH5PQ0+BZ7XnIy9jL5FXrdewt6V3qvdh7xc+9j5yn+M+4zw33jLeWV/MN8C3yLfLT8Nvnl+F30N/I/9k/3r/0QCngCUBZwOJgUGBWwL7+Hp8Ib+OPzrbZfay2e1BjKC5QRVBj4KtguXBrSFoyOyQrSH355jOkc5pDoVQfujW0Adh5mGLw34MJ4WHhVeGP45wiFga0TGXNXfR3ENz30T6RJZE3ptnMU85ry1KNSo+qi5qPNo3ujS6P8YuZlnM1VidWElsSxw5LiquNm5svt/87fOH4p3iC+N7F5gvyF1weaHOwvSFpxapLhIsOpZATIhOOJTwQRAqqBaMJfITdyWOCnnCHcJnIi/RNtGI2ENcKh5O8kgqTXqS7JG8NXkkxTOlLOW5hCepkLxMDUzdmzqeFpp2IG0yPTq9MYOSkZBxQqohTZO2Z+pn5mZ2y6xlhbL+xW6Lty8elQfJa7OQrAVZLQq2QqboVFoo1yoHsmdlV2a/zYnKOZarnivN7cyzytuQN5zvn//tEsIS4ZK2pYZLVy0dWOa9rGo5sjxxedsK4xUFK4ZWBqw8uIq2Km3VT6vtV5eufr0mek1rgV7ByoLBtQFr6wtVCuWFfevc1+1dT1gvWd+1YfqGnRs+FYmKrhTbF5cVf9go3HjlG4dvyr+Z3JS0qavEuWTPZtJm6ebeLZ5bDpaql+aXDm4N2dq0Dd9WtO319kXbL5fNKNu7g7ZDuaO/PLi8ZafJzs07P1SkVPRU+lQ27tLdtWHX+G7R7ht7vPY07NXbW7z3/T7JvttVAVVN1WbVZftJ+7P3P66Jqun4lvttXa1ObXHtxwPSA/0HIw6217nU1R3SPVRSj9Yr60cOxx++/p3vdy0NNg1VjZzG4iNwRHnk6fcJ3/ceDTradox7rOEH0x92HWcdL2pCmvKaRptTmvtbYlu6T8w+0dbq3nr8R9sfD5w0PFl5SvNUyWna6YLTk2fyz4ydlZ19fi753GDborZ752PO32oPb++6EHTh0kX/i+c7vDvOXPK4dPKy2+UTV7hXmq86X23qdOo8/pPTT8e7nLuarrlca7nuer21e2b36RueN87d9L158Rb/1tWeOT3dvfN6b/fF9/XfFt1+cif9zsu72Xcn7q28T7xf9EDtQdlD3YfVP1v+3Njv3H9qwHeg89HcR/cGhYPP/pH1jw9DBY+Zj8uGDYbrnjg+OTniP3L96fynQ89kzyaeF/6i/suuFxYvfvjV69fO0ZjRoZfyl5O/bXyl/erA6xmv28bCxh6+yXgzMV70VvvtwXfcdx3vo98PT+R8IH8o/2j5sfVT0Kf7kxmTk/8EA5jz/GMzLdsAAAAgY0hSTQAAeiUAAICDAAD5/wAAgOkAAHUwAADqYAAAOpgAABdvkl/FRgAAC2ZJREFUeNrs3T9onGeCx/Hfm5hF7sJiTDa3IXIRV9Ya2SBxt8s2d4xuuyVgcXIlMWJhHa6R4IrojpBCLgJyt/YVEqPKDjJcu2eRNMuxnAWW8NqVU8RL1ikOsxiuSDgSniscvdFYsq0/I2tG+nxgCksz7zwznvf9zvu874yqUkoJALAnr3kKAEBQAUBQAUBQAQBBBQBBBQBBBQBBBQAEFQAEFQAEFQAEFQAQVAAQVAAQVAAQVABAUAFAUAFAUAFAUAEAQQUAQQUAQQUAQQUABBUABBW60vRCUp26mKqqNl0y+bM9LXtxMalGLmfxfHXgj7ObxgKCCodYaQ6klFJfpuZLqs/O5NSpKlm46QkCkiTHPAWwM3PNZOD165m4cSYjS6O59frtZHzIEwP2UIGdGh9PGr/+IMvLSf5rsu13I9fSNj387J5sdX4lExNVsjyTidVsOY38smVsXNb6dUZGqmRxpe3369O5bdPV1y7vaCyAoMK+GjuepDGb6Xv3krWv6kCNzVf19HCrVfLw9GxGlkbr2JU7Q2m1StKYTetc6utm/k/bXsb69RonhlNat1NKyZnRkt//ZLgey/RCMvHRxbQez9TL6muWVJdm6qi+bCyAoMK+O3s2yZN3c/+NJHf/Ugdq/E7Zek/260+3tdztLGNxMcmJTzP2OPV081wz+dVISQbfSpJcubqSqZM3Mj7/qF7WH99PMrSU6cWZOryAoEJvufNJx5axHvOP/potp4LXgzvwberAJsngYJJv32l7EwAIKhxZg4PJ1G8u5GHGUk2ObjrGeu+7JA/utx0XrY+Prg57AukZba9dQe3dJwde5O7dJG98njNPkpz9af3z45Ptr/PlSzt/rW9nGXPNpHxxPX3NkocPk2pydNNnSTceF914uXWrODOZnojpi/59pIPaa08OvMiNr5Msz2RuYCAZfCtra0k1fDNvflalzC/V8WpcLdte5m6W8fX802jm3O16Cnjg9SSnz/hP4tBH9kgGVTw5TNbWkuXFm2k0kvxivm2P9cMfJ2le2NNe726W0Tf4wx7n+jHWGyey6aM0IKo9HFQx5TCZXkjOvXcx/f8zmlujS/XU6VYRm15Ilj++uGkZzwvedpcxvZCc3PC508XF5JsvL+e9k0nO/bw+xrr8YCzT14bbzug9Ppm2qWHxpVuVUnpuwPsqyXMv0M2m5ktJ/9jWr92rs1veptUqJY3Z+nqNRkr5/melOfDC664vc7vL6Gu2r19TQyll9dEL7yNJaZ3LS8f9vMcHB6FXGlKVfXwL8KI905575wFA103zdlNLXnvVD15MAXgVrTk0QRVTAF5FO7olqvsS1F7YNQdAVLs6qM7oBeAoRrWjQXXcFICjGtWOBVVMATjKUT22XxHtpt1wAOjaPVSRBKBbHUSj/Pk2ABBUAOjxoDrRCIBudRCNOrbXAfsSBwBepW7tzp6nfJ/3AJy0BMBRiWlHgrqbBw4Ah60pHQlqL3xpMQCHU7ccYnztVTwgUQVgP/ZOD+3fQ3UiEgBHMaYdD+qLHqC9VAAOs305KUlUAThKe6f7FtTdPDkA0Ksx3degOp4KwFGyr3uoogrAUenKa6/6wYssAIexH1VROADo/j1UABBUAEBQAUBQAUBQAUBQAQBBBQBBBQBBBQBBBQAEFQAEFQAEFQA41smFPe+vqwPAQXlVf1TNHioACCoACCoACCoA8INj+30Hr+pgMNC7tjqh0baDTr2W7KECQA8RVAAQVAAQVAAQVABAUAFAUAFAUAFAUAEAQQUAQQUAQQUAQQUABBUABBUABBUABBUAEFQAEFQAEFQAEFQAQFABQFA5OMcnk6qqksmfHcjtoVdUI5dTVdULLyMjVbK40rH7XFx8er+L56tt32Z6IalOXWwb127Xz93cv6BypFfaXmbjwatSbn2QUkpKKVldLcnQUqaGkrL6qP75rVslGR86sDGOXEuuTFYpf3+/bazVvX/zpldQrbT7vdJ+PZ+UUpL5Px3I7W08oDPW1pLlxZtpNJL8Yr7++eBgUm5fOJB1VFDBxgP2bH3Go2325NrlTderzq9sOftUnV/JxESVLM9kYjUvnYG5ezfJG5/nzJMkZ3+65/Ht9P4FlZ52fDLfr4A/rBjTw1Wy9lW9B7dxZTl1qkoWbm7ay3t2RTo+mfq6z1vZO3X7rcb5sg2QjQfdbnohmfjoYlqPZ+rZk75mSXVpZtPrrnFiOKV1O6WUnBkt+f1PhpO1r1LuDKXVKkljNq1zqZfzvDeL4+NJHv9Drqwk+d0/7nl8O71/QaXnPXiQVBMXU97+JKWUzN0uyeBbqc6vZGy+qleCVqvk4enZjCyNbuv468OHSTU5mjI4WU+lLj9ZysiN4Y7efuRasnypSmkO1ONMYzaNRlJat5PffmDjQc+5cnUlUydvZHz+Uf2zP76fZGgp04szydpXWVxMcuLTjD1OfQhnrpn8auTpOrwbrX8eShqzqRbuvfAN4XbGh6AeOQ8fJq1zNzZt+MudoYzfKW0Bavz6gywvJ/n6020tuzQH6uUODiaN8Qsdvf36tO3UUJL3/7MeZ9/bH+TBgyTf/dnGg56zHsqBb9MWxsHBJN++k/tvJLn7l5w9m+TJu/nor9k0c7Rb4+NPz8Poaz5d97daN7Y7PgT1yOnvT8YvLe3sRnc+2d71zv9T2z/P/ChJ/9i+3/6X55++Ucj/fW7jQc+5912SB/fbDh3UhxBWh9teg1O/uZCHGUs1ObrlIZndWj9ZcGq+JP1jqRbu1Wevb3d8CCqHwB/uPH2jkB+9a+NBz9p46GDjZeNZ+nPNpHxxPX3NUh8m6eTHtuaayep/XE+GljbtCW9nfAgq31v/0oX1y/Kl7vp85fo08JWVJP+9WO9RfvPl5bx3Msm5n9t40HMGXk9y+syu9ihz7nZHp4A3zsbsZXwI6pG1tpZUwzfz5mdVyvxSHY/G1dJ141xevJn+JNXH91NVVSYmqrQez9QnV9l40GvWj43eOJEdfwFL3+DQvqxnOfbnnD6d5PV39jQ+BPXIWf9IyYc/TtK80PXj/KI5kPLF9Tr8G0+msvGg16wfG11+MJbpa8NtJ70dn0w9pTu9kJzc8FGyrWZndvL6Xf/WsGc/avZ3v0uyMppbbw8k40PbHt9e3xwIKof2HfL0QrL88cWuHOf6yUQbLxs/T2vjQa+ZayatD6/nyhuzqc79Tf26vrZW1W8Y55rJ/75dUk0M17MzU09mMvfvj+rZmcHBpPXbC1nObH295302e66ZNP7leqpLM23r0i+/rJ5+BG3DJwG2M76d3v+RVjooyaYLe7e6WkqGlsrUUEpZfbTp933NUvr7U8r80qbftVqlpDFb/380Ginl+5+V5kB9vcbVp/9/5eps23Kf/VkppUzNl5L+sY7evq9ZNj2+9bE/73E/e98bL08f5+2XPh9JSutcXnq9Zx8DnWXbwWF4LVXfD6AjqqraKtjetfBC9Zc6XJ3d9AUOxyeTNz+r8sW/LnX1tDW2HXgtmfLlwP3hzvN/982aKVegNwgqB+7S3ybpH9v0bUUj15KsDnf9SVUASWLKl66wuJhM3LicLM+0v362mAbmEG6IbDs4BK8lQQUEFa+lDjDlCwCCCgCCCgCCCgAIKgAIKgAIKgAIKgAgqAAgqAAgqAAgqACAoAKAoAKAoAKAoAIAggoAggoAggoAggoA7Nyx/b6Dqqo8y4BtB/ZQAQBBBQBBBQBBBYAjpKMnJZVSPKPArmw8Ccm2hCMfVABvyDmqTPkCgKACgKACgKACAIIKAIIKAIIKAIIKAAgqAAgqAAgqAAgqACCoACCoACCoACCoAICgAoCgAoCgAoCgAgCCCgCCCgCCCgCCCgAIKgAIKgAIKgAgqAAgqAAgqAAgqACAoAJAp/3/ALv7tCZ4f26OAAAAAElFTkSuQmCC)\n",
        "\n",
        "Split data dilakukan untuk membagi data menjadi data latih dan data uji. Data latih merupakan data yang akan digunakan dalam pembentukan model (proses training) sedangkan data uji digunakan untuk melakukan pengujian hasil klasifikasi dari model yang telah dibuat."
      ]
    },
    {
      "cell_type": "code",
      "execution_count": 8,
      "metadata": {
        "id": "GZQ821evDX1I"
      },
      "outputs": [],
      "source": [
        "# test_size = float(input(\"Masukkan proporsi jumlah data test (0.1 - 0.9)\".ljust(70)))\n",
        "\n",
        "# Split Data Harga Beli\n",
        "X_beli_train, X_beli_test,\\\n",
        "y_beli_train, y_beli_test = train_test_split(X_beli, y_beli, test_size=0.2, random_state=42)\n",
        "\n",
        "# Split Data Harga Jual\n",
        "X_jual_train, X_jual_test,\\\n",
        "y_jual_train, y_jual_test = train_test_split(X_jual, y_jual, test_size=0.2, random_state=42)"
      ]
    },
    {
      "cell_type": "code",
      "execution_count": 9,
      "metadata": {
        "colab": {
          "base_uri": "https://localhost:8080/"
        },
        "id": "fmVDlBVM_GnB",
        "outputId": "fea33127-cf5b-4d66-cdb9-ec80b1b7b752"
      },
      "outputs": [
        {
          "name": "stdout",
          "output_type": "stream",
          "text": [
            "Train shape:  (1288, 3)\n",
            "Test shape:  (323, 3)\n"
          ]
        }
      ],
      "source": [
        "print(\"Train shape: \", X_beli_train.shape)\n",
        "print(\"Test shape: \", X_beli_test.shape)"
      ]
    },
    {
      "cell_type": "code",
      "execution_count": 10,
      "metadata": {
        "id": "9N7bmBwQc-1p"
      },
      "outputs": [],
      "source": [
        "scaler_beli_x = MinMaxScaler().fit(X_beli_train)\n",
        "scaler_beli_y = MinMaxScaler().fit(y_beli_train)\n",
        "scaler_jual_x = MinMaxScaler().fit(X_jual_train)\n",
        "scaler_jual_y = MinMaxScaler().fit(y_jual_train)\n",
        "\n",
        "X_beli_train[:] = scaler_beli_x.transform(X_beli_train)\n",
        "X_beli_test[:] = scaler_beli_x.transform(X_beli_test)\n",
        "y_beli_train[:] = scaler_beli_y.transform(y_beli_train)\n",
        "y_beli_test[:] = scaler_beli_y.transform(y_beli_test)\n",
        "\n",
        "X_jual_train[:] = scaler_jual_x.transform(X_jual_train)\n",
        "X_jual_test[:] = scaler_jual_x.transform(X_jual_test)\n",
        "y_jual_train[:] = scaler_jual_y.transform(y_jual_train)\n",
        "y_jual_test[:] = scaler_jual_y.transform(y_jual_test)"
      ]
    },
    {
      "cell_type": "markdown",
      "metadata": {
        "id": "Uo3ZnPPuE9SQ"
      },
      "source": [
        "#Training Model\n",
        "\n",
        "Pada proses training, akan dilakukan perhitungan sesuai dengan rumus multiple linear regression:\n",
        "![simple-linear-formula.jpg](data:image/jpeg;base64,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)\n",
        "\n",
        "Pada proses ini, data yang diwakili oleh X_train dan target yang diwakili oleh y_train akan dilatih ke-dalam model"
      ]
    },
    {
      "cell_type": "code",
      "execution_count": 11,
      "metadata": {
        "id": "ztFHOYeLDjbe"
      },
      "outputs": [],
      "source": [
        "# Buat Model\n",
        "linreg_beli = LinearRegression()\n",
        "linreg_jual = LinearRegression()\n",
        "\n",
        "# Fit data ke dalam model\n",
        "linreg_beli.fit(X_beli_train, y_beli_train)\n",
        "linreg_jual.fit(X_jual_train, y_jual_train)\n",
        "\n",
        "# Prediksi\n",
        "predictions_beli = linreg_beli.predict(X_beli_test)\n",
        "predictions_jual = linreg_jual.predict(X_jual_test)"
      ]
    },
    {
      "cell_type": "markdown",
      "metadata": {
        "id": "_0rVjnJdZo0S"
      },
      "source": [
        "#Cek metrik pengukuran\n",
        "\n",
        "dalam pengukuran ini, matriks yang digunakan berupa $R^{2} score$ dan $MSE$. Selain itu juga dilakukan pengecekan coefficient dan intersep.\n",
        "\n",
        "Rumus untuk menghitung R2 Score adalah:\n",
        "\n",
        "$$R^{2}=1 - \\frac{RSS}{TSS}$$\n",
        "\n",
        "sedangkan nilai $MSE$ didapatkan dengan rumus:\n",
        "\n",
        "$$MSE=\\frac{1}{N}.\\Sigma_{i=1}^{N}(y - \\hat{y})^{2}$$"
      ]
    },
    {
      "cell_type": "markdown",
      "metadata": {
        "id": "kLPbntAMfZlg"
      },
      "source": [
        "**Harga Beli**"
      ]
    },
    {
      "cell_type": "code",
      "execution_count": 12,
      "metadata": {
        "colab": {
          "base_uri": "https://localhost:8080/"
        },
        "id": "3mslqH4DZmqj",
        "outputId": "0966a156-8b09-4988-a93c-c5ec119376cb"
      },
      "outputs": [
        {
          "name": "stdout",
          "output_type": "stream",
          "text": [
            "R2 Score : 0.8100490073315157\n",
            "MSE : 0.017238298665782758\n",
            "RMSE : 0.13129470159066875\n",
            "Coeeficient : [[-0.82566383 -0.49244331  0.24094305]]\n",
            "Intercept : [1.06782949]\n"
          ]
        }
      ],
      "source": [
        "print(\"R2 Score :\", r2_score(y_beli_test, predictions_beli))\n",
        "print(\"MSE :\", mean_squared_error(y_beli_test, predictions_beli))\n",
        "print(\"RMSE :\", mean_squared_error(y_beli_test, predictions_beli, squared=False))\n",
        "print(\"Coeeficient :\", linreg_beli.coef_)\n",
        "print(\"Intercept :\", linreg_beli.intercept_)"
      ]
    },
    {
      "cell_type": "markdown",
      "metadata": {
        "id": "mM4nOpqWffVM"
      },
      "source": [
        "**Harga Jual**"
      ]
    },
    {
      "cell_type": "code",
      "execution_count": null,
      "metadata": {
        "colab": {
          "base_uri": "https://localhost:8080/"
        },
        "id": "ikFIRwcSfig8",
        "outputId": "7343ad6b-531b-41f5-fff3-e12a698e17c3"
      },
      "outputs": [
        {
          "name": "stdout",
          "output_type": "stream",
          "text": [
            "R2 Score : 0.7787739667231445\n",
            "MSE : 0.017960284473120557\n",
            "RMSE : 0.13401598588646266\n",
            "Coeficient : [[-0.78842332 -0.4888515   0.16109534]]\n",
            "Intercept : [1.03789312]\n"
          ]
        }
      ],
      "source": [
        "print(\"R2 Score :\", r2_score(y_jual_test, predictions_jual))\n",
        "print(\"MSE :\", mean_squared_error(y_jual_test, predictions_jual))\n",
        "print(\"RMSE :\", mean_squared_error(y_jual_test, predictions_jual, squared=False))\n",
        "print(\"Coeficient :\", linreg_jual.coef_)\n",
        "print(\"Intercept :\", linreg_jual.intercept_)"
      ]
    },
    {
      "cell_type": "code",
      "execution_count": null,
      "metadata": {
        "id": "4Q2M-xYDGszN"
      },
      "outputs": [],
      "source": [
        "# filename = 'finalized_model.sav'\n",
        "# pickle.dump(linmodel, open(filename, 'wb'))\n",
        "# predictions_df.tofile('predictions.csv',sep=',',format='%10.5f')"
      ]
    },
    {
      "cell_type": "markdown",
      "metadata": {
        "id": "Xdl8hFT2GTt1"
      },
      "source": [
        "# Algoritma Genetika"
      ]
    },
    {
      "cell_type": "markdown",
      "metadata": {
        "id": "S2Y3dy8pa33H"
      },
      "source": [
        "## Tahap Pertama, membuat populasi\n",
        "\n",
        "Pada tahap ini, akan dilakukan inisiasi kromosom pada populasi awal, kromosom yang digunakan berjenis *real-coded genetic algorithm*. Pembantukan dilakukan dengan membangkitkan nilai acak pada interval [-1, 1]."
      ]
    },
    {
      "cell_type": "code",
      "execution_count": 13,
      "metadata": {
        "id": "9JjHcSYma3jr"
      },
      "outputs": [],
      "source": [
        "def create_population(size, n_feat):\n",
        "    population = np.random.uniform(low=-1., high=1., size=(size, n_feat + 1))\n",
        "    return population"
      ]
    },
    {
      "cell_type": "code",
      "execution_count": 16,
      "metadata": {
        "colab": {
          "base_uri": "https://localhost:8080/"
        },
        "id": "pYmZVRvciZ0T",
        "outputId": "d73bb901-1afd-499d-80e4-774f17a60ecb"
      },
      "outputs": [
        {
          "data": {
            "text/plain": [
              "array([[-0.78200704, -0.05535483,  0.76945772,  0.72513198],\n",
              "       [-0.76221562, -0.6565608 , -0.75804021,  0.45683062],\n",
              "       [-0.36717917,  0.42727895, -0.4593668 ,  0.76728269],\n",
              "       [-0.49350826, -0.20501652, -0.11616748, -0.40618901],\n",
              "       [ 0.51847404,  0.68400258, -0.65776104, -0.45828764],\n",
              "       [-0.60185005,  0.74744823, -0.16247678,  0.02999535],\n",
              "       [-0.84166067,  0.087247  , -0.7401943 ,  0.61996332],\n",
              "       [ 0.0150932 , -0.51334138, -0.92469404,  0.22848847],\n",
              "       [ 0.1197246 ,  0.04659341, -0.08663596,  0.39913802],\n",
              "       [ 0.869889  , -0.31765451, -0.36603374,  0.4698915 ]])"
            ]
          },
          "execution_count": 16,
          "metadata": {},
          "output_type": "execute_result"
        }
      ],
      "source": [
        "population = create_population(10, X_beli_train.shape[1])  # uji coba\n",
        "population"
      ]
    },
    {
      "cell_type": "code",
      "execution_count": 17,
      "metadata": {},
      "outputs": [],
      "source": [
        "pd.DataFrame(population).to_excel(\"population_ori.xlsx\")"
      ]
    },
    {
      "cell_type": "markdown",
      "metadata": {
        "id": "zaf1jfP5p94h"
      },
      "source": [
        "## Mencari Nilai Fitness\n",
        "\n",
        "Pada Prosess Fitness, akan dilakukan perhitungan Skor pada setiap MLR dengan kromosom yang telah dibentuk, setiap kromosom yang terbentuk pada proses training akan dicari nilai fitness dengan rumus: \n",
        "\n",
        "$$Fitness = \\frac{1}{MSE}$$"
      ]
    },
    {
      "cell_type": "code",
      "execution_count": 18,
      "metadata": {
        "id": "3Zfq_KruH37w"
      },
      "outputs": [],
      "source": [
        "def get_fitness(model, population, X_train, y_train):\n",
        "    constant = np.ones(shape=(X_train.shape[0], 1))\n",
        "    X_train = np.concatenate((constant, X_train), axis=1)\n",
        "    \n",
        "    # Lakukan prediksi dengan melakukan perkalian matriks antara koefisien dan data\n",
        "    predictions = np.matmul(X_train, population.T)\n",
        "    \n",
        "    # Hitung nilai fitness\n",
        "    mse = np.mean((predictions - np.array(y_train))**2, axis=0)\n",
        "    fitness = 1 / mse\n",
        "\n",
        "    # urutkan dari terbesar -> terkecil\n",
        "    inds = np.argsort(fitness)[::-1]  \n",
        "\n",
        "    return population[inds], fitness[inds]"
      ]
    },
    {
      "cell_type": "code",
      "execution_count": 45,
      "metadata": {
        "id": "32eBisNzIEst"
      },
      "outputs": [],
      "source": [
        "linreg = LinearRegression()\n",
        "population_sorted, fitness = get_fitness(linreg, population, X_beli_train, y_beli_train)"
      ]
    },
    {
      "cell_type": "code",
      "execution_count": 46,
      "metadata": {
        "colab": {
          "base_uri": "https://localhost:8080/"
        },
        "id": "kPdtg78x-J5E",
        "outputId": "7dbefc74-6fc5-4ca6-b827-4ca2ea5b7f58"
      },
      "outputs": [
        {
          "data": {
            "text/plain": [
              "(array([[ 0.1197246 ,  0.04659341, -0.08663596,  0.39913802],\n",
              "        [ 0.51847404,  0.68400258, -0.65776104, -0.45828764],\n",
              "        [-0.78200704, -0.05535483,  0.76945772,  0.72513198],\n",
              "        [-0.36717917,  0.42727895, -0.4593668 ,  0.76728269],\n",
              "        [-0.60185005,  0.74744823, -0.16247678,  0.02999535],\n",
              "        [ 0.0150932 , -0.51334138, -0.92469404,  0.22848847],\n",
              "        [-0.49350826, -0.20501652, -0.11616748, -0.40618901],\n",
              "        [-0.76908806, -0.31765451, -0.36603374,  0.4698915 ],\n",
              "        [-0.84166067,  0.087247  , -0.7401943 ,  0.61996332],\n",
              "        [-0.76221562, -0.6565608 , -0.75804021,  0.45683062]]),\n",
              " array([8.59197042, 3.9143289 , 2.81407333, 1.93482616, 1.3456395 ,\n",
              "        0.70292372, 0.68286799, 0.47847952, 0.4277397 , 0.2872693 ]))"
            ]
          },
          "execution_count": 46,
          "metadata": {},
          "output_type": "execute_result"
        }
      ],
      "source": [
        "population_sorted, fitness"
      ]
    },
    {
      "cell_type": "code",
      "execution_count": 47,
      "metadata": {},
      "outputs": [],
      "source": [
        "pd.DataFrame(population_sorted).to_excel(\"population_sorted.xlsx\")\n",
        "pd.DataFrame(fitness).to_excel(\"fitness_sorted.xlsx\")"
      ]
    },
    {
      "cell_type": "markdown",
      "metadata": {},
      "source": [
        "## Ellitism"
      ]
    },
    {
      "cell_type": "code",
      "execution_count": 63,
      "metadata": {},
      "outputs": [
        {
          "data": {
            "text/plain": [
              "array([[ 0.1197246 ,  0.51653225, -0.08663596,  0.1418975 ],\n",
              "       [ 0.51847404,  0.68400258, -0.65776104, -0.45828764]])"
            ]
          },
          "execution_count": 63,
          "metadata": {},
          "output_type": "execute_result"
        }
      ],
      "source": [
        "next_gen = population_sorted[:2]\n",
        "next_gen"
      ]
    },
    {
      "cell_type": "code",
      "execution_count": 64,
      "metadata": {},
      "outputs": [],
      "source": [
        "pd.DataFrame(next_gen).to_excel(\"ellisitm.xlsx\")"
      ]
    },
    {
      "cell_type": "markdown",
      "metadata": {
        "id": "aR0ZhiKjqS8y"
      },
      "source": [
        "## Seleksi\n",
        "\n",
        "Pada tahap ini akan dipilih populasi-populasi yang unggul berdasarkan skor fitness yang didapatkan pada proses sebelumnya, disini kromosom akan diseleksi secara acak berdasarkan nilai fitnessnya, semakin tinggi nilainya semakin tinggi kemungkinan dipilihnya. Kemudian akan dilanjutkan pada tahap cross over atau kawin silang."
      ]
    },
    {
      "cell_type": "code",
      "execution_count": 22,
      "metadata": {
        "id": "TYOEjA9rqVlr"
      },
      "outputs": [],
      "source": [
        "def selection_pair(population, fitness):\n",
        "    length = len(population)\n",
        "    probabilities = fitness / np.sum(fitness)\n",
        "    chromosome_index = np.arange(length)\n",
        "    selection_index = np.random.choice(chromosome_index, size=2, p=probabilities)\n",
        "    return population[selection_index]"
      ]
    },
    {
      "cell_type": "code",
      "execution_count": 60,
      "metadata": {},
      "outputs": [
        {
          "data": {
            "text/plain": [
              "4"
            ]
          },
          "execution_count": 60,
          "metadata": {},
          "output_type": "execute_result"
        }
      ],
      "source": [
        "selection_len = (len(population) - 2) // 2\n",
        "selection_len"
      ]
    },
    {
      "cell_type": "code",
      "execution_count": 53,
      "metadata": {
        "colab": {
          "base_uri": "https://localhost:8080/"
        },
        "id": "jUiKaqkGlPVo",
        "outputId": "84ea1368-3677-4236-8e57-dc83896aa843"
      },
      "outputs": [
        {
          "data": {
            "text/plain": [
              "array([[ 0.1197246 ,  0.51653225, -0.08663596,  0.1418975 ],\n",
              "       [ 0.1197246 ,  0.51653225, -0.08663596,  0.1418975 ]])"
            ]
          },
          "execution_count": 53,
          "metadata": {},
          "output_type": "execute_result"
        }
      ],
      "source": [
        "selections = selection_pair(population_sorted, fitness)\n",
        "selections"
      ]
    },
    {
      "cell_type": "code",
      "execution_count": 62,
      "metadata": {},
      "outputs": [
        {
          "data": {
            "text/plain": [
              "array([[ 0.51847404,  0.68400258, -0.65776104, -0.45828764],\n",
              "       [ 0.1197246 ,  0.51653225, -0.08663596,  0.1418975 ],\n",
              "       [-0.60185005,  0.74744823, -0.16247678,  0.02999535],\n",
              "       [ 0.51847404,  0.68400258, -0.65776104, -0.45828764],\n",
              "       [-0.78200704, -0.05535483,  0.76945772,  0.72513198],\n",
              "       [ 0.51847404,  0.68400258, -0.65776104, -0.45828764],\n",
              "       [ 0.1197246 ,  0.51653225, -0.08663596,  0.1418975 ],\n",
              "       [-0.78200704, -0.05535483,  0.76945772,  0.72513198]])"
            ]
          },
          "execution_count": 62,
          "metadata": {},
          "output_type": "execute_result"
        }
      ],
      "source": [
        "selections_full = np.vstack(\n",
        "    selection_pair(population_sorted, fitness) for i in range(selection_len)\n",
        ")"
      ]
    },
    {
      "cell_type": "code",
      "execution_count": 30,
      "metadata": {},
      "outputs": [],
      "source": [
        "pd.DataFrame(selections).to_excel(\"selection.xlsx\")"
      ]
    },
    {
      "cell_type": "markdown",
      "metadata": {
        "id": "l0FkPJtISQVy"
      },
      "source": [
        "## Cross Over\n",
        "Cross over dilakukan dengan proses perhitungan aritmetika antara dua parents dengan menggunakan rumus:\n",
        "\n",
        "$$child = \\alpha . \\bar{x} + (1 - \\alpha) . \\bar{y}$$\n",
        "\n",
        "Dimana $\\bar{x}$ dan $\\bar{y}$ merupakan nilai gen dari dua parents yang berbeda, dan juga $\\alpha$ adalah variabel pengali yang berkisar antara 0 - 1."
      ]
    },
    {
      "cell_type": "code",
      "execution_count": 25,
      "metadata": {
        "id": "i1CxMoCiqfBD"
      },
      "outputs": [],
      "source": [
        "def crossover(chrom1, chrom2, alpha=0.4, crossover_rate=0.9):\n",
        "    odds = np.random.random()\n",
        "        \n",
        "    if odds < crossover_rate:\n",
        "        chrom1 = alpha * chrom1 + (1 - alpha) * chrom2\n",
        "        chrom2 =  alpha * chrom2 + (1 - alpha) * chrom1\n",
        "\n",
        "    return chrom1, chrom2"
      ]
    },
    {
      "cell_type": "code",
      "execution_count": 26,
      "metadata": {
        "colab": {
          "base_uri": "https://localhost:8080/"
        },
        "id": "sCBBCWXFmyv8",
        "outputId": "18b9520f-ecf2-45a2-bfe8-8234b1c990c8"
      },
      "outputs": [
        {
          "data": {
            "text/plain": [
              "(array([ 0.869889  , -0.31765451, -0.36603374,  0.4698915 ]),\n",
              " array([ 0.1197246 ,  0.04659341, -0.08663596,  0.39913802]))"
            ]
          },
          "execution_count": 26,
          "metadata": {},
          "output_type": "execute_result"
        }
      ],
      "source": [
        "crossover_pop = crossover(selections_full[0], selections_full[1])\n",
        "crossover_pop"
      ]
    },
    {
      "cell_type": "code",
      "execution_count": 65,
      "metadata": {},
      "outputs": [],
      "source": [
        "crossover_full = np.vstack(\n",
        "    [crossover(selections_full[i], selections_full[i + 1]) for i in range(len(selections_full) // 2)]\n",
        ")\n",
        "pd.DataFrame(crossover_full).to_excel(\"crossover.xlsx\")"
      ]
    },
    {
      "cell_type": "markdown",
      "metadata": {
        "id": "F2h-OyU9qjjU"
      },
      "source": [
        "## Mutasi\n",
        "Mutasi dilakukan dengan memilih $n$ gen pada kromosom secara acak lalu gen-gen yang terpilih, akan di setel ulang dengan angka pada interval [-1, 1]. Jumlah gen yang dipilih adalah $N \\times Mr$, dimana $N$ adalah jumlah seluruh gen pada kromosom dan $Mr$ adalah mutation rate."
      ]
    },
    {
      "cell_type": "code",
      "execution_count": 33,
      "metadata": {
        "id": "FgDyYiHbqi7p"
      },
      "outputs": [],
      "source": [
        "def mutation(chrom, mutation_rate=0.9):\n",
        "    length = len(chrom)\n",
        "    mutation_size = int(mutation_rate * length)\n",
        "    \n",
        "    random_gene = np.random.randint(0, length, size=mutation_size)\n",
        "    mutated_gene = np.random.uniform(-1., 1., size=mutation_size)\n",
        "    chrom[random_gene] = mutated_gene\n",
        "\n",
        "    return chrom"
      ]
    },
    {
      "cell_type": "code",
      "execution_count": 66,
      "metadata": {
        "colab": {
          "base_uri": "https://localhost:8080/"
        },
        "id": "2YURmHb1nxLi",
        "outputId": "f725adac-ec2a-494a-e169-d5f32f350915"
      },
      "outputs": [
        {
          "data": {
            "text/plain": [
              "array([ 0.27922437,  0.58352039, -0.31508599,  0.34322898])"
            ]
          },
          "execution_count": 66,
          "metadata": {},
          "output_type": "execute_result"
        }
      ],
      "source": [
        "mutated_pop = mutation(crossover_full[0])\n",
        "mutated_pop"
      ]
    },
    {
      "cell_type": "code",
      "execution_count": 67,
      "metadata": {},
      "outputs": [
        {
          "data": {
            "text/plain": [
              "array([[ 0.27922437,  0.27973552,  0.71297713,  0.32881261],\n",
              "       [-0.03259659,  0.57107097, -0.22370598, -0.00214693],\n",
              "       [ 0.02731832, -0.80646478, -0.96498046,  0.07475621],\n",
              "       [-0.42867214, -0.3313418 , -0.8550967 , -0.97067904],\n",
              "       [ 0.64858794,  0.70938084, -0.42094073, -0.26297444],\n",
              "       [-0.73037898,  0.9620931 ,  0.21532993, -0.34109972],\n",
              "       [-0.45042773,  0.24038813, -0.7070951 ,  0.25176413],\n",
              "       [-0.46989158,  0.00117999,  0.42692522, -0.11966728]])"
            ]
          },
          "execution_count": 67,
          "metadata": {},
          "output_type": "execute_result"
        }
      ],
      "source": [
        "mutation_full = np.vstack(\n",
        "    [mutation(crossover_full[i]) for i in range(len(crossover_full))]\n",
        ")\n",
        "mutation_full"
      ]
    },
    {
      "cell_type": "code",
      "execution_count": 68,
      "metadata": {},
      "outputs": [],
      "source": [
        "pd.DataFrame(mutation_full).to_excel(\"mutation.xlsx\")"
      ]
    },
    {
      "cell_type": "markdown",
      "metadata": {},
      "source": [
        "## Perbarui Populasi"
      ]
    },
    {
      "cell_type": "code",
      "execution_count": 69,
      "metadata": {},
      "outputs": [
        {
          "data": {
            "text/plain": [
              "array([[ 0.1197246 ,  0.51653225, -0.08663596,  0.1418975 ],\n",
              "       [ 0.51847404,  0.68400258, -0.65776104, -0.45828764],\n",
              "       [ 0.27922437,  0.27973552,  0.71297713,  0.32881261],\n",
              "       [-0.03259659,  0.57107097, -0.22370598, -0.00214693],\n",
              "       [ 0.02731832, -0.80646478, -0.96498046,  0.07475621],\n",
              "       [-0.42867214, -0.3313418 , -0.8550967 , -0.97067904],\n",
              "       [ 0.64858794,  0.70938084, -0.42094073, -0.26297444],\n",
              "       [-0.73037898,  0.9620931 ,  0.21532993, -0.34109972],\n",
              "       [-0.45042773,  0.24038813, -0.7070951 ,  0.25176413],\n",
              "       [-0.46989158,  0.00117999,  0.42692522, -0.11966728]])"
            ]
          },
          "execution_count": 69,
          "metadata": {},
          "output_type": "execute_result"
        }
      ],
      "source": [
        "new_population = np.concatenate([next_gen, mutation_full])\n",
        "new_population"
      ]
    },
    {
      "cell_type": "code",
      "execution_count": 70,
      "metadata": {},
      "outputs": [],
      "source": [
        "pd.DataFrame(new_population).to_excel(\"new_population.xlsx\")"
      ]
    },
    {
      "cell_type": "markdown",
      "metadata": {},
      "source": [
        "## Menghitung Fitness"
      ]
    },
    {
      "cell_type": "code",
      "execution_count": 73,
      "metadata": {},
      "outputs": [
        {
          "data": {
            "text/plain": [
              "(array([[ 0.1197246 ,  0.51653225, -0.08663596,  0.1418975 ],\n",
              "        [ 0.51847404,  0.68400258, -0.65776104, -0.45828764],\n",
              "        [-0.03259659,  0.57107097, -0.22370598, -0.00214693],\n",
              "        [ 0.64858794,  0.70938084, -0.42094073, -0.26297444],\n",
              "        [-0.46989158,  0.00117999,  0.42692522, -0.11966728],\n",
              "        [ 0.27922437,  0.27973552,  0.71297713,  0.32881261],\n",
              "        [-0.73037898,  0.9620931 ,  0.21532993, -0.34109972],\n",
              "        [-0.45042773,  0.24038813, -0.7070951 ,  0.25176413],\n",
              "        [ 0.02731832, -0.80646478, -0.96498046,  0.07475621],\n",
              "        [-0.42867214, -0.3313418 , -0.8550967 , -0.97067904]]),\n",
              " array([5.69118025, 3.9143289 , 3.68395638, 3.17452323, 1.99511833,\n",
              "        1.93957603, 1.42175601, 0.74364146, 0.51464689, 0.29589072]))"
            ]
          },
          "execution_count": 73,
          "metadata": {},
          "output_type": "execute_result"
        }
      ],
      "source": [
        "new_population_sorted, new_fitness = get_fitness(linreg, new_population, X_beli_train, y_beli_train)\n",
        "new_population_sorted, new_fitness"
      ]
    },
    {
      "cell_type": "code",
      "execution_count": 74,
      "metadata": {},
      "outputs": [],
      "source": [
        "pd.DataFrame(new_population_sorted).to_excel(\"new_population_sorted.xlsx\")\n",
        "pd.DataFrame(new_fitness).to_excel(\"new_fitness_sorted.xlsx\")"
      ]
    },
    {
      "cell_type": "markdown",
      "metadata": {},
      "source": [
        "## Kromosom Terbaik"
      ]
    },
    {
      "cell_type": "code",
      "execution_count": 75,
      "metadata": {},
      "outputs": [
        {
          "data": {
            "text/plain": [
              "(array([ 0.1197246 ,  0.51653225, -0.08663596,  0.1418975 ]),\n",
              " 5.691180253606159)"
            ]
          },
          "execution_count": 75,
          "metadata": {},
          "output_type": "execute_result"
        }
      ],
      "source": [
        "best_chrom = new_population_sorted[0]\n",
        "best_fitness = new_fitness[0]\n",
        "\n",
        "best_chrom, best_fitness"
      ]
    },
    {
      "cell_type": "markdown",
      "metadata": {
        "id": "pddLgw7Kqqw0"
      },
      "source": [
        "## Iterasi\n",
        "\n",
        "Pada tiap iterasi, akan dilakukan proses genetika yang berulang untuk mendapatkan kromosom terbaik serta hasil skor yang terbaik, kromosom terbaik akan digunakan untuk mekanisme pembentukan model selanjutnya."
      ]
    },
    {
      "cell_type": "code",
      "execution_count": null,
      "metadata": {
        "id": "hP0pQua4RiWI"
      },
      "outputs": [],
      "source": [
        "def generations(size, n_feat, n_gen, X_train, y_train, crossover_rate=0.9, mutation_rate=0.5):\n",
        "    print(\"START\")\n",
        "    # Inisiasi model regresi\n",
        "    linreg = LinearRegression()\n",
        "\n",
        "    # Bangkitkan kromosom secara acak\n",
        "    population = create_population(size, n_feat)\n",
        "\n",
        "    for i in range(n_gen):\n",
        "        # Hitung skor fitness masing-masing kromosom\n",
        "        population, fitness = get_fitness(linreg, population, X_train, y_train)\n",
        "\n",
        "        # Catat populasi dan fitness setiap 10 iterasi\n",
        "        if (i + 1) % 10 == 0:\n",
        "            print(f\"Iteration {i + 1}\")\n",
        "            print(\"=\" * 20)\n",
        "            print(f\"Best chromosome:\\n{population[0]}\")\n",
        "            print(f\"Best fitness:\\n{fitness[0]}\")\n",
        "            print()\n",
        "\n",
        "        # Simpan 2 kromosom terbaik untuk generasi berikutnya\n",
        "        next_gen = list(population[:2])\n",
        "\n",
        "        for i in range( int(size / 2) - 1 ):\n",
        "            \n",
        "            # Seleksi 2 kromosom secara acak\n",
        "            parents_a, parents_b = selection_pair(population, fitness)\n",
        "\n",
        "            # Kawin silang pada 2 induk dan menghasilkan 2 keturunan\n",
        "            offspring_a, offspring_b = crossover(parents_a, parents_b, crossover_rate)\n",
        "\n",
        "            # Mutasi pada hasil keturunan\n",
        "            offspring_a = mutation(offspring_a, mutation_rate)\n",
        "            offspring_b = mutation(offspring_b, mutation_rate)\n",
        "\n",
        "            # Ikut sertakan 2 keturunan tadi ke generasi berikutnya\n",
        "            next_gen.append(offspring_a)\n",
        "            next_gen.append(offspring_b)\n",
        "\n",
        "        # Perbarui populasi lama dengan populasi baru\n",
        "        population = np.array(next_gen)\n",
        "\n",
        "    # Optimasi parameter regresi\n",
        "    linreg.intercept_ = population[0][0:1]\n",
        "    linreg.coef_ = population[0][1:].reshape(1, -1)\n",
        "\n",
        "    return population, fitness, linreg"
      ]
    },
    {
      "cell_type": "markdown",
      "metadata": {
        "id": "OcG_5LZkXbi3"
      },
      "source": [
        "## Pemilihan Parameter Algoritma Genetika"
      ]
    },
    {
      "cell_type": "code",
      "execution_count": null,
      "metadata": {
        "id": "YDrowoe-XdVt"
      },
      "outputs": [],
      "source": [
        "# size = int(input(\"Masukkan ukuran populasi (int)\".ljust(70)))\n",
        "# n_gen = int(input(\"Masukkan jumlah generasi (int)\".ljust(70)))\n",
        "# cr = float(input(\"Masukkan probabilitas crossover (0.0 - 1.0)\".ljust(70)))\n",
        "# mr = float(input(\"Masukkan probabilitas mutasi (0.0 - 1.0)\".ljust(70)))"
      ]
    },
    {
      "cell_type": "markdown",
      "metadata": {
        "id": "IxiQzqO51kdb"
      },
      "source": [
        "## Algoritma Genetik pada Harga Beli"
      ]
    },
    {
      "cell_type": "code",
      "execution_count": null,
      "metadata": {
        "colab": {
          "base_uri": "https://localhost:8080/"
        },
        "id": "PKJPADowYk_y",
        "outputId": "210f6630-abd1-4242-c186-11d5c724cfc4"
      },
      "outputs": [
        {
          "name": "stdout",
          "output_type": "stream",
          "text": [
            "START\n",
            "Iteration 10\n",
            "====================\n",
            "Best chromosome:\n",
            "[ 0.75222643 -0.69816117 -0.26562726  0.51061815]\n",
            "Best fitness:\n",
            "54.344550443622566\n",
            "\n",
            "Iteration 20\n",
            "====================\n",
            "Best chromosome:\n",
            "[ 0.90411668 -0.68075017 -0.39259115  0.43180019]\n",
            "Best fitness:\n",
            "59.053051712149696\n",
            "\n",
            "Iteration 30\n",
            "====================\n",
            "Best chromosome:\n",
            "[ 0.86595127 -0.78509852 -0.28016708  0.37115783]\n",
            "Best fitness:\n",
            "62.05944121625283\n",
            "\n",
            "Iteration 40\n",
            "====================\n",
            "Best chromosome:\n",
            "[ 0.86595127 -0.78509852 -0.28016708  0.37115783]\n",
            "Best fitness:\n",
            "62.05944121625283\n",
            "\n",
            "Iteration 50\n",
            "====================\n",
            "Best chromosome:\n",
            "[ 0.86595127 -0.78509852 -0.28479625  0.37115783]\n",
            "Best fitness:\n",
            "62.07328000813034\n",
            "\n",
            "Iteration 60\n",
            "====================\n",
            "Best chromosome:\n",
            "[ 0.86595127 -0.78509852 -0.28479625  0.37115783]\n",
            "Best fitness:\n",
            "62.07328000813034\n",
            "\n",
            "Iteration 70\n",
            "====================\n",
            "Best chromosome:\n",
            "[ 0.86595127 -0.78509852 -0.28479625  0.37115783]\n",
            "Best fitness:\n",
            "62.07328000813034\n",
            "\n",
            "Iteration 80\n",
            "====================\n",
            "Best chromosome:\n",
            "[ 0.86595127 -0.78509852 -0.28479625  0.37115783]\n",
            "Best fitness:\n",
            "62.07328000813034\n",
            "\n",
            "Iteration 90\n",
            "====================\n",
            "Best chromosome:\n",
            "[ 0.86440173 -0.74952607 -0.30587798  0.39013837]\n",
            "Best fitness:\n",
            "62.281974838175266\n",
            "\n",
            "Iteration 100\n",
            "====================\n",
            "Best chromosome:\n",
            "[ 0.86440173 -0.74952607 -0.30587798  0.39013837]\n",
            "Best fitness:\n",
            "62.281974838175266\n",
            "\n"
          ]
        }
      ],
      "source": [
        "population_beli, fitness_beli, linreg_beli_ga  = generations(size=100, \n",
        "                                                             n_feat=X_beli.shape[1], \n",
        "                                                             n_gen=100, \n",
        "                                                             X_train=X_beli_train, \n",
        "                                                             y_train=y_beli_train,) "
      ]
    },
    {
      "cell_type": "markdown",
      "metadata": {
        "id": "qTjVdc0f1pau"
      },
      "source": [
        "## Algoritma Genetik pada Harga Jual"
      ]
    },
    {
      "cell_type": "code",
      "execution_count": null,
      "metadata": {
        "colab": {
          "base_uri": "https://localhost:8080/"
        },
        "id": "jyyvf193hoSW",
        "outputId": "16c4796f-813f-4180-a076-0d68e217d3a2"
      },
      "outputs": [
        {
          "name": "stdout",
          "output_type": "stream",
          "text": [
            "START\n",
            "Iteration 10\n",
            "====================\n",
            "Best chromosome:\n",
            "[ 0.79290635 -0.79228982 -0.31419417  0.5017483 ]\n",
            "Best fitness:\n",
            "49.16214549098456\n",
            "\n",
            "Iteration 20\n",
            "====================\n",
            "Best chromosome:\n",
            "[ 0.83513088 -0.65987908 -0.37089181  0.44020297]\n",
            "Best fitness:\n",
            "57.26093772119006\n",
            "\n",
            "Iteration 30\n",
            "====================\n",
            "Best chromosome:\n",
            "[ 0.8346532  -0.64007844 -0.36976807  0.39753096]\n",
            "Best fitness:\n",
            "57.54420791462968\n",
            "\n",
            "Iteration 40\n",
            "====================\n",
            "Best chromosome:\n",
            "[ 0.82335978 -0.65987908 -0.37089181  0.44020297]\n",
            "Best fitness:\n",
            "57.985537025263845\n",
            "\n",
            "Iteration 50\n",
            "====================\n",
            "Best chromosome:\n",
            "[ 0.83363679 -0.6418605  -0.3802383   0.40137144]\n",
            "Best fitness:\n",
            "58.32091915921926\n",
            "\n",
            "Iteration 60\n",
            "====================\n",
            "Best chromosome:\n",
            "[ 0.82359692 -0.64762331 -0.36213816  0.34585908]\n",
            "Best fitness:\n",
            "58.65603651699872\n",
            "\n",
            "Iteration 70\n",
            "====================\n",
            "Best chromosome:\n",
            "[ 0.82359692 -0.64762331 -0.36213816  0.34585908]\n",
            "Best fitness:\n",
            "58.65603651699872\n",
            "\n",
            "Iteration 80\n",
            "====================\n",
            "Best chromosome:\n",
            "[ 0.82359692 -0.64762331 -0.36213816  0.34585908]\n",
            "Best fitness:\n",
            "58.65603651699872\n",
            "\n",
            "Iteration 90\n",
            "====================\n",
            "Best chromosome:\n",
            "[ 0.82359692 -0.64762331 -0.36213816  0.34585908]\n",
            "Best fitness:\n",
            "58.65603651699872\n",
            "\n",
            "Iteration 100\n",
            "====================\n",
            "Best chromosome:\n",
            "[ 0.82359692 -0.64762331 -0.36213816  0.34585908]\n",
            "Best fitness:\n",
            "58.65603651699872\n",
            "\n"
          ]
        }
      ],
      "source": [
        "population_jual, fitness_jual, linreg_jual_ga = generations(size=100, \n",
        "                                                            n_feat=X_jual.shape[1], \n",
        "                                                            n_gen=100, \n",
        "                                                            X_train=X_jual_train, \n",
        "                                                            y_train=y_jual_train,) "
      ]
    },
    {
      "cell_type": "markdown",
      "metadata": {
        "id": "Ag95yke-iVdI"
      },
      "source": [
        "## Simpan Kromosom Terbaik\n",
        "Kromosom terbaik lalu disimpan ke-dalam disk supaya dapat digunakan untuk melakukan prediksi dan nantinya dibandingkan dengan regresi linier biasa."
      ]
    },
    {
      "cell_type": "code",
      "execution_count": null,
      "metadata": {
        "id": "8VTTMsmKDGv9"
      },
      "outputs": [],
      "source": [
        "# Kromosom terbaik pada dua jenis harga\n",
        "best_chromosome_beli = population_beli[0]\n",
        "best_chromosome_jual = population_jual[0]"
      ]
    },
    {
      "cell_type": "markdown",
      "metadata": {
        "id": "LM4fkdHzKIIZ"
      },
      "source": [
        "## Prediksi melalui koefisien hasil Algoritma Genetika\n",
        "Kromosom terbaik perlu kita uji performanya, apakah error yang dihasilkan lebih kecil dari regresi linier biasa atau tidak."
      ]
    },
    {
      "cell_type": "code",
      "execution_count": null,
      "metadata": {
        "id": "soVL82MklMqV"
      },
      "outputs": [],
      "source": [
        "predictions_beli_ga = linreg_beli_ga.predict(X_beli_test)\n",
        "predictions_jual_ga = linreg_jual_ga.predict(X_jual_test)"
      ]
    },
    {
      "cell_type": "code",
      "execution_count": null,
      "metadata": {
        "colab": {
          "base_uri": "https://localhost:8080/"
        },
        "id": "cJ9gmB6Jo4VV",
        "outputId": "57c267df-aecc-4ccb-b3ba-9cd97cedd779"
      },
      "outputs": [
        {
          "data": {
            "text/plain": [
              "array([[0.15447559],\n",
              "       [0.10259617],\n",
              "       [0.1635426 ],\n",
              "       [0.18159295],\n",
              "       [0.10162324],\n",
              "       [0.43351023],\n",
              "       [0.7598365 ],\n",
              "       [0.21274071],\n",
              "       [0.21274071],\n",
              "       [0.40431657]])"
            ]
          },
          "execution_count": 37,
          "metadata": {},
          "output_type": "execute_result"
        }
      ],
      "source": [
        "predictions_beli_ga[:10]"
      ]
    },
    {
      "cell_type": "markdown",
      "metadata": {
        "id": "v0HZ4MwjoOlc"
      },
      "source": [
        "## Cek metrik pengukuran\n",
        "dalam pengukuran ini, matriks yang digunakan berupa $R^{2} score$ dan $MSE$\n",
        "\n",
        "selain itu juga dilakukan pengecekan coefficient dan intersep.\n",
        "\n"
      ]
    },
    {
      "cell_type": "markdown",
      "metadata": {
        "id": "P4v3WpOYonPP"
      },
      "source": [
        "**Harga Beli**"
      ]
    },
    {
      "cell_type": "code",
      "execution_count": null,
      "metadata": {
        "colab": {
          "base_uri": "https://localhost:8080/"
        },
        "id": "jaRr15YGoorp",
        "outputId": "92bdf3ad-6fab-45c1-9aa9-001b38bd2c32"
      },
      "outputs": [
        {
          "name": "stdout",
          "output_type": "stream",
          "text": [
            "R2 Score : 0.7996091026750844\n",
            "MSE : 0.01818573353822877\n",
            "RMSE : 0.13485449024125512\n",
            "Coeeficient : [-0.74952607 -0.30587798  0.39013837]\n",
            "Intercept : 0.8644017335153278\n"
          ]
        }
      ],
      "source": [
        "print(\"R2 Score :\", r2_score(y_beli_test, predictions_beli_ga))\n",
        "print(\"MSE :\", mean_squared_error(y_beli_test, predictions_beli_ga))\n",
        "print(\"RMSE :\", mean_squared_error(y_beli_test, predictions_beli_ga, squared=False))\n",
        "print(\"Coeeficient :\", population_beli[0, 1:])\n",
        "print(\"Intercept :\", population_beli[0, 0])"
      ]
    },
    {
      "cell_type": "markdown",
      "metadata": {
        "id": "-DpF3rVWoisW"
      },
      "source": [
        "**Harga Jual**"
      ]
    },
    {
      "cell_type": "code",
      "execution_count": null,
      "metadata": {
        "colab": {
          "base_uri": "https://localhost:8080/"
        },
        "id": "9XCGXpR-ohHl",
        "outputId": "12b8b50a-947a-44cc-fca6-3a25a0ae6042"
      },
      "outputs": [
        {
          "name": "stdout",
          "output_type": "stream",
          "text": [
            "R2 Score : 0.7630709201521295\n",
            "MSE : 0.01923513978437201\n",
            "RMSE : 0.1386908064161861\n",
            "Coeeficient : [-0.64762331 -0.36213816  0.34585908]\n",
            "Intercept : 0.8235969173754699\n"
          ]
        }
      ],
      "source": [
        "print(\"R2 Score :\", r2_score(y_jual_test, predictions_jual_ga))\n",
        "print(\"MSE :\", mean_squared_error(y_jual_test, predictions_jual_ga))\n",
        "print(\"RMSE :\", mean_squared_error(y_jual_test, predictions_jual_ga, squared=False))\n",
        "print(\"Coeeficient :\", population_jual[0, 1:])\n",
        "print(\"Intercept :\", population_jual[0, 0])"
      ]
    },
    {
      "cell_type": "markdown",
      "metadata": {
        "id": "efaE7B7OGF4m"
      },
      "source": [
        "# Perbandingan Prediksi Regresi Linier dan Regresi Linier + Algoritma Genetika"
      ]
    },
    {
      "cell_type": "markdown",
      "metadata": {
        "id": "SO1rMr2LHpSb"
      },
      "source": [
        "## Pemilihan Prediksi Harga\n",
        "Kita bisa memilih akan memprediksi harga beli atau jual."
      ]
    },
    {
      "cell_type": "code",
      "execution_count": null,
      "metadata": {
        "colab": {
          "base_uri": "https://localhost:8080/"
        },
        "id": "WUi6xy1jG86u",
        "outputId": "c71a286f-56b5-42db-b062-977770313f9b"
      },
      "outputs": [
        {
          "name": "stdout",
          "output_type": "stream",
          "text": [
            "Masukkan harga emas apa yang ingin diprediksi (beli / jual)           beli\n"
          ]
        }
      ],
      "source": [
        "# Input jenis harga\n",
        "mode = input(\"Masukkan harga emas apa yang ingin diprediksi (beli / jual)\".ljust(70))\n",
        "\n",
        "# Validasi input user\n",
        "assert mode.lower() in [\"beli\", \"jual\"], \"Tolong masukkan antara 'beli' atau 'jual'\"\n",
        "\n",
        "# Inisiasi variabel berdasarkan jenis\n",
        "X_used = X_beli                             if mode.lower() == \"beli\" else X_jual\n",
        "y_used = y_beli                             if mode.lower() == \"beli\" else y_jual\n",
        "X_test_used = X_beli_test                   if mode.lower() == \"beli\" else X_jual_test\n",
        "y_test_used = y_beli_test                   if mode.lower() == \"beli\" else y_jual_test\n",
        "predictions_used = predictions_beli         if mode.lower() == \"beli\" else predictions_jual\n",
        "predictions_ga_used = predictions_beli_ga   if mode.lower() == \"beli\" else predictions_jual_ga\n",
        "linreg_used = linreg_beli                   if mode.lower() == \"beli\" else linreg_jual\n",
        "linreg_ga_used = linreg_beli_ga             if mode.lower() == \"beli\" else linreg_jual_ga"
      ]
    },
    {
      "cell_type": "markdown",
      "metadata": {
        "id": "XuZw0ULVK0eB"
      },
      "source": [
        "## Rekap"
      ]
    },
    {
      "cell_type": "code",
      "execution_count": null,
      "metadata": {
        "colab": {
          "base_uri": "https://localhost:8080/",
          "height": 690
        },
        "id": "DzSQaQgxgUBC",
        "outputId": "8c57c120-a0a8-4150-c167-aea435e155da"
      },
      "outputs": [
        {
          "data": {
            "text/html": [
              "\n",
              "  <div id=\"df-a7283b63-0e66-4e67-bf7c-3546c348f951\">\n",
              "    <div class=\"colab-df-container\">\n",
              "      <div>\n",
              "<style scoped>\n",
              "    .dataframe tbody tr th:only-of-type {\n",
              "        vertical-align: middle;\n",
              "    }\n",
              "\n",
              "    .dataframe tbody tr th {\n",
              "        vertical-align: top;\n",
              "    }\n",
              "\n",
              "    .dataframe thead th {\n",
              "        text-align: right;\n",
              "    }\n",
              "</style>\n",
              "<table border=\"1\" class=\"dataframe\">\n",
              "  <thead>\n",
              "    <tr style=\"text-align: right;\">\n",
              "      <th></th>\n",
              "      <th>Y_test</th>\n",
              "      <th>MLR Without Genetic</th>\n",
              "      <th>MLR With Genetic</th>\n",
              "      <th>Error MLR</th>\n",
              "      <th>Error MLR+Genetic</th>\n",
              "      <th>Error MSE MLR</th>\n",
              "      <th>Error MSE MLR+Genetic</th>\n",
              "      <th>Error RMSE MLR</th>\n",
              "      <th>Error RMSE MLR+Genetic</th>\n",
              "    </tr>\n",
              "    <tr>\n",
              "      <th>Date</th>\n",
              "      <th></th>\n",
              "      <th></th>\n",
              "      <th></th>\n",
              "      <th></th>\n",
              "      <th></th>\n",
              "      <th></th>\n",
              "      <th></th>\n",
              "      <th></th>\n",
              "      <th></th>\n",
              "    </tr>\n",
              "  </thead>\n",
              "  <tbody>\n",
              "    <tr>\n",
              "      <th>2017-01-30</th>\n",
              "      <td>0.026871</td>\n",
              "      <td>0.176458</td>\n",
              "      <td>0.154476</td>\n",
              "      <td>0.149587</td>\n",
              "      <td>0.127604</td>\n",
              "      <td>0.022376</td>\n",
              "      <td>0.016283</td>\n",
              "      <td>0.149587</td>\n",
              "      <td>0.127604</td>\n",
              "    </tr>\n",
              "    <tr>\n",
              "      <th>2017-09-17</th>\n",
              "      <td>0.089841</td>\n",
              "      <td>0.129588</td>\n",
              "      <td>0.102596</td>\n",
              "      <td>0.039747</td>\n",
              "      <td>0.012755</td>\n",
              "      <td>0.001580</td>\n",
              "      <td>0.000163</td>\n",
              "      <td>0.039747</td>\n",
              "      <td>0.012755</td>\n",
              "    </tr>\n",
              "    <tr>\n",
              "      <th>2018-01-19</th>\n",
              "      <td>0.124699</td>\n",
              "      <td>0.161507</td>\n",
              "      <td>0.163543</td>\n",
              "      <td>0.036809</td>\n",
              "      <td>0.038844</td>\n",
              "      <td>0.001355</td>\n",
              "      <td>0.001509</td>\n",
              "      <td>0.036809</td>\n",
              "      <td>0.038844</td>\n",
              "    </tr>\n",
              "    <tr>\n",
              "      <th>2018-03-02</th>\n",
              "      <td>0.147939</td>\n",
              "      <td>0.164505</td>\n",
              "      <td>0.181593</td>\n",
              "      <td>0.016567</td>\n",
              "      <td>0.033654</td>\n",
              "      <td>0.000274</td>\n",
              "      <td>0.001133</td>\n",
              "      <td>0.016567</td>\n",
              "      <td>0.033654</td>\n",
              "    </tr>\n",
              "    <tr>\n",
              "      <th>2017-08-28</th>\n",
              "      <td>0.097587</td>\n",
              "      <td>0.132270</td>\n",
              "      <td>0.101623</td>\n",
              "      <td>0.034682</td>\n",
              "      <td>0.004036</td>\n",
              "      <td>0.001203</td>\n",
              "      <td>0.000016</td>\n",
              "      <td>0.034682</td>\n",
              "      <td>0.004036</td>\n",
              "    </tr>\n",
              "    <tr>\n",
              "      <th>...</th>\n",
              "      <td>...</td>\n",
              "      <td>...</td>\n",
              "      <td>...</td>\n",
              "      <td>...</td>\n",
              "      <td>...</td>\n",
              "      <td>...</td>\n",
              "      <td>...</td>\n",
              "      <td>...</td>\n",
              "      <td>...</td>\n",
              "    </tr>\n",
              "    <tr>\n",
              "      <th>2019-09-27</th>\n",
              "      <td>0.395393</td>\n",
              "      <td>0.237127</td>\n",
              "      <td>0.257731</td>\n",
              "      <td>0.158266</td>\n",
              "      <td>0.137662</td>\n",
              "      <td>0.025048</td>\n",
              "      <td>0.018951</td>\n",
              "      <td>0.158266</td>\n",
              "      <td>0.137662</td>\n",
              "    </tr>\n",
              "    <tr>\n",
              "      <th>2021-04-08</th>\n",
              "      <td>0.809981</td>\n",
              "      <td>0.749810</td>\n",
              "      <td>0.735784</td>\n",
              "      <td>0.060171</td>\n",
              "      <td>0.074197</td>\n",
              "      <td>0.003621</td>\n",
              "      <td>0.005505</td>\n",
              "      <td>0.060171</td>\n",
              "      <td>0.074197</td>\n",
              "    </tr>\n",
              "    <tr>\n",
              "      <th>2018-05-29</th>\n",
              "      <td>0.130511</td>\n",
              "      <td>0.191353</td>\n",
              "      <td>0.232887</td>\n",
              "      <td>0.060842</td>\n",
              "      <td>0.102377</td>\n",
              "      <td>0.003702</td>\n",
              "      <td>0.010481</td>\n",
              "      <td>0.060842</td>\n",
              "      <td>0.102377</td>\n",
              "    </tr>\n",
              "    <tr>\n",
              "      <th>2018-02-27</th>\n",
              "      <td>0.147939</td>\n",
              "      <td>0.204595</td>\n",
              "      <td>0.217165</td>\n",
              "      <td>0.056657</td>\n",
              "      <td>0.069226</td>\n",
              "      <td>0.003210</td>\n",
              "      <td>0.004792</td>\n",
              "      <td>0.056657</td>\n",
              "      <td>0.069226</td>\n",
              "    </tr>\n",
              "    <tr>\n",
              "      <th>2019-12-20</th>\n",
              "      <td>0.481766</td>\n",
              "      <td>0.371205</td>\n",
              "      <td>0.379327</td>\n",
              "      <td>0.110561</td>\n",
              "      <td>0.102439</td>\n",
              "      <td>0.012224</td>\n",
              "      <td>0.010494</td>\n",
              "      <td>0.110561</td>\n",
              "      <td>0.102439</td>\n",
              "    </tr>\n",
              "  </tbody>\n",
              "</table>\n",
              "<p>323 rows × 9 columns</p>\n",
              "</div>\n",
              "      <button class=\"colab-df-convert\" onclick=\"convertToInteractive('df-a7283b63-0e66-4e67-bf7c-3546c348f951')\"\n",
              "              title=\"Convert this dataframe to an interactive table.\"\n",
              "              style=\"display:none;\">\n",
              "        \n",
              "  <svg xmlns=\"http://www.w3.org/2000/svg\" height=\"24px\"viewBox=\"0 0 24 24\"\n",
              "       width=\"24px\">\n",
              "    <path d=\"M0 0h24v24H0V0z\" fill=\"none\"/>\n",
              "    <path d=\"M18.56 5.44l.94 2.06.94-2.06 2.06-.94-2.06-.94-.94-2.06-.94 2.06-2.06.94zm-11 1L8.5 8.5l.94-2.06 2.06-.94-2.06-.94L8.5 2.5l-.94 2.06-2.06.94zm10 10l.94 2.06.94-2.06 2.06-.94-2.06-.94-.94-2.06-.94 2.06-2.06.94z\"/><path d=\"M17.41 7.96l-1.37-1.37c-.4-.4-.92-.59-1.43-.59-.52 0-1.04.2-1.43.59L10.3 9.45l-7.72 7.72c-.78.78-.78 2.05 0 2.83L4 21.41c.39.39.9.59 1.41.59.51 0 1.02-.2 1.41-.59l7.78-7.78 2.81-2.81c.8-.78.8-2.07 0-2.86zM5.41 20L4 18.59l7.72-7.72 1.47 1.35L5.41 20z\"/>\n",
              "  </svg>\n",
              "      </button>\n",
              "      \n",
              "  <style>\n",
              "    .colab-df-container {\n",
              "      display:flex;\n",
              "      flex-wrap:wrap;\n",
              "      gap: 12px;\n",
              "    }\n",
              "\n",
              "    .colab-df-convert {\n",
              "      background-color: #E8F0FE;\n",
              "      border: none;\n",
              "      border-radius: 50%;\n",
              "      cursor: pointer;\n",
              "      display: none;\n",
              "      fill: #1967D2;\n",
              "      height: 32px;\n",
              "      padding: 0 0 0 0;\n",
              "      width: 32px;\n",
              "    }\n",
              "\n",
              "    .colab-df-convert:hover {\n",
              "      background-color: #E2EBFA;\n",
              "      box-shadow: 0px 1px 2px rgba(60, 64, 67, 0.3), 0px 1px 3px 1px rgba(60, 64, 67, 0.15);\n",
              "      fill: #174EA6;\n",
              "    }\n",
              "\n",
              "    [theme=dark] .colab-df-convert {\n",
              "      background-color: #3B4455;\n",
              "      fill: #D2E3FC;\n",
              "    }\n",
              "\n",
              "    [theme=dark] .colab-df-convert:hover {\n",
              "      background-color: #434B5C;\n",
              "      box-shadow: 0px 1px 3px 1px rgba(0, 0, 0, 0.15);\n",
              "      filter: drop-shadow(0px 1px 2px rgba(0, 0, 0, 0.3));\n",
              "      fill: #FFFFFF;\n",
              "    }\n",
              "  </style>\n",
              "\n",
              "      <script>\n",
              "        const buttonEl =\n",
              "          document.querySelector('#df-a7283b63-0e66-4e67-bf7c-3546c348f951 button.colab-df-convert');\n",
              "        buttonEl.style.display =\n",
              "          google.colab.kernel.accessAllowed ? 'block' : 'none';\n",
              "\n",
              "        async function convertToInteractive(key) {\n",
              "          const element = document.querySelector('#df-a7283b63-0e66-4e67-bf7c-3546c348f951');\n",
              "          const dataTable =\n",
              "            await google.colab.kernel.invokeFunction('convertToInteractive',\n",
              "                                                     [key], {});\n",
              "          if (!dataTable) return;\n",
              "\n",
              "          const docLinkHtml = 'Like what you see? Visit the ' +\n",
              "            '<a target=\"_blank\" href=https://colab.research.google.com/notebooks/data_table.ipynb>data table notebook</a>'\n",
              "            + ' to learn more about interactive tables.';\n",
              "          element.innerHTML = '';\n",
              "          dataTable['output_type'] = 'display_data';\n",
              "          await google.colab.output.renderOutput(dataTable, element);\n",
              "          const docLink = document.createElement('div');\n",
              "          docLink.innerHTML = docLinkHtml;\n",
              "          element.appendChild(docLink);\n",
              "        }\n",
              "      </script>\n",
              "    </div>\n",
              "  </div>\n",
              "  "
            ],
            "text/plain": [
              "              Y_test  MLR Without Genetic  MLR With Genetic  Error MLR  \\\n",
              "Date                                                                     \n",
              "2017-01-30  0.026871             0.176458          0.154476   0.149587   \n",
              "2017-09-17  0.089841             0.129588          0.102596   0.039747   \n",
              "2018-01-19  0.124699             0.161507          0.163543   0.036809   \n",
              "2018-03-02  0.147939             0.164505          0.181593   0.016567   \n",
              "2017-08-28  0.097587             0.132270          0.101623   0.034682   \n",
              "...              ...                  ...               ...        ...   \n",
              "2019-09-27  0.395393             0.237127          0.257731   0.158266   \n",
              "2021-04-08  0.809981             0.749810          0.735784   0.060171   \n",
              "2018-05-29  0.130511             0.191353          0.232887   0.060842   \n",
              "2018-02-27  0.147939             0.204595          0.217165   0.056657   \n",
              "2019-12-20  0.481766             0.371205          0.379327   0.110561   \n",
              "\n",
              "            Error MLR+Genetic  Error MSE MLR  Error MSE MLR+Genetic  \\\n",
              "Date                                                                  \n",
              "2017-01-30           0.127604       0.022376               0.016283   \n",
              "2017-09-17           0.012755       0.001580               0.000163   \n",
              "2018-01-19           0.038844       0.001355               0.001509   \n",
              "2018-03-02           0.033654       0.000274               0.001133   \n",
              "2017-08-28           0.004036       0.001203               0.000016   \n",
              "...                       ...            ...                    ...   \n",
              "2019-09-27           0.137662       0.025048               0.018951   \n",
              "2021-04-08           0.074197       0.003621               0.005505   \n",
              "2018-05-29           0.102377       0.003702               0.010481   \n",
              "2018-02-27           0.069226       0.003210               0.004792   \n",
              "2019-12-20           0.102439       0.012224               0.010494   \n",
              "\n",
              "            Error RMSE MLR  Error RMSE MLR+Genetic  \n",
              "Date                                                \n",
              "2017-01-30        0.149587                0.127604  \n",
              "2017-09-17        0.039747                0.012755  \n",
              "2018-01-19        0.036809                0.038844  \n",
              "2018-03-02        0.016567                0.033654  \n",
              "2017-08-28        0.034682                0.004036  \n",
              "...                    ...                     ...  \n",
              "2019-09-27        0.158266                0.137662  \n",
              "2021-04-08        0.060171                0.074197  \n",
              "2018-05-29        0.060842                0.102377  \n",
              "2018-02-27        0.056657                0.069226  \n",
              "2019-12-20        0.110561                0.102439  \n",
              "\n",
              "[323 rows x 9 columns]"
            ]
          },
          "execution_count": 41,
          "metadata": {},
          "output_type": "execute_result"
        }
      ],
      "source": [
        "# Kita ubah hasil prediksi dari dataframe ke 1D-array\n",
        "y_test_series = np.squeeze(y_test_used.values)\n",
        "predictions_series = np.squeeze(predictions_used)\n",
        "predictions_ga_series = np.squeeze(predictions_ga_used)\n",
        "\n",
        "\n",
        "rekap = pd.DataFrame({\n",
        "    \"Y_test\": y_test_series,\n",
        "    \"MLR Without Genetic\": predictions_series,\n",
        "    \"MLR With Genetic\": predictions_ga_series,\n",
        "    \"Error MLR\": abs(y_test_series - predictions_series),\n",
        "    \"Error MLR+Genetic\": abs(y_test_series - predictions_ga_series),\n",
        "    \"Error MSE MLR\": abs(y_test_series - predictions_series)**2,\n",
        "    \"Error MSE MLR+Genetic\": abs(y_test_series - predictions_ga_series)**2,\n",
        "    \"Error RMSE MLR\": np.sqrt(abs(y_test_series - predictions_series)**2),\n",
        "    \"Error RMSE MLR+Genetic\": np.sqrt(abs(y_test_series - predictions_ga_series)**2),\n",
        "}, index=y_beli_test.index)\n",
        "\n",
        "rekap"
      ]
    },
    {
      "cell_type": "markdown",
      "metadata": {
        "id": "YOBzx2SeznBl"
      },
      "source": [
        "## Rata-rata Error"
      ]
    },
    {
      "cell_type": "code",
      "execution_count": null,
      "metadata": {
        "colab": {
          "base_uri": "https://localhost:8080/"
        },
        "id": "I6iWli37vdiu",
        "outputId": "48922c28-4beb-482c-bc01-17e096e35460"
      },
      "outputs": [
        {
          "name": "stdout",
          "output_type": "stream",
          "text": [
            "Rata-rata error MSE dengan algoritma genetika sebesar        : 88.67149982506649\n",
            "Rata-rata error MSE tanpa genetika                           : 89.33605540296377\n",
            "Rata-rata error RMSE dengan algoritma genetika sebesar       : 9.416554562315588\n",
            "Rata-rata error RMSE tanpa genetika                          : 9.451775251399273\n"
          ]
        }
      ],
      "source": [
        "mean_mse_error = rekap[\"Error MSE MLR\"].mean()\n",
        "mean_ga_mse_error = rekap[\"Error MSE MLR+Genetic\"].mean()\n",
        "\n",
        "print(\"Rata-rata error MSE dengan algoritma genetika sebesar        :\", mean_ga_mse_error)\n",
        "print(\"Rata-rata error MSE tanpa genetika                           :\", mean_mse_error)\n",
        "print(\"Rata-rata error RMSE dengan algoritma genetika sebesar       :\", np.sqrt(mean_ga_mse_error))\n",
        "print(\"Rata-rata error RMSE tanpa genetika                          :\", np.sqrt(mean_mse_error))"
      ]
    },
    {
      "cell_type": "markdown",
      "metadata": {
        "id": "EyDZ4If7zgSo"
      },
      "source": [
        "## Diagram Batang Error"
      ]
    },
    {
      "cell_type": "code",
      "execution_count": null,
      "metadata": {
        "colab": {
          "base_uri": "https://localhost:8080/",
          "height": 17
        },
        "id": "R_j1gq8JzA-F",
        "outputId": "c17c1607-4f42-483f-d99e-0734a2706721"
      },
      "outputs": [
        {
          "data": {
            "application/javascript": "\n(function(root) {\n  function now() {\n    return new Date();\n  }\n\n  var force = true;\n\n  if (typeof root._bokeh_onload_callbacks === \"undefined\" || force === true) {\n    root._bokeh_onload_callbacks = [];\n    root._bokeh_is_loading = undefined;\n  }\n\n  var JS_MIME_TYPE = 'application/javascript';\n  var HTML_MIME_TYPE = 'text/html';\n  var EXEC_MIME_TYPE = 'application/vnd.bokehjs_exec.v0+json';\n  var CLASS_NAME = 'output_bokeh rendered_html';\n\n  /**\n   * Render data to the DOM node\n   */\n  function render(props, node) {\n    var script = document.createElement(\"script\");\n    node.appendChild(script);\n  }\n\n  /**\n   * Handle when an output is cleared or removed\n   */\n  function handleClearOutput(event, handle) {\n    var cell = handle.cell;\n\n    var id = cell.output_area._bokeh_element_id;\n    var server_id = cell.output_area._bokeh_server_id;\n    // Clean up Bokeh references\n    if (id != null && id in Bokeh.index) {\n      Bokeh.index[id].model.document.clear();\n      delete Bokeh.index[id];\n    }\n\n    if (server_id !== undefined) {\n      // Clean up Bokeh references\n      var cmd = \"from bokeh.io.state import curstate; print(curstate().uuid_to_server['\" + server_id + \"'].get_sessions()[0].document.roots[0]._id)\";\n      cell.notebook.kernel.execute(cmd, {\n        iopub: {\n          output: function(msg) {\n            var id = msg.content.text.trim();\n            if (id in Bokeh.index) {\n              Bokeh.index[id].model.document.clear();\n              delete Bokeh.index[id];\n            }\n          }\n        }\n      });\n      // Destroy server and session\n      var cmd = \"import bokeh.io.notebook as ion; ion.destroy_server('\" + server_id + \"')\";\n      cell.notebook.kernel.execute(cmd);\n    }\n  }\n\n  /**\n   * Handle when a new output is added\n   */\n  function handleAddOutput(event, handle) {\n    var output_area = handle.output_area;\n    var output = handle.output;\n\n    // limit handleAddOutput to display_data with EXEC_MIME_TYPE content only\n    if ((output.output_type != \"display_data\") || (!Object.prototype.hasOwnProperty.call(output.data, EXEC_MIME_TYPE))) {\n      return\n    }\n\n    var toinsert = output_area.element.find(\".\" + CLASS_NAME.split(' ')[0]);\n\n    if (output.metadata[EXEC_MIME_TYPE][\"id\"] !== undefined) {\n      toinsert[toinsert.length - 1].firstChild.textContent = output.data[JS_MIME_TYPE];\n      // store reference to embed id on output_area\n      output_area._bokeh_element_id = output.metadata[EXEC_MIME_TYPE][\"id\"];\n    }\n    if (output.metadata[EXEC_MIME_TYPE][\"server_id\"] !== undefined) {\n      var bk_div = document.createElement(\"div\");\n      bk_div.innerHTML = output.data[HTML_MIME_TYPE];\n      var script_attrs = bk_div.children[0].attributes;\n      for (var i = 0; i < script_attrs.length; i++) {\n        toinsert[toinsert.length - 1].firstChild.setAttribute(script_attrs[i].name, script_attrs[i].value);\n        toinsert[toinsert.length - 1].firstChild.textContent = bk_div.children[0].textContent\n      }\n      // store reference to server id on output_area\n      output_area._bokeh_server_id = output.metadata[EXEC_MIME_TYPE][\"server_id\"];\n    }\n  }\n\n  function register_renderer(events, OutputArea) {\n\n    function append_mime(data, metadata, element) {\n      // create a DOM node to render to\n      var toinsert = this.create_output_subarea(\n        metadata,\n        CLASS_NAME,\n        EXEC_MIME_TYPE\n      );\n      this.keyboard_manager.register_events(toinsert);\n      // Render to node\n      var props = {data: data, metadata: metadata[EXEC_MIME_TYPE]};\n      render(props, toinsert[toinsert.length - 1]);\n      element.append(toinsert);\n      return toinsert\n    }\n\n    /* Handle when an output is cleared or removed */\n    events.on('clear_output.CodeCell', handleClearOutput);\n    events.on('delete.Cell', handleClearOutput);\n\n    /* Handle when a new output is added */\n    events.on('output_added.OutputArea', handleAddOutput);\n\n    /**\n     * Register the mime type and append_mime function with output_area\n     */\n    OutputArea.prototype.register_mime_type(EXEC_MIME_TYPE, append_mime, {\n      /* Is output safe? */\n      safe: true,\n      /* Index of renderer in `output_area.display_order` */\n      index: 0\n    });\n  }\n\n  // register the mime type if in Jupyter Notebook environment and previously unregistered\n  if (root.Jupyter !== undefined) {\n    var events = require('base/js/events');\n    var OutputArea = require('notebook/js/outputarea').OutputArea;\n\n    if (OutputArea.prototype.mime_types().indexOf(EXEC_MIME_TYPE) == -1) {\n      register_renderer(events, OutputArea);\n    }\n  }\n\n  \n  if (typeof (root._bokeh_timeout) === \"undefined\" || force === true) {\n    root._bokeh_timeout = Date.now() + 5000;\n    root._bokeh_failed_load = false;\n  }\n\n  var NB_LOAD_WARNING = {'data': {'text/html':\n     \"<div style='background-color: #fdd'>\\n\"+\n     \"<p>\\n\"+\n     \"BokehJS does not appear to have successfully loaded. If loading BokehJS from CDN, this \\n\"+\n     \"may be due to a slow or bad network connection. Possible fixes:\\n\"+\n     \"</p>\\n\"+\n     \"<ul>\\n\"+\n     \"<li>re-rerun `output_notebook()` to attempt to load from CDN again, or</li>\\n\"+\n     \"<li>use INLINE resources instead, as so:</li>\\n\"+\n     \"</ul>\\n\"+\n     \"<code>\\n\"+\n     \"from bokeh.resources import INLINE\\n\"+\n     \"output_notebook(resources=INLINE)\\n\"+\n     \"</code>\\n\"+\n     \"</div>\"}};\n\n  function display_loaded() {\n    var el = document.getElementById(null);\n    if (el != null) {\n      el.textContent = \"BokehJS is loading...\";\n    }\n    if (root.Bokeh !== undefined) {\n      if (el != null) {\n        el.textContent = \"BokehJS \" + root.Bokeh.version + \" successfully loaded.\";\n      }\n    } else if (Date.now() < root._bokeh_timeout) {\n      setTimeout(display_loaded, 100)\n    }\n  }\n\n\n  function run_callbacks() {\n    try {\n      root._bokeh_onload_callbacks.forEach(function(callback) {\n        if (callback != null)\n          callback();\n      });\n    } finally {\n      delete root._bokeh_onload_callbacks\n    }\n    console.debug(\"Bokeh: all callbacks have finished\");\n  }\n\n  function load_libs(css_urls, js_urls, callback) {\n    if (css_urls == null) css_urls = [];\n    if (js_urls == null) js_urls = [];\n\n    root._bokeh_onload_callbacks.push(callback);\n    if (root._bokeh_is_loading > 0) {\n      console.debug(\"Bokeh: BokehJS is being loaded, scheduling callback at\", now());\n      return null;\n    }\n    if (js_urls == null || js_urls.length === 0) {\n      run_callbacks();\n      return null;\n    }\n    console.debug(\"Bokeh: BokehJS not loaded, scheduling load and callback at\", now());\n    root._bokeh_is_loading = css_urls.length + js_urls.length;\n\n    function on_load() {\n      root._bokeh_is_loading--;\n      if (root._bokeh_is_loading === 0) {\n        console.debug(\"Bokeh: all BokehJS libraries/stylesheets loaded\");\n        run_callbacks()\n      }\n    }\n\n    function on_error(url) {\n      console.error(\"failed to load \" + url);\n    }\n\n    for (let i = 0; i < css_urls.length; i++) {\n      const url = css_urls[i];\n      const element = document.createElement(\"link\");\n      element.onload = on_load;\n      element.onerror = on_error.bind(null, url);\n      element.rel = \"stylesheet\";\n      element.type = \"text/css\";\n      element.href = url;\n      console.debug(\"Bokeh: injecting link tag for BokehJS stylesheet: \", url);\n      document.body.appendChild(element);\n    }\n\n    const hashes = {\"https://cdn.bokeh.org/bokeh/release/bokeh-2.3.3.min.js\": \"dM3QQsP+wXdHg42wTqW85BjZQdLNNIXqlPw/BgKoExPmTG7ZLML4EGqLMfqHT6ON\", \"https://cdn.bokeh.org/bokeh/release/bokeh-tables-2.3.3.min.js\": \"8x57I4YuIfu8XyZfFo0XVr2WAT8EK4rh/uDe3wF7YuW2FNUSNEpJbsPaB1nJ2fz2\", \"https://cdn.bokeh.org/bokeh/release/bokeh-widgets-2.3.3.min.js\": \"3QTqdz9LyAm2i0sG5XTePsHec3UHWwVsrOL68SYRoAXsafvfAyqtQ+h440+qIBhS\"};\n\n    for (let i = 0; i < js_urls.length; i++) {\n      const url = js_urls[i];\n      const element = document.createElement('script');\n      element.onload = on_load;\n      element.onerror = on_error.bind(null, url);\n      element.async = false;\n      element.src = url;\n      if (url in hashes) {\n        element.crossOrigin = \"anonymous\";\n        element.integrity = \"sha384-\" + hashes[url];\n      }\n      console.debug(\"Bokeh: injecting script tag for BokehJS library: \", url);\n      document.head.appendChild(element);\n    }\n  };\n\n  function inject_raw_css(css) {\n    const element = document.createElement(\"style\");\n    element.appendChild(document.createTextNode(css));\n    document.body.appendChild(element);\n  }\n\n  \n  var js_urls = [\"https://cdn.bokeh.org/bokeh/release/bokeh-2.3.3.min.js\", \"https://cdn.bokeh.org/bokeh/release/bokeh-widgets-2.3.3.min.js\", \"https://cdn.bokeh.org/bokeh/release/bokeh-tables-2.3.3.min.js\"];\n  var css_urls = [];\n  \n\n  var inline_js = [\n    function(Bokeh) {\n      Bokeh.set_log_level(\"info\");\n    },\n    function(Bokeh) {\n    \n    \n    }\n  ];\n\n  function run_inline_js() {\n    \n    if (root.Bokeh !== undefined || force === true) {\n      \n    for (var i = 0; i < inline_js.length; i++) {\n      inline_js[i].call(root, root.Bokeh);\n    }\n    } else if (Date.now() < root._bokeh_timeout) {\n      setTimeout(run_inline_js, 100);\n    } else if (!root._bokeh_failed_load) {\n      console.log(\"Bokeh: BokehJS failed to load within specified timeout.\");\n      root._bokeh_failed_load = true;\n    } else if (force !== true) {\n      var cell = $(document.getElementById(null)).parents('.cell').data().cell;\n      cell.output_area.append_execute_result(NB_LOAD_WARNING)\n    }\n\n  }\n\n  if (root._bokeh_is_loading === 0) {\n    console.debug(\"Bokeh: BokehJS loaded, going straight to plotting\");\n    run_inline_js();\n  } else {\n    load_libs(css_urls, js_urls, function() {\n      console.debug(\"Bokeh: BokehJS plotting callback run at\", now());\n      run_inline_js();\n    });\n  }\n}(window));",
            "application/vnd.bokehjs_load.v0+json": ""
          },
          "metadata": {},
          "output_type": "display_data"
        },
        {
          "data": {
            "text/html": [
              "\n",
              "\n",
              "\n",
              "\n",
              "\n",
              "\n",
              "  <div class=\"bk-root\" id=\"d2978406-2113-4c41-a192-36479b1fe66c\" data-root-id=\"1002\"></div>\n"
            ]
          },
          "metadata": {},
          "output_type": "display_data"
        },
        {
          "data": {
            "application/javascript": "(function(root) {\n  function embed_document(root) {\n    \n  var docs_json = {\"6866e5fb-21d1-4766-b6fb-8ab217b532ab\":{\"defs\":[],\"roots\":{\"references\":[{\"attributes\":{\"above\":[{\"id\":\"1046\"}],\"below\":[{\"id\":\"1011\"}],\"center\":[{\"id\":\"1013\"},{\"id\":\"1017\"}],\"height\":500,\"left\":[{\"id\":\"1014\"}],\"renderers\":[{\"id\":\"1037\"},{\"id\":\"1044\"}],\"title\":{\"id\":\"1049\"},\"toolbar\":{\"id\":\"1025\"},\"width\":900,\"x_range\":{\"id\":\"1003\"},\"x_scale\":{\"id\":\"1007\"},\"y_range\":{\"id\":\"1005\"},\"y_scale\":{\"id\":\"1009\"}},\"id\":\"1002\",\"subtype\":\"Figure\",\"type\":\"Plot\"},{\"attributes\":{\"source\":{\"id\":\"1040\"}},\"id\":\"1045\",\"type\":\"CDSView\"},{\"attributes\":{\"label\":{\"value\":\"Error MSE MLR+Genetic\"},\"renderers\":[{\"id\":\"1044\"}]},\"id\":\"1048\",\"type\":\"LegendItem\"},{\"attributes\":{\"source\":{\"id\":\"1033\"}},\"id\":\"1038\",\"type\":\"CDSView\"},{\"attributes\":{\"data\":{\"Date\":{\"__ndarray__\":\"AACAaW9Ed0IAAEDPwUR3QgAAADUURXdCAADAmmZFd0IAAIAAuUV3QgAAQGYLRndCAAAAzF1Gd0IAAMAxsEZ3QgAAgJcCR3dCAABA/VRHd0IAAABjp0d3QgAAwMj5R3dCAACALkxId0IAAECUnkh3QgAAAPrwSHdCAADAX0NJd0IAAIDFlUl3QgAAQCvoSXdCAAAAkTpKd0IAAMD2jEp3QgAAgFzfSndCAABAwjFLd0IAAAAohEt3QgAAwI3WS3dCAACA8yhMd0IAAEBZe0x3QgAAAL/NTHdCAADAJCBNd0IAAICKck13QgAAQPDETXdC\",\"dtype\":\"float64\",\"order\":\"little\",\"shape\":[30]},\"Error MSE MLR\":{\"__ndarray__\":\"aX8ijq7FQUD/GY2i2BUsQLvSKscgGg1AEFXDOVllLkCObZmENAUZQMjKbHDahABAga9+0dlK7D+1BcxaZHZCQDcVuM3tD9I+XMwVdW9IVECzDysG0DoQQPLX90+I0hJAvBvCBqsCAkA7dAmL9cf1P+Mmn5/uwjRACPf/s2jNSUDXIXGP4qMSQMbsHyruPQ5AJ4vQ4qLCTEAOMUjusSoWQLg80c4AA8Y/Ycnoet6mbUDA+Ni5Z9c/QPenx3kXGUlAmzSgso6BQ0BLCVQYVH0hQHeL7wHrz+0/H15PJcX+CkD3ftfl6GJJQIVFTcNgdBNA\",\"dtype\":\"float64\",\"order\":\"little\",\"shape\":[30]},\"Error MSE MLR+Genetic\":{\"__ndarray__\":\"7NwkvdkJQUCk2j+g/DcwQHH71Ks8DRpAqxWnpLjcNUCqPLsm0c4iQHUsq+FIGhJAZ+x4r3SpBEAvq9/9h71FQAgfLw9Bis4/Ah6NgXTAUEBTLVRiWRoCQHDgaj6+cRhAOKZI4LMdAkAGqXNgBTj/PxSQpaXumjFAdelm9ew+TUBa4lhuWAcUQNt3ImfooRxAAdKKsXJlUUCFwV31d0MgQMe8Ae9dmP4/ZUTasPdPcEAOi0Js/IpCQB5Fw47AYlJA6Zj01BI5OUBSNiti44gtQGnCPg0xbfU/Gt1W9GIkFEAG0FMcNFRFQC5JBSEahghA\",\"dtype\":\"float64\",\"order\":\"little\",\"shape\":[30]},\"date\":[\"2020-09-01\",\"2020-09-02\",\"2020-09-03\",\"2020-09-04\",\"2020-09-05\",\"2020-09-06\",\"2020-09-07\",\"2020-09-08\",\"2020-09-09\",\"2020-09-10\",\"2020-09-11\",\"2020-09-12\",\"2020-09-13\",\"2020-09-14\",\"2020-09-15\",\"2020-09-16\",\"2020-09-17\",\"2020-09-18\",\"2020-09-19\",\"2020-09-20\",\"2020-09-21\",\"2020-09-22\",\"2020-09-23\",\"2020-09-24\",\"2020-09-25\",\"2020-09-26\",\"2020-09-27\",\"2020-09-28\",\"2020-09-29\",\"2020-09-30\"]},\"selected\":{\"id\":\"1058\"},\"selection_policy\":{\"id\":\"1057\"}},\"id\":\"1033\",\"type\":\"ColumnDataSource\"},{\"attributes\":{},\"id\":\"1057\",\"type\":\"UnionRenderers\"},{\"attributes\":{},\"id\":\"1058\",\"type\":\"Selection\"},{\"attributes\":{\"label\":{\"value\":\"Error MSE MLR\"},\"renderers\":[{\"id\":\"1037\"}]},\"id\":\"1047\",\"type\":\"LegendItem\"},{\"attributes\":{},\"id\":\"1015\",\"type\":\"BasicTicker\"},{\"attributes\":{\"axis\":{\"id\":\"1011\"},\"ticker\":null},\"id\":\"1013\",\"type\":\"Grid\"},{\"attributes\":{\"factors\":[\"2020-09-01\",\"2020-09-02\",\"2020-09-03\",\"2020-09-04\",\"2020-09-05\",\"2020-09-06\",\"2020-09-07\",\"2020-09-08\",\"2020-09-09\",\"2020-09-10\",\"2020-09-11\",\"2020-09-12\",\"2020-09-13\",\"2020-09-14\",\"2020-09-15\",\"2020-09-16\",\"2020-09-17\",\"2020-09-18\",\"2020-09-19\",\"2020-09-20\",\"2020-09-21\",\"2020-09-22\",\"2020-09-23\",\"2020-09-24\",\"2020-09-25\",\"2020-09-26\",\"2020-09-27\",\"2020-09-28\",\"2020-09-29\",\"2020-09-30\"]},\"id\":\"1003\",\"type\":\"FactorRange\"},{\"attributes\":{},\"id\":\"1052\",\"type\":\"AllLabels\"},{\"attributes\":{\"formatter\":{\"id\":\"1053\"},\"major_label_orientation\":\"vertical\",\"major_label_policy\":{\"id\":\"1052\"},\"ticker\":{\"id\":\"1012\"}},\"id\":\"1011\",\"type\":\"CategoricalAxis\"},{\"attributes\":{},\"id\":\"1060\",\"type\":\"Selection\"},{\"attributes\":{\"items\":[{\"id\":\"1047\"},{\"id\":\"1048\"}],\"location\":\"left\"},\"id\":\"1046\",\"type\":\"Legend\"},{\"attributes\":{},\"id\":\"1009\",\"type\":\"LinearScale\"},{\"attributes\":{\"fill_color\":{\"value\":\"#ff7f0e\"},\"line_color\":{\"value\":\"#ff7f0e\"},\"top\":{\"field\":\"Error MSE MLR+Genetic\"},\"width\":{\"value\":0.2},\"x\":{\"field\":\"date\",\"transform\":{\"id\":\"1039\"}}},\"id\":\"1042\",\"type\":\"VBar\"},{\"attributes\":{\"data_source\":{\"id\":\"1033\"},\"glyph\":{\"id\":\"1035\"},\"hover_glyph\":null,\"muted_glyph\":null,\"nonselection_glyph\":{\"id\":\"1036\"},\"view\":{\"id\":\"1038\"}},\"id\":\"1037\",\"type\":\"GlyphRenderer\"},{\"attributes\":{\"fill_alpha\":{\"value\":0.1},\"fill_color\":{\"value\":\"#ff7f0e\"},\"line_alpha\":{\"value\":0.1},\"line_color\":{\"value\":\"#ff7f0e\"},\"top\":{\"field\":\"Error MSE MLR+Genetic\"},\"width\":{\"value\":0.2},\"x\":{\"field\":\"date\",\"transform\":{\"id\":\"1039\"}}},\"id\":\"1043\",\"type\":\"VBar\"},{\"attributes\":{\"axis\":{\"id\":\"1014\"},\"dimension\":1,\"ticker\":null},\"id\":\"1017\",\"type\":\"Grid\"},{\"attributes\":{\"data_source\":{\"id\":\"1040\"},\"glyph\":{\"id\":\"1042\"},\"hover_glyph\":null,\"muted_glyph\":null,\"nonselection_glyph\":{\"id\":\"1043\"},\"view\":{\"id\":\"1045\"}},\"id\":\"1044\",\"type\":\"GlyphRenderer\"},{\"attributes\":{},\"id\":\"1049\",\"type\":\"Title\"},{\"attributes\":{\"data\":{\"Date\":{\"__ndarray__\":\"AACAaW9Ed0IAAEDPwUR3QgAAADUURXdCAADAmmZFd0IAAIAAuUV3QgAAQGYLRndCAAAAzF1Gd0IAAMAxsEZ3QgAAgJcCR3dCAABA/VRHd0IAAABjp0d3QgAAwMj5R3dCAACALkxId0IAAECUnkh3QgAAAPrwSHdCAADAX0NJd0IAAIDFlUl3QgAAQCvoSXdCAAAAkTpKd0IAAMD2jEp3QgAAgFzfSndCAABAwjFLd0IAAAAohEt3QgAAwI3WS3dCAACA8yhMd0IAAEBZe0x3QgAAAL/NTHdCAADAJCBNd0IAAICKck13QgAAQPDETXdC\",\"dtype\":\"float64\",\"order\":\"little\",\"shape\":[30]},\"Error MSE MLR\":{\"__ndarray__\":\"aX8ijq7FQUD/GY2i2BUsQLvSKscgGg1AEFXDOVllLkCObZmENAUZQMjKbHDahABAga9+0dlK7D+1BcxaZHZCQDcVuM3tD9I+XMwVdW9IVECzDysG0DoQQPLX90+I0hJAvBvCBqsCAkA7dAmL9cf1P+Mmn5/uwjRACPf/s2jNSUDXIXGP4qMSQMbsHyruPQ5AJ4vQ4qLCTEAOMUjusSoWQLg80c4AA8Y/Ycnoet6mbUDA+Ni5Z9c/QPenx3kXGUlAmzSgso6BQ0BLCVQYVH0hQHeL7wHrz+0/H15PJcX+CkD3ftfl6GJJQIVFTcNgdBNA\",\"dtype\":\"float64\",\"order\":\"little\",\"shape\":[30]},\"Error MSE MLR+Genetic\":{\"__ndarray__\":\"7NwkvdkJQUCk2j+g/DcwQHH71Ks8DRpAqxWnpLjcNUCqPLsm0c4iQHUsq+FIGhJAZ+x4r3SpBEAvq9/9h71FQAgfLw9Bis4/Ah6NgXTAUEBTLVRiWRoCQHDgaj6+cRhAOKZI4LMdAkAGqXNgBTj/PxSQpaXumjFAdelm9ew+TUBa4lhuWAcUQNt3ImfooRxAAdKKsXJlUUCFwV31d0MgQMe8Ae9dmP4/ZUTasPdPcEAOi0Js/IpCQB5Fw47AYlJA6Zj01BI5OUBSNiti44gtQGnCPg0xbfU/Gt1W9GIkFEAG0FMcNFRFQC5JBSEahghA\",\"dtype\":\"float64\",\"order\":\"little\",\"shape\":[30]},\"date\":[\"2020-09-01\",\"2020-09-02\",\"2020-09-03\",\"2020-09-04\",\"2020-09-05\",\"2020-09-06\",\"2020-09-07\",\"2020-09-08\",\"2020-09-09\",\"2020-09-10\",\"2020-09-11\",\"2020-09-12\",\"2020-09-13\",\"2020-09-14\",\"2020-09-15\",\"2020-09-16\",\"2020-09-17\",\"2020-09-18\",\"2020-09-19\",\"2020-09-20\",\"2020-09-21\",\"2020-09-22\",\"2020-09-23\",\"2020-09-24\",\"2020-09-25\",\"2020-09-26\",\"2020-09-27\",\"2020-09-28\",\"2020-09-29\",\"2020-09-30\"]},\"selected\":{\"id\":\"1060\"},\"selection_policy\":{\"id\":\"1059\"}},\"id\":\"1040\",\"type\":\"ColumnDataSource\"},{\"attributes\":{\"formatter\":{\"id\":\"1056\"},\"major_label_policy\":{\"id\":\"1055\"},\"ticker\":{\"id\":\"1015\"}},\"id\":\"1014\",\"type\":\"LinearAxis\"},{\"attributes\":{},\"id\":\"1021\",\"type\":\"SaveTool\"},{\"attributes\":{\"range\":{\"id\":\"1003\"},\"value\":0.11},\"id\":\"1039\",\"type\":\"Dodge\"},{\"attributes\":{},\"id\":\"1019\",\"type\":\"WheelZoomTool\"},{\"attributes\":{},\"id\":\"1056\",\"type\":\"BasicTickFormatter\"},{\"attributes\":{},\"id\":\"1007\",\"type\":\"CategoricalScale\"},{\"attributes\":{\"active_multi\":null,\"tools\":[{\"id\":\"1018\"},{\"id\":\"1019\"},{\"id\":\"1020\"},{\"id\":\"1021\"},{\"id\":\"1022\"},{\"id\":\"1023\"}]},\"id\":\"1025\",\"type\":\"Toolbar\"},{\"attributes\":{\"overlay\":{\"id\":\"1024\"}},\"id\":\"1020\",\"type\":\"BoxZoomTool\"},{\"attributes\":{},\"id\":\"1022\",\"type\":\"ResetTool\"},{\"attributes\":{\"fill_alpha\":{\"value\":0.1},\"fill_color\":{\"value\":\"#1f77b4\"},\"line_alpha\":{\"value\":0.1},\"line_color\":{\"value\":\"#1f77b4\"},\"top\":{\"field\":\"Error MSE MLR\"},\"width\":{\"value\":0.2},\"x\":{\"field\":\"date\",\"transform\":{\"id\":\"1032\"}}},\"id\":\"1036\",\"type\":\"VBar\"},{\"attributes\":{},\"id\":\"1018\",\"type\":\"PanTool\"},{\"attributes\":{},\"id\":\"1059\",\"type\":\"UnionRenderers\"},{\"attributes\":{\"fill_color\":{\"value\":\"#1f77b4\"},\"line_color\":{\"value\":\"#1f77b4\"},\"top\":{\"field\":\"Error MSE MLR\"},\"width\":{\"value\":0.2},\"x\":{\"field\":\"date\",\"transform\":{\"id\":\"1032\"}}},\"id\":\"1035\",\"type\":\"VBar\"},{\"attributes\":{},\"id\":\"1023\",\"type\":\"HelpTool\"},{\"attributes\":{\"range\":{\"id\":\"1003\"},\"value\":-0.11},\"id\":\"1032\",\"type\":\"Dodge\"},{\"attributes\":{},\"id\":\"1055\",\"type\":\"AllLabels\"},{\"attributes\":{},\"id\":\"1053\",\"type\":\"CategoricalTickFormatter\"},{\"attributes\":{\"bottom_units\":\"screen\",\"fill_alpha\":0.5,\"fill_color\":\"lightgrey\",\"left_units\":\"screen\",\"level\":\"overlay\",\"line_alpha\":1.0,\"line_color\":\"black\",\"line_dash\":[4,4],\"line_width\":2,\"right_units\":\"screen\",\"syncable\":false,\"top_units\":\"screen\"},\"id\":\"1024\",\"type\":\"BoxAnnotation\"},{\"attributes\":{},\"id\":\"1005\",\"type\":\"DataRange1d\"},{\"attributes\":{},\"id\":\"1012\",\"type\":\"CategoricalTicker\"}],\"root_ids\":[\"1002\"]},\"title\":\"Bokeh Application\",\"version\":\"2.3.3\"}};\n  var render_items = [{\"docid\":\"6866e5fb-21d1-4766-b6fb-8ab217b532ab\",\"root_ids\":[\"1002\"],\"roots\":{\"1002\":\"d2978406-2113-4c41-a192-36479b1fe66c\"}}];\n  root.Bokeh.embed.embed_items_notebook(docs_json, render_items);\n\n  }\n  if (root.Bokeh !== undefined) {\n    embed_document(root);\n  } else {\n    var attempts = 0;\n    var timer = setInterval(function(root) {\n      if (root.Bokeh !== undefined) {\n        clearInterval(timer);\n        embed_document(root);\n      } else {\n        attempts++;\n        if (attempts > 100) {\n          clearInterval(timer);\n          console.log(\"Bokeh: ERROR: Unable to run BokehJS code because BokehJS library is missing\");\n        }\n      }\n    }, 10, root)\n  }\n})(window);",
            "application/vnd.bokehjs_exec.v0+json": ""
          },
          "metadata": {
            "application/vnd.bokehjs_exec.v0+json": {
              "id": "1002"
            }
          },
          "output_type": "display_data"
        }
      ],
      "source": [
        "days = 30\n",
        "different = rekap[[\"Error MSE MLR\", \"Error MSE MLR+Genetic\"]].iloc[:days]\n",
        "dates_str = [a.strftime(\"%Y-%m-%d\") for a in different.index]\n",
        "different[\"date\"] = dates_str\n",
        "\n",
        "p = figure(width=900, height=500, x_range=dates_str)\n",
        "\n",
        "v1 = p.vbar(x=dodge(\"date\", -0.11, range=p.x_range), width=0.2, top=\"Error MSE MLR\", \n",
        "            color=Category10_4[0], source=different)\n",
        "\n",
        "v2 = p.vbar(x=dodge(\"date\", 0.11, range=p.x_range), width=0.2, top=\"Error MSE MLR+Genetic\", \n",
        "            color=Category10_4[1], source=different)\n",
        "\n",
        "legend = Legend(items=[\n",
        "    (\"Error MSE MLR\", [v1]), \n",
        "    (\"Error MSE MLR+Genetic\", [v2])\n",
        "], location=\"left\")\n",
        "\n",
        "p.xaxis.major_label_orientation = \"vertical\"\n",
        "p.add_layout(legend, \"above\")\n",
        "\n",
        "show(p)"
      ]
    },
    {
      "cell_type": "markdown",
      "metadata": {
        "id": "lSOQZj-EG6yx"
      },
      "source": [
        "## Diagram Garis Error"
      ]
    },
    {
      "cell_type": "code",
      "execution_count": null,
      "metadata": {
        "colab": {
          "base_uri": "https://localhost:8080/",
          "height": 517
        },
        "id": "VzuLwJaWG82T",
        "outputId": "b2420aa5-46a8-4317-e6ae-3cf0b71fc352"
      },
      "outputs": [
        {
          "data": {
            "application/javascript": "\n(function(root) {\n  function now() {\n    return new Date();\n  }\n\n  var force = true;\n\n  if (typeof root._bokeh_onload_callbacks === \"undefined\" || force === true) {\n    root._bokeh_onload_callbacks = [];\n    root._bokeh_is_loading = undefined;\n  }\n\n  var JS_MIME_TYPE = 'application/javascript';\n  var HTML_MIME_TYPE = 'text/html';\n  var EXEC_MIME_TYPE = 'application/vnd.bokehjs_exec.v0+json';\n  var CLASS_NAME = 'output_bokeh rendered_html';\n\n  /**\n   * Render data to the DOM node\n   */\n  function render(props, node) {\n    var script = document.createElement(\"script\");\n    node.appendChild(script);\n  }\n\n  /**\n   * Handle when an output is cleared or removed\n   */\n  function handleClearOutput(event, handle) {\n    var cell = handle.cell;\n\n    var id = cell.output_area._bokeh_element_id;\n    var server_id = cell.output_area._bokeh_server_id;\n    // Clean up Bokeh references\n    if (id != null && id in Bokeh.index) {\n      Bokeh.index[id].model.document.clear();\n      delete Bokeh.index[id];\n    }\n\n    if (server_id !== undefined) {\n      // Clean up Bokeh references\n      var cmd = \"from bokeh.io.state import curstate; print(curstate().uuid_to_server['\" + server_id + \"'].get_sessions()[0].document.roots[0]._id)\";\n      cell.notebook.kernel.execute(cmd, {\n        iopub: {\n          output: function(msg) {\n            var id = msg.content.text.trim();\n            if (id in Bokeh.index) {\n              Bokeh.index[id].model.document.clear();\n              delete Bokeh.index[id];\n            }\n          }\n        }\n      });\n      // Destroy server and session\n      var cmd = \"import bokeh.io.notebook as ion; ion.destroy_server('\" + server_id + \"')\";\n      cell.notebook.kernel.execute(cmd);\n    }\n  }\n\n  /**\n   * Handle when a new output is added\n   */\n  function handleAddOutput(event, handle) {\n    var output_area = handle.output_area;\n    var output = handle.output;\n\n    // limit handleAddOutput to display_data with EXEC_MIME_TYPE content only\n    if ((output.output_type != \"display_data\") || (!Object.prototype.hasOwnProperty.call(output.data, EXEC_MIME_TYPE))) {\n      return\n    }\n\n    var toinsert = output_area.element.find(\".\" + CLASS_NAME.split(' ')[0]);\n\n    if (output.metadata[EXEC_MIME_TYPE][\"id\"] !== undefined) {\n      toinsert[toinsert.length - 1].firstChild.textContent = output.data[JS_MIME_TYPE];\n      // store reference to embed id on output_area\n      output_area._bokeh_element_id = output.metadata[EXEC_MIME_TYPE][\"id\"];\n    }\n    if (output.metadata[EXEC_MIME_TYPE][\"server_id\"] !== undefined) {\n      var bk_div = document.createElement(\"div\");\n      bk_div.innerHTML = output.data[HTML_MIME_TYPE];\n      var script_attrs = bk_div.children[0].attributes;\n      for (var i = 0; i < script_attrs.length; i++) {\n        toinsert[toinsert.length - 1].firstChild.setAttribute(script_attrs[i].name, script_attrs[i].value);\n        toinsert[toinsert.length - 1].firstChild.textContent = bk_div.children[0].textContent\n      }\n      // store reference to server id on output_area\n      output_area._bokeh_server_id = output.metadata[EXEC_MIME_TYPE][\"server_id\"];\n    }\n  }\n\n  function register_renderer(events, OutputArea) {\n\n    function append_mime(data, metadata, element) {\n      // create a DOM node to render to\n      var toinsert = this.create_output_subarea(\n        metadata,\n        CLASS_NAME,\n        EXEC_MIME_TYPE\n      );\n      this.keyboard_manager.register_events(toinsert);\n      // Render to node\n      var props = {data: data, metadata: metadata[EXEC_MIME_TYPE]};\n      render(props, toinsert[toinsert.length - 1]);\n      element.append(toinsert);\n      return toinsert\n    }\n\n    /* Handle when an output is cleared or removed */\n    events.on('clear_output.CodeCell', handleClearOutput);\n    events.on('delete.Cell', handleClearOutput);\n\n    /* Handle when a new output is added */\n    events.on('output_added.OutputArea', handleAddOutput);\n\n    /**\n     * Register the mime type and append_mime function with output_area\n     */\n    OutputArea.prototype.register_mime_type(EXEC_MIME_TYPE, append_mime, {\n      /* Is output safe? */\n      safe: true,\n      /* Index of renderer in `output_area.display_order` */\n      index: 0\n    });\n  }\n\n  // register the mime type if in Jupyter Notebook environment and previously unregistered\n  if (root.Jupyter !== undefined) {\n    var events = require('base/js/events');\n    var OutputArea = require('notebook/js/outputarea').OutputArea;\n\n    if (OutputArea.prototype.mime_types().indexOf(EXEC_MIME_TYPE) == -1) {\n      register_renderer(events, OutputArea);\n    }\n  }\n\n  \n  if (typeof (root._bokeh_timeout) === \"undefined\" || force === true) {\n    root._bokeh_timeout = Date.now() + 5000;\n    root._bokeh_failed_load = false;\n  }\n\n  var NB_LOAD_WARNING = {'data': {'text/html':\n     \"<div style='background-color: #fdd'>\\n\"+\n     \"<p>\\n\"+\n     \"BokehJS does not appear to have successfully loaded. If loading BokehJS from CDN, this \\n\"+\n     \"may be due to a slow or bad network connection. Possible fixes:\\n\"+\n     \"</p>\\n\"+\n     \"<ul>\\n\"+\n     \"<li>re-rerun `output_notebook()` to attempt to load from CDN again, or</li>\\n\"+\n     \"<li>use INLINE resources instead, as so:</li>\\n\"+\n     \"</ul>\\n\"+\n     \"<code>\\n\"+\n     \"from bokeh.resources import INLINE\\n\"+\n     \"output_notebook(resources=INLINE)\\n\"+\n     \"</code>\\n\"+\n     \"</div>\"}};\n\n  function display_loaded() {\n    var el = document.getElementById(null);\n    if (el != null) {\n      el.textContent = \"BokehJS is loading...\";\n    }\n    if (root.Bokeh !== undefined) {\n      if (el != null) {\n        el.textContent = \"BokehJS \" + root.Bokeh.version + \" successfully loaded.\";\n      }\n    } else if (Date.now() < root._bokeh_timeout) {\n      setTimeout(display_loaded, 100)\n    }\n  }\n\n\n  function run_callbacks() {\n    try {\n      root._bokeh_onload_callbacks.forEach(function(callback) {\n        if (callback != null)\n          callback();\n      });\n    } finally {\n      delete root._bokeh_onload_callbacks\n    }\n    console.debug(\"Bokeh: all callbacks have finished\");\n  }\n\n  function load_libs(css_urls, js_urls, callback) {\n    if (css_urls == null) css_urls = [];\n    if (js_urls == null) js_urls = [];\n\n    root._bokeh_onload_callbacks.push(callback);\n    if (root._bokeh_is_loading > 0) {\n      console.debug(\"Bokeh: BokehJS is being loaded, scheduling callback at\", now());\n      return null;\n    }\n    if (js_urls == null || js_urls.length === 0) {\n      run_callbacks();\n      return null;\n    }\n    console.debug(\"Bokeh: BokehJS not loaded, scheduling load and callback at\", now());\n    root._bokeh_is_loading = css_urls.length + js_urls.length;\n\n    function on_load() {\n      root._bokeh_is_loading--;\n      if (root._bokeh_is_loading === 0) {\n        console.debug(\"Bokeh: all BokehJS libraries/stylesheets loaded\");\n        run_callbacks()\n      }\n    }\n\n    function on_error(url) {\n      console.error(\"failed to load \" + url);\n    }\n\n    for (let i = 0; i < css_urls.length; i++) {\n      const url = css_urls[i];\n      const element = document.createElement(\"link\");\n      element.onload = on_load;\n      element.onerror = on_error.bind(null, url);\n      element.rel = \"stylesheet\";\n      element.type = \"text/css\";\n      element.href = url;\n      console.debug(\"Bokeh: injecting link tag for BokehJS stylesheet: \", url);\n      document.body.appendChild(element);\n    }\n\n    const hashes = {\"https://cdn.bokeh.org/bokeh/release/bokeh-2.3.3.min.js\": \"dM3QQsP+wXdHg42wTqW85BjZQdLNNIXqlPw/BgKoExPmTG7ZLML4EGqLMfqHT6ON\", \"https://cdn.bokeh.org/bokeh/release/bokeh-tables-2.3.3.min.js\": \"8x57I4YuIfu8XyZfFo0XVr2WAT8EK4rh/uDe3wF7YuW2FNUSNEpJbsPaB1nJ2fz2\", \"https://cdn.bokeh.org/bokeh/release/bokeh-widgets-2.3.3.min.js\": \"3QTqdz9LyAm2i0sG5XTePsHec3UHWwVsrOL68SYRoAXsafvfAyqtQ+h440+qIBhS\"};\n\n    for (let i = 0; i < js_urls.length; i++) {\n      const url = js_urls[i];\n      const element = document.createElement('script');\n      element.onload = on_load;\n      element.onerror = on_error.bind(null, url);\n      element.async = false;\n      element.src = url;\n      if (url in hashes) {\n        element.crossOrigin = \"anonymous\";\n        element.integrity = \"sha384-\" + hashes[url];\n      }\n      console.debug(\"Bokeh: injecting script tag for BokehJS library: \", url);\n      document.head.appendChild(element);\n    }\n  };\n\n  function inject_raw_css(css) {\n    const element = document.createElement(\"style\");\n    element.appendChild(document.createTextNode(css));\n    document.body.appendChild(element);\n  }\n\n  \n  var js_urls = [\"https://cdn.bokeh.org/bokeh/release/bokeh-2.3.3.min.js\", \"https://cdn.bokeh.org/bokeh/release/bokeh-widgets-2.3.3.min.js\", \"https://cdn.bokeh.org/bokeh/release/bokeh-tables-2.3.3.min.js\"];\n  var css_urls = [];\n  \n\n  var inline_js = [\n    function(Bokeh) {\n      Bokeh.set_log_level(\"info\");\n    },\n    function(Bokeh) {\n    \n    \n    }\n  ];\n\n  function run_inline_js() {\n    \n    if (root.Bokeh !== undefined || force === true) {\n      \n    for (var i = 0; i < inline_js.length; i++) {\n      inline_js[i].call(root, root.Bokeh);\n    }\n    } else if (Date.now() < root._bokeh_timeout) {\n      setTimeout(run_inline_js, 100);\n    } else if (!root._bokeh_failed_load) {\n      console.log(\"Bokeh: BokehJS failed to load within specified timeout.\");\n      root._bokeh_failed_load = true;\n    } else if (force !== true) {\n      var cell = $(document.getElementById(null)).parents('.cell').data().cell;\n      cell.output_area.append_execute_result(NB_LOAD_WARNING)\n    }\n\n  }\n\n  if (root._bokeh_is_loading === 0) {\n    console.debug(\"Bokeh: BokehJS loaded, going straight to plotting\");\n    run_inline_js();\n  } else {\n    load_libs(css_urls, js_urls, function() {\n      console.debug(\"Bokeh: BokehJS plotting callback run at\", now());\n      run_inline_js();\n    });\n  }\n}(window));",
            "application/vnd.bokehjs_load.v0+json": ""
          },
          "metadata": {},
          "output_type": "display_data"
        },
        {
          "data": {
            "text/html": [
              "\n",
              "\n",
              "\n",
              "\n",
              "\n",
              "\n",
              "  <div class=\"bk-root\" id=\"c1657b42-b5c3-4207-87a3-2d8635464690\" data-root-id=\"1127\"></div>\n"
            ]
          },
          "metadata": {},
          "output_type": "display_data"
        },
        {
          "data": {
            "application/javascript": "(function(root) {\n  function embed_document(root) {\n    \n  var docs_json = {\"1adeecbe-3bdb-4502-98a9-bfeb7c6b1c1c\":{\"defs\":[],\"roots\":{\"references\":[{\"attributes\":{\"above\":[{\"id\":\"1183\"}],\"below\":[{\"id\":\"1138\"}],\"center\":[{\"id\":\"1140\"},{\"id\":\"1144\"}],\"height\":500,\"left\":[{\"id\":\"1141\"}],\"renderers\":[{\"id\":\"1163\"},{\"id\":\"1169\"},{\"id\":\"1175\"},{\"id\":\"1181\"}],\"title\":{\"id\":\"1128\"},\"toolbar\":{\"id\":\"1152\"},\"width\":900,\"x_range\":{\"id\":\"1130\"},\"x_scale\":{\"id\":\"1134\"},\"y_range\":{\"id\":\"1132\"},\"y_scale\":{\"id\":\"1136\"}},\"id\":\"1127\",\"subtype\":\"Figure\",\"type\":\"Plot\"},{\"attributes\":{\"line_color\":\"#1f77b4\",\"line_width\":1.5,\"x\":{\"field\":\"date\"},\"y\":{\"field\":\"Error MSE MLR\"}},\"id\":\"1161\",\"type\":\"Line\"},{\"attributes\":{\"data\":{\"Date\":{\"__ndarray__\":\"AACAaW9Ed0IAAEDPwUR3QgAAADUURXdCAADAmmZFd0IAAIAAuUV3QgAAQGYLRndCAAAAzF1Gd0IAAMAxsEZ3QgAAgJcCR3dCAABA/VRHd0IAAABjp0d3QgAAwMj5R3dCAACALkxId0IAAECUnkh3QgAAAPrwSHdCAADAX0NJd0IAAIDFlUl3QgAAQCvoSXdCAAAAkTpKd0IAAMD2jEp3QgAAgFzfSndCAABAwjFLd0IAAAAohEt3QgAAwI3WS3dCAACA8yhMd0IAAEBZe0x3QgAAAL/NTHdCAADAJCBNd0IAAICKck13QgAAQPDETXdC\",\"dtype\":\"float64\",\"order\":\"little\",\"shape\":[30]},\"Error MSE MLR\":{\"__ndarray__\":\"48fZmLvTWUADM9phttkJQCC3jMY7AwVAWtqs8EbbEkAOytpJs1MTQAQCXUhv2PQ/npYs/M3x4z/Ac01XCn5HQLI7fiCk6bs/nnAPvIt9WUCElH2BpVMiQDJ4iNzSsidAkaoENJg/AkBm6pJh7WfxP+yxug+cpz9A+VK93kqUUEBPiPZDEI0HQBo1KEaB8Q1Aa735KIzYSUBJ0ao6gVIKQDfUcY7f8KM/thAGtTrudkCgcJQ4+TpDQIWVGiR0CXBAgZvHfmMWQ0AxsYhXONYkQKsV9b6GKL8/ZCFWkTjVBkA9ECroFhJWQPQ8sTjAtiVA\",\"dtype\":\"float64\",\"order\":\"little\",\"shape\":[30]},\"Error MSE MLR+Genetic\":{\"__ndarray__\":\"WQk5ZzMlXkD5fs5AMFcbQMGxcosdIQNAmLk9Vpt0CkDbYHlca5kXQCidYmwPT/c/737ZrjL04D9K6PfeK89HQK9xNFGx2Zg/3D8mcJ0tW0DFd2lWauctQLD0HfXCPx9ApS85EOpqEUAM2w/fiSEBQD1unueeCDxAtO1ia1dsTkBAfSrBctYcQOXBFCHGghBA+u9u8vRfR0BOEXpSt1sWQMrrFuJcCGg/jnUG+/gTdkD/jICtoaNMQHtZobZvq21AtJTNiqqXREAzwaJ8SQkQQJe37fNCys8/jFPz+R+eEEBDpxvwX2VWQNaqdT49Wy1A\",\"dtype\":\"float64\",\"order\":\"little\",\"shape\":[30]},\"date\":[\"2020-09-01\",\"2020-09-02\",\"2020-09-03\",\"2020-09-04\",\"2020-09-05\",\"2020-09-06\",\"2020-09-07\",\"2020-09-08\",\"2020-09-09\",\"2020-09-10\",\"2020-09-11\",\"2020-09-12\",\"2020-09-13\",\"2020-09-14\",\"2020-09-15\",\"2020-09-16\",\"2020-09-17\",\"2020-09-18\",\"2020-09-19\",\"2020-09-20\",\"2020-09-21\",\"2020-09-22\",\"2020-09-23\",\"2020-09-24\",\"2020-09-25\",\"2020-09-26\",\"2020-09-27\",\"2020-09-28\",\"2020-09-29\",\"2020-09-30\"]},\"selected\":{\"id\":\"1213\"},\"selection_policy\":{\"id\":\"1214\"}},\"id\":\"1177\",\"type\":\"ColumnDataSource\"},{\"attributes\":{},\"id\":\"1204\",\"type\":\"CategoricalTickFormatter\"},{\"attributes\":{},\"id\":\"1213\",\"type\":\"Selection\"},{\"attributes\":{\"axis\":{\"id\":\"1138\"},\"ticker\":null},\"id\":\"1140\",\"type\":\"Grid\"},{\"attributes\":{\"items\":[{\"id\":\"1184\"},{\"id\":\"1185\"}],\"location\":\"left\"},\"id\":\"1183\",\"type\":\"Legend\"},{\"attributes\":{\"source\":{\"id\":\"1159\"}},\"id\":\"1164\",\"type\":\"CDSView\"},{\"attributes\":{},\"id\":\"1207\",\"type\":\"Selection\"},{\"attributes\":{},\"id\":\"1132\",\"type\":\"DataRange1d\"},{\"attributes\":{\"fill_color\":{\"value\":\"#ff7f0e\"},\"line_color\":{\"value\":\"#ff7f0e\"},\"size\":{\"value\":5},\"x\":{\"field\":\"date\"},\"y\":{\"field\":\"Error MSE MLR+Genetic\"}},\"id\":\"1179\",\"type\":\"Circle\"},{\"attributes\":{},\"id\":\"1128\",\"type\":\"Title\"},{\"attributes\":{},\"id\":\"1200\",\"type\":\"AllLabels\"},{\"attributes\":{},\"id\":\"1145\",\"type\":\"PanTool\"},{\"attributes\":{\"formatter\":{\"id\":\"1204\"},\"major_label_orientation\":\"vertical\",\"major_label_policy\":{\"id\":\"1203\"},\"ticker\":{\"id\":\"1139\"}},\"id\":\"1138\",\"type\":\"CategoricalAxis\"},{\"attributes\":{},\"id\":\"1208\",\"type\":\"UnionRenderers\"},{\"attributes\":{\"data_source\":{\"id\":\"1165\"},\"glyph\":{\"id\":\"1167\"},\"hover_glyph\":null,\"muted_glyph\":null,\"nonselection_glyph\":{\"id\":\"1168\"},\"view\":{\"id\":\"1170\"}},\"id\":\"1169\",\"type\":\"GlyphRenderer\"},{\"attributes\":{},\"id\":\"1146\",\"type\":\"WheelZoomTool\"},{\"attributes\":{\"axis\":{\"id\":\"1141\"},\"dimension\":1,\"ticker\":null},\"id\":\"1144\",\"type\":\"Grid\"},{\"attributes\":{\"data\":{\"Date\":{\"__ndarray__\":\"AACAaW9Ed0IAAEDPwUR3QgAAADUURXdCAADAmmZFd0IAAIAAuUV3QgAAQGYLRndCAAAAzF1Gd0IAAMAxsEZ3QgAAgJcCR3dCAABA/VRHd0IAAABjp0d3QgAAwMj5R3dCAACALkxId0IAAECUnkh3QgAAAPrwSHdCAADAX0NJd0IAAIDFlUl3QgAAQCvoSXdCAAAAkTpKd0IAAMD2jEp3QgAAgFzfSndCAABAwjFLd0IAAAAohEt3QgAAwI3WS3dCAACA8yhMd0IAAEBZe0x3QgAAAL/NTHdCAADAJCBNd0IAAICKck13QgAAQPDETXdC\",\"dtype\":\"float64\",\"order\":\"little\",\"shape\":[30]},\"Error MSE MLR\":{\"__ndarray__\":\"48fZmLvTWUADM9phttkJQCC3jMY7AwVAWtqs8EbbEkAOytpJs1MTQAQCXUhv2PQ/npYs/M3x4z/Ac01XCn5HQLI7fiCk6bs/nnAPvIt9WUCElH2BpVMiQDJ4iNzSsidAkaoENJg/AkBm6pJh7WfxP+yxug+cpz9A+VK93kqUUEBPiPZDEI0HQBo1KEaB8Q1Aa735KIzYSUBJ0ao6gVIKQDfUcY7f8KM/thAGtTrudkCgcJQ4+TpDQIWVGiR0CXBAgZvHfmMWQ0AxsYhXONYkQKsV9b6GKL8/ZCFWkTjVBkA9ECroFhJWQPQ8sTjAtiVA\",\"dtype\":\"float64\",\"order\":\"little\",\"shape\":[30]},\"Error MSE MLR+Genetic\":{\"__ndarray__\":\"WQk5ZzMlXkD5fs5AMFcbQMGxcosdIQNAmLk9Vpt0CkDbYHlca5kXQCidYmwPT/c/737ZrjL04D9K6PfeK89HQK9xNFGx2Zg/3D8mcJ0tW0DFd2lWauctQLD0HfXCPx9ApS85EOpqEUAM2w/fiSEBQD1unueeCDxAtO1ia1dsTkBAfSrBctYcQOXBFCHGghBA+u9u8vRfR0BOEXpSt1sWQMrrFuJcCGg/jnUG+/gTdkD/jICtoaNMQHtZobZvq21AtJTNiqqXREAzwaJ8SQkQQJe37fNCys8/jFPz+R+eEEBDpxvwX2VWQNaqdT49Wy1A\",\"dtype\":\"float64\",\"order\":\"little\",\"shape\":[30]},\"date\":[\"2020-09-01\",\"2020-09-02\",\"2020-09-03\",\"2020-09-04\",\"2020-09-05\",\"2020-09-06\",\"2020-09-07\",\"2020-09-08\",\"2020-09-09\",\"2020-09-10\",\"2020-09-11\",\"2020-09-12\",\"2020-09-13\",\"2020-09-14\",\"2020-09-15\",\"2020-09-16\",\"2020-09-17\",\"2020-09-18\",\"2020-09-19\",\"2020-09-20\",\"2020-09-21\",\"2020-09-22\",\"2020-09-23\",\"2020-09-24\",\"2020-09-25\",\"2020-09-26\",\"2020-09-27\",\"2020-09-28\",\"2020-09-29\",\"2020-09-30\"]},\"selected\":{\"id\":\"1207\"},\"selection_policy\":{\"id\":\"1208\"}},\"id\":\"1159\",\"type\":\"ColumnDataSource\"},{\"attributes\":{\"source\":{\"id\":\"1177\"}},\"id\":\"1182\",\"type\":\"CDSView\"},{\"attributes\":{\"overlay\":{\"id\":\"1151\"}},\"id\":\"1147\",\"type\":\"BoxZoomTool\"},{\"attributes\":{\"formatter\":{\"id\":\"1201\"},\"major_label_policy\":{\"id\":\"1200\"},\"ticker\":{\"id\":\"1142\"}},\"id\":\"1141\",\"type\":\"LinearAxis\"},{\"attributes\":{\"data_source\":{\"id\":\"1177\"},\"glyph\":{\"id\":\"1179\"},\"hover_glyph\":null,\"muted_glyph\":null,\"nonselection_glyph\":{\"id\":\"1180\"},\"view\":{\"id\":\"1182\"}},\"id\":\"1181\",\"type\":\"GlyphRenderer\"},{\"attributes\":{},\"id\":\"1209\",\"type\":\"Selection\"},{\"attributes\":{},\"id\":\"1148\",\"type\":\"SaveTool\"},{\"attributes\":{\"data\":{\"Date\":{\"__ndarray__\":\"AACAaW9Ed0IAAEDPwUR3QgAAADUURXdCAADAmmZFd0IAAIAAuUV3QgAAQGYLRndCAAAAzF1Gd0IAAMAxsEZ3QgAAgJcCR3dCAABA/VRHd0IAAABjp0d3QgAAwMj5R3dCAACALkxId0IAAECUnkh3QgAAAPrwSHdCAADAX0NJd0IAAIDFlUl3QgAAQCvoSXdCAAAAkTpKd0IAAMD2jEp3QgAAgFzfSndCAABAwjFLd0IAAAAohEt3QgAAwI3WS3dCAACA8yhMd0IAAEBZe0x3QgAAAL/NTHdCAADAJCBNd0IAAICKck13QgAAQPDETXdC\",\"dtype\":\"float64\",\"order\":\"little\",\"shape\":[30]},\"Error MSE MLR\":{\"__ndarray__\":\"48fZmLvTWUADM9phttkJQCC3jMY7AwVAWtqs8EbbEkAOytpJs1MTQAQCXUhv2PQ/npYs/M3x4z/Ac01XCn5HQLI7fiCk6bs/nnAPvIt9WUCElH2BpVMiQDJ4iNzSsidAkaoENJg/AkBm6pJh7WfxP+yxug+cpz9A+VK93kqUUEBPiPZDEI0HQBo1KEaB8Q1Aa735KIzYSUBJ0ao6gVIKQDfUcY7f8KM/thAGtTrudkCgcJQ4+TpDQIWVGiR0CXBAgZvHfmMWQ0AxsYhXONYkQKsV9b6GKL8/ZCFWkTjVBkA9ECroFhJWQPQ8sTjAtiVA\",\"dtype\":\"float64\",\"order\":\"little\",\"shape\":[30]},\"Error MSE MLR+Genetic\":{\"__ndarray__\":\"WQk5ZzMlXkD5fs5AMFcbQMGxcosdIQNAmLk9Vpt0CkDbYHlca5kXQCidYmwPT/c/737ZrjL04D9K6PfeK89HQK9xNFGx2Zg/3D8mcJ0tW0DFd2lWauctQLD0HfXCPx9ApS85EOpqEUAM2w/fiSEBQD1unueeCDxAtO1ia1dsTkBAfSrBctYcQOXBFCHGghBA+u9u8vRfR0BOEXpSt1sWQMrrFuJcCGg/jnUG+/gTdkD/jICtoaNMQHtZobZvq21AtJTNiqqXREAzwaJ8SQkQQJe37fNCys8/jFPz+R+eEEBDpxvwX2VWQNaqdT49Wy1A\",\"dtype\":\"float64\",\"order\":\"little\",\"shape\":[30]},\"date\":[\"2020-09-01\",\"2020-09-02\",\"2020-09-03\",\"2020-09-04\",\"2020-09-05\",\"2020-09-06\",\"2020-09-07\",\"2020-09-08\",\"2020-09-09\",\"2020-09-10\",\"2020-09-11\",\"2020-09-12\",\"2020-09-13\",\"2020-09-14\",\"2020-09-15\",\"2020-09-16\",\"2020-09-17\",\"2020-09-18\",\"2020-09-19\",\"2020-09-20\",\"2020-09-21\",\"2020-09-22\",\"2020-09-23\",\"2020-09-24\",\"2020-09-25\",\"2020-09-26\",\"2020-09-27\",\"2020-09-28\",\"2020-09-29\",\"2020-09-30\"]},\"selected\":{\"id\":\"1211\"},\"selection_policy\":{\"id\":\"1212\"}},\"id\":\"1171\",\"type\":\"ColumnDataSource\"},{\"attributes\":{},\"id\":\"1210\",\"type\":\"UnionRenderers\"},{\"attributes\":{\"active_multi\":null,\"tools\":[{\"id\":\"1145\"},{\"id\":\"1146\"},{\"id\":\"1147\"},{\"id\":\"1148\"},{\"id\":\"1149\"},{\"id\":\"1150\"}]},\"id\":\"1152\",\"type\":\"Toolbar\"},{\"attributes\":{\"data_source\":{\"id\":\"1159\"},\"glyph\":{\"id\":\"1161\"},\"hover_glyph\":null,\"muted_glyph\":null,\"nonselection_glyph\":{\"id\":\"1162\"},\"view\":{\"id\":\"1164\"}},\"id\":\"1163\",\"type\":\"GlyphRenderer\"},{\"attributes\":{},\"id\":\"1203\",\"type\":\"AllLabels\"},{\"attributes\":{},\"id\":\"1150\",\"type\":\"HelpTool\"},{\"attributes\":{\"line_alpha\":0.1,\"line_color\":\"#1f77b4\",\"line_width\":1.5,\"x\":{\"field\":\"date\"},\"y\":{\"field\":\"Error MSE MLR\"}},\"id\":\"1162\",\"type\":\"Line\"},{\"attributes\":{\"fill_alpha\":{\"value\":0.1},\"fill_color\":{\"value\":\"#ff7f0e\"},\"line_alpha\":{\"value\":0.1},\"line_color\":{\"value\":\"#ff7f0e\"},\"size\":{\"value\":5},\"x\":{\"field\":\"date\"},\"y\":{\"field\":\"Error MSE MLR+Genetic\"}},\"id\":\"1180\",\"type\":\"Circle\"},{\"attributes\":{},\"id\":\"1149\",\"type\":\"ResetTool\"},{\"attributes\":{\"bottom_units\":\"screen\",\"fill_alpha\":0.5,\"fill_color\":\"lightgrey\",\"left_units\":\"screen\",\"level\":\"overlay\",\"line_alpha\":1.0,\"line_color\":\"black\",\"line_dash\":[4,4],\"line_width\":2,\"right_units\":\"screen\",\"syncable\":false,\"top_units\":\"screen\"},\"id\":\"1151\",\"type\":\"BoxAnnotation\"},{\"attributes\":{},\"id\":\"1211\",\"type\":\"Selection\"},{\"attributes\":{},\"id\":\"1212\",\"type\":\"UnionRenderers\"},{\"attributes\":{\"fill_color\":{\"value\":\"#1f77b4\"},\"line_color\":{\"value\":\"#1f77b4\"},\"size\":{\"value\":5},\"x\":{\"field\":\"date\"},\"y\":{\"field\":\"Error MSE MLR\"}},\"id\":\"1167\",\"type\":\"Circle\"},{\"attributes\":{\"data_source\":{\"id\":\"1171\"},\"glyph\":{\"id\":\"1173\"},\"hover_glyph\":null,\"muted_glyph\":null,\"nonselection_glyph\":{\"id\":\"1174\"},\"view\":{\"id\":\"1176\"}},\"id\":\"1175\",\"type\":\"GlyphRenderer\"},{\"attributes\":{},\"id\":\"1139\",\"type\":\"CategoricalTicker\"},{\"attributes\":{\"label\":{\"value\":\"Error MSE MLR+Genetic\"},\"renderers\":[{\"id\":\"1175\"},{\"id\":\"1181\"}]},\"id\":\"1185\",\"type\":\"LegendItem\"},{\"attributes\":{\"label\":{\"value\":\"Error MSE MLR\"},\"renderers\":[{\"id\":\"1163\"},{\"id\":\"1169\"}]},\"id\":\"1184\",\"type\":\"LegendItem\"},{\"attributes\":{\"data\":{\"Date\":{\"__ndarray__\":\"AACAaW9Ed0IAAEDPwUR3QgAAADUURXdCAADAmmZFd0IAAIAAuUV3QgAAQGYLRndCAAAAzF1Gd0IAAMAxsEZ3QgAAgJcCR3dCAABA/VRHd0IAAABjp0d3QgAAwMj5R3dCAACALkxId0IAAECUnkh3QgAAAPrwSHdCAADAX0NJd0IAAIDFlUl3QgAAQCvoSXdCAAAAkTpKd0IAAMD2jEp3QgAAgFzfSndCAABAwjFLd0IAAAAohEt3QgAAwI3WS3dCAACA8yhMd0IAAEBZe0x3QgAAAL/NTHdCAADAJCBNd0IAAICKck13QgAAQPDETXdC\",\"dtype\":\"float64\",\"order\":\"little\",\"shape\":[30]},\"Error MSE MLR\":{\"__ndarray__\":\"48fZmLvTWUADM9phttkJQCC3jMY7AwVAWtqs8EbbEkAOytpJs1MTQAQCXUhv2PQ/npYs/M3x4z/Ac01XCn5HQLI7fiCk6bs/nnAPvIt9WUCElH2BpVMiQDJ4iNzSsidAkaoENJg/AkBm6pJh7WfxP+yxug+cpz9A+VK93kqUUEBPiPZDEI0HQBo1KEaB8Q1Aa735KIzYSUBJ0ao6gVIKQDfUcY7f8KM/thAGtTrudkCgcJQ4+TpDQIWVGiR0CXBAgZvHfmMWQ0AxsYhXONYkQKsV9b6GKL8/ZCFWkTjVBkA9ECroFhJWQPQ8sTjAtiVA\",\"dtype\":\"float64\",\"order\":\"little\",\"shape\":[30]},\"Error MSE MLR+Genetic\":{\"__ndarray__\":\"WQk5ZzMlXkD5fs5AMFcbQMGxcosdIQNAmLk9Vpt0CkDbYHlca5kXQCidYmwPT/c/737ZrjL04D9K6PfeK89HQK9xNFGx2Zg/3D8mcJ0tW0DFd2lWauctQLD0HfXCPx9ApS85EOpqEUAM2w/fiSEBQD1unueeCDxAtO1ia1dsTkBAfSrBctYcQOXBFCHGghBA+u9u8vRfR0BOEXpSt1sWQMrrFuJcCGg/jnUG+/gTdkD/jICtoaNMQHtZobZvq21AtJTNiqqXREAzwaJ8SQkQQJe37fNCys8/jFPz+R+eEEBDpxvwX2VWQNaqdT49Wy1A\",\"dtype\":\"float64\",\"order\":\"little\",\"shape\":[30]},\"date\":[\"2020-09-01\",\"2020-09-02\",\"2020-09-03\",\"2020-09-04\",\"2020-09-05\",\"2020-09-06\",\"2020-09-07\",\"2020-09-08\",\"2020-09-09\",\"2020-09-10\",\"2020-09-11\",\"2020-09-12\",\"2020-09-13\",\"2020-09-14\",\"2020-09-15\",\"2020-09-16\",\"2020-09-17\",\"2020-09-18\",\"2020-09-19\",\"2020-09-20\",\"2020-09-21\",\"2020-09-22\",\"2020-09-23\",\"2020-09-24\",\"2020-09-25\",\"2020-09-26\",\"2020-09-27\",\"2020-09-28\",\"2020-09-29\",\"2020-09-30\"]},\"selected\":{\"id\":\"1209\"},\"selection_policy\":{\"id\":\"1210\"}},\"id\":\"1165\",\"type\":\"ColumnDataSource\"},{\"attributes\":{\"line_alpha\":0.1,\"line_color\":\"#ff7f0e\",\"line_width\":1.5,\"x\":{\"field\":\"date\"},\"y\":{\"field\":\"Error MSE MLR+Genetic\"}},\"id\":\"1174\",\"type\":\"Line\"},{\"attributes\":{},\"id\":\"1142\",\"type\":\"BasicTicker\"},{\"attributes\":{\"source\":{\"id\":\"1165\"}},\"id\":\"1170\",\"type\":\"CDSView\"},{\"attributes\":{\"fill_alpha\":{\"value\":0.1},\"fill_color\":{\"value\":\"#1f77b4\"},\"line_alpha\":{\"value\":0.1},\"line_color\":{\"value\":\"#1f77b4\"},\"size\":{\"value\":5},\"x\":{\"field\":\"date\"},\"y\":{\"field\":\"Error MSE MLR\"}},\"id\":\"1168\",\"type\":\"Circle\"},{\"attributes\":{\"factors\":[\"2020-09-01\",\"2020-09-02\",\"2020-09-03\",\"2020-09-04\",\"2020-09-05\",\"2020-09-06\",\"2020-09-07\",\"2020-09-08\",\"2020-09-09\",\"2020-09-10\",\"2020-09-11\",\"2020-09-12\",\"2020-09-13\",\"2020-09-14\",\"2020-09-15\",\"2020-09-16\",\"2020-09-17\",\"2020-09-18\",\"2020-09-19\",\"2020-09-20\",\"2020-09-21\",\"2020-09-22\",\"2020-09-23\",\"2020-09-24\",\"2020-09-25\",\"2020-09-26\",\"2020-09-27\",\"2020-09-28\",\"2020-09-29\",\"2020-09-30\"]},\"id\":\"1130\",\"type\":\"FactorRange\"},{\"attributes\":{},\"id\":\"1136\",\"type\":\"LinearScale\"},{\"attributes\":{},\"id\":\"1201\",\"type\":\"BasicTickFormatter\"},{\"attributes\":{\"line_color\":\"#ff7f0e\",\"line_width\":1.5,\"x\":{\"field\":\"date\"},\"y\":{\"field\":\"Error MSE MLR+Genetic\"}},\"id\":\"1173\",\"type\":\"Line\"},{\"attributes\":{},\"id\":\"1134\",\"type\":\"CategoricalScale\"},{\"attributes\":{\"source\":{\"id\":\"1171\"}},\"id\":\"1176\",\"type\":\"CDSView\"},{\"attributes\":{},\"id\":\"1214\",\"type\":\"UnionRenderers\"}],\"root_ids\":[\"1127\"]},\"title\":\"Bokeh Application\",\"version\":\"2.3.3\"}};\n  var render_items = [{\"docid\":\"1adeecbe-3bdb-4502-98a9-bfeb7c6b1c1c\",\"root_ids\":[\"1127\"],\"roots\":{\"1127\":\"c1657b42-b5c3-4207-87a3-2d8635464690\"}}];\n  root.Bokeh.embed.embed_items_notebook(docs_json, render_items);\n\n  }\n  if (root.Bokeh !== undefined) {\n    embed_document(root);\n  } else {\n    var attempts = 0;\n    var timer = setInterval(function(root) {\n      if (root.Bokeh !== undefined) {\n        clearInterval(timer);\n        embed_document(root);\n      } else {\n        attempts++;\n        if (attempts > 100) {\n          clearInterval(timer);\n          console.log(\"Bokeh: ERROR: Unable to run BokehJS code because BokehJS library is missing\");\n        }\n      }\n    }, 10, root)\n  }\n})(window);",
            "application/vnd.bokehjs_exec.v0+json": ""
          },
          "metadata": {
            "application/vnd.bokehjs_exec.v0+json": {
              "id": "1127"
            }
          },
          "output_type": "display_data"
        }
      ],
      "source": [
        "p = figure(width=900, height=500, x_range=dates_str, title=\"\")\n",
        "\n",
        "l1 = p.line(x=\"date\", y=\"Error MSE MLR\", line_width=1.5, color=Category10_4[0], source=different)\n",
        "c1 = p.circle(x=\"date\", y=\"Error MSE MLR\", size=5, color=Category10_4[0], source=different)\n",
        "l2 = p.line(x=\"date\", y=\"Error MSE MLR+Genetic\", line_width=1.5, color=Category10_4[1], source=different)\n",
        "c2 = p.circle(x=\"date\", y=\"Error MSE MLR+Genetic\", size=5, color=Category10_4[1], source=different)\n",
        "\n",
        "legend = Legend(items=[\n",
        "    (\"Error MSE MLR\", [l1, c1]), \n",
        "    (\"Error MSE MLR+Genetic\", [l2, c2])\n",
        "], location=\"left\")\n",
        "\n",
        "p.xaxis.major_label_orientation = \"vertical\"\n",
        "p.add_layout(legend, \"above\")\n",
        "\n",
        "show(p)"
      ]
    },
    {
      "cell_type": "markdown",
      "metadata": {
        "id": "5hACMGdnzjmJ"
      },
      "source": [
        "## Prediksi pada Jangka Waktu Tertentu"
      ]
    },
    {
      "cell_type": "code",
      "execution_count": null,
      "metadata": {
        "id": "XqVHQNEuRopL"
      },
      "outputs": [],
      "source": [
        "def predict_future(steps, X, model, colname):\n",
        "    predictions = []\n",
        "    dates = []\n",
        "\n",
        "    # Ambil indeks terakhir pada data\n",
        "    feature = X.iloc[-1:].copy()\n",
        "    for step in range(steps):\n",
        "        # Prediksi pada masa depan\n",
        "        prediction = model.predict(feature)[0][0]\n",
        "        \n",
        "        # Simpan tanggal dan hasil prediksi\n",
        "        feature.index += pd.Timedelta(days=1)\n",
        "        predictions.append(prediction)\n",
        "        dates.append(feature.index[0])\n",
        "\n",
        "        # Ganti fitur data dengan hasil prediksi sebelumnya\n",
        "        feature = feature.shift(axis=1).replace(np.nan, prediction)\n",
        "\n",
        "    return pd.DataFrame(predictions, columns=[colname], index=dates)"
      ]
    },
    {
      "cell_type": "markdown",
      "metadata": {
        "id": "IRwOQqj-WGPW"
      },
      "source": [
        "Uji coba fungsi"
      ]
    },
    {
      "cell_type": "code",
      "execution_count": null,
      "metadata": {
        "colab": {
          "base_uri": "https://localhost:8080/",
          "height": 112
        },
        "id": "YDKUJODIVp5f",
        "outputId": "7bd346d9-d37d-4944-d9e1-eea76000e14d"
      },
      "outputs": [
        {
          "data": {
            "text/html": [
              "\n",
              "  <div id=\"df-ad35947d-ca64-49bd-a8c1-c877af808679\">\n",
              "    <div class=\"colab-df-container\">\n",
              "      <div>\n",
              "<style scoped>\n",
              "    .dataframe tbody tr th:only-of-type {\n",
              "        vertical-align: middle;\n",
              "    }\n",
              "\n",
              "    .dataframe tbody tr th {\n",
              "        vertical-align: top;\n",
              "    }\n",
              "\n",
              "    .dataframe thead th {\n",
              "        text-align: right;\n",
              "    }\n",
              "</style>\n",
              "<table border=\"1\" class=\"dataframe\">\n",
              "  <thead>\n",
              "    <tr style=\"text-align: right;\">\n",
              "      <th></th>\n",
              "      <th>prediksi_</th>\n",
              "    </tr>\n",
              "  </thead>\n",
              "  <tbody>\n",
              "    <tr>\n",
              "      <th>2021-08-01</th>\n",
              "      <td>849.512548</td>\n",
              "    </tr>\n",
              "    <tr>\n",
              "      <th>2021-08-02</th>\n",
              "      <td>851.426636</td>\n",
              "    </tr>\n",
              "  </tbody>\n",
              "</table>\n",
              "</div>\n",
              "      <button class=\"colab-df-convert\" onclick=\"convertToInteractive('df-ad35947d-ca64-49bd-a8c1-c877af808679')\"\n",
              "              title=\"Convert this dataframe to an interactive table.\"\n",
              "              style=\"display:none;\">\n",
              "        \n",
              "  <svg xmlns=\"http://www.w3.org/2000/svg\" height=\"24px\"viewBox=\"0 0 24 24\"\n",
              "       width=\"24px\">\n",
              "    <path d=\"M0 0h24v24H0V0z\" fill=\"none\"/>\n",
              "    <path d=\"M18.56 5.44l.94 2.06.94-2.06 2.06-.94-2.06-.94-.94-2.06-.94 2.06-2.06.94zm-11 1L8.5 8.5l.94-2.06 2.06-.94-2.06-.94L8.5 2.5l-.94 2.06-2.06.94zm10 10l.94 2.06.94-2.06 2.06-.94-2.06-.94-.94-2.06-.94 2.06-2.06.94z\"/><path d=\"M17.41 7.96l-1.37-1.37c-.4-.4-.92-.59-1.43-.59-.52 0-1.04.2-1.43.59L10.3 9.45l-7.72 7.72c-.78.78-.78 2.05 0 2.83L4 21.41c.39.39.9.59 1.41.59.51 0 1.02-.2 1.41-.59l7.78-7.78 2.81-2.81c.8-.78.8-2.07 0-2.86zM5.41 20L4 18.59l7.72-7.72 1.47 1.35L5.41 20z\"/>\n",
              "  </svg>\n",
              "      </button>\n",
              "      \n",
              "  <style>\n",
              "    .colab-df-container {\n",
              "      display:flex;\n",
              "      flex-wrap:wrap;\n",
              "      gap: 12px;\n",
              "    }\n",
              "\n",
              "    .colab-df-convert {\n",
              "      background-color: #E8F0FE;\n",
              "      border: none;\n",
              "      border-radius: 50%;\n",
              "      cursor: pointer;\n",
              "      display: none;\n",
              "      fill: #1967D2;\n",
              "      height: 32px;\n",
              "      padding: 0 0 0 0;\n",
              "      width: 32px;\n",
              "    }\n",
              "\n",
              "    .colab-df-convert:hover {\n",
              "      background-color: #E2EBFA;\n",
              "      box-shadow: 0px 1px 2px rgba(60, 64, 67, 0.3), 0px 1px 3px 1px rgba(60, 64, 67, 0.15);\n",
              "      fill: #174EA6;\n",
              "    }\n",
              "\n",
              "    [theme=dark] .colab-df-convert {\n",
              "      background-color: #3B4455;\n",
              "      fill: #D2E3FC;\n",
              "    }\n",
              "\n",
              "    [theme=dark] .colab-df-convert:hover {\n",
              "      background-color: #434B5C;\n",
              "      box-shadow: 0px 1px 3px 1px rgba(0, 0, 0, 0.15);\n",
              "      filter: drop-shadow(0px 1px 2px rgba(0, 0, 0, 0.3));\n",
              "      fill: #FFFFFF;\n",
              "    }\n",
              "  </style>\n",
              "\n",
              "      <script>\n",
              "        const buttonEl =\n",
              "          document.querySelector('#df-ad35947d-ca64-49bd-a8c1-c877af808679 button.colab-df-convert');\n",
              "        buttonEl.style.display =\n",
              "          google.colab.kernel.accessAllowed ? 'block' : 'none';\n",
              "\n",
              "        async function convertToInteractive(key) {\n",
              "          const element = document.querySelector('#df-ad35947d-ca64-49bd-a8c1-c877af808679');\n",
              "          const dataTable =\n",
              "            await google.colab.kernel.invokeFunction('convertToInteractive',\n",
              "                                                     [key], {});\n",
              "          if (!dataTable) return;\n",
              "\n",
              "          const docLinkHtml = 'Like what you see? Visit the ' +\n",
              "            '<a target=\"_blank\" href=https://colab.research.google.com/notebooks/data_table.ipynb>data table notebook</a>'\n",
              "            + ' to learn more about interactive tables.';\n",
              "          element.innerHTML = '';\n",
              "          dataTable['output_type'] = 'display_data';\n",
              "          await google.colab.output.renderOutput(dataTable, element);\n",
              "          const docLink = document.createElement('div');\n",
              "          docLink.innerHTML = docLinkHtml;\n",
              "          element.appendChild(docLink);\n",
              "        }\n",
              "      </script>\n",
              "    </div>\n",
              "  </div>\n",
              "  "
            ],
            "text/plain": [
              "             prediksi_\n",
              "2021-08-01  849.512548\n",
              "2021-08-02  851.426636"
            ]
          },
          "execution_count": 39,
          "metadata": {},
          "output_type": "execute_result"
        }
      ],
      "source": [
        "predict_future(2, X_test_used, linreg_ga_used, \"prediksi_\")"
      ]
    },
    {
      "cell_type": "markdown",
      "metadata": {
        "id": "jRj2_sFK8PU-"
      },
      "source": [
        "Terapkan Fungsi"
      ]
    },
    {
      "cell_type": "code",
      "execution_count": null,
      "metadata": {
        "colab": {
          "base_uri": "https://localhost:8080/",
          "height": 1000
        },
        "id": "lInSPqiBzZJ0",
        "outputId": "b4c2ec03-bb56-4f85-ece7-16a990c1a4c3"
      },
      "outputs": [
        {
          "name": "stdout",
          "output_type": "stream",
          "text": [
            "Masukkan Jangka Waktu Prediksi (hari)                                 10\n",
            "\n"
          ]
        },
        {
          "data": {
            "application/javascript": "\n(function(root) {\n  function now() {\n    return new Date();\n  }\n\n  var force = true;\n\n  if (typeof root._bokeh_onload_callbacks === \"undefined\" || force === true) {\n    root._bokeh_onload_callbacks = [];\n    root._bokeh_is_loading = undefined;\n  }\n\n  var JS_MIME_TYPE = 'application/javascript';\n  var HTML_MIME_TYPE = 'text/html';\n  var EXEC_MIME_TYPE = 'application/vnd.bokehjs_exec.v0+json';\n  var CLASS_NAME = 'output_bokeh rendered_html';\n\n  /**\n   * Render data to the DOM node\n   */\n  function render(props, node) {\n    var script = document.createElement(\"script\");\n    node.appendChild(script);\n  }\n\n  /**\n   * Handle when an output is cleared or removed\n   */\n  function handleClearOutput(event, handle) {\n    var cell = handle.cell;\n\n    var id = cell.output_area._bokeh_element_id;\n    var server_id = cell.output_area._bokeh_server_id;\n    // Clean up Bokeh references\n    if (id != null && id in Bokeh.index) {\n      Bokeh.index[id].model.document.clear();\n      delete Bokeh.index[id];\n    }\n\n    if (server_id !== undefined) {\n      // Clean up Bokeh references\n      var cmd = \"from bokeh.io.state import curstate; print(curstate().uuid_to_server['\" + server_id + \"'].get_sessions()[0].document.roots[0]._id)\";\n      cell.notebook.kernel.execute(cmd, {\n        iopub: {\n          output: function(msg) {\n            var id = msg.content.text.trim();\n            if (id in Bokeh.index) {\n              Bokeh.index[id].model.document.clear();\n              delete Bokeh.index[id];\n            }\n          }\n        }\n      });\n      // Destroy server and session\n      var cmd = \"import bokeh.io.notebook as ion; ion.destroy_server('\" + server_id + \"')\";\n      cell.notebook.kernel.execute(cmd);\n    }\n  }\n\n  /**\n   * Handle when a new output is added\n   */\n  function handleAddOutput(event, handle) {\n    var output_area = handle.output_area;\n    var output = handle.output;\n\n    // limit handleAddOutput to display_data with EXEC_MIME_TYPE content only\n    if ((output.output_type != \"display_data\") || (!Object.prototype.hasOwnProperty.call(output.data, EXEC_MIME_TYPE))) {\n      return\n    }\n\n    var toinsert = output_area.element.find(\".\" + CLASS_NAME.split(' ')[0]);\n\n    if (output.metadata[EXEC_MIME_TYPE][\"id\"] !== undefined) {\n      toinsert[toinsert.length - 1].firstChild.textContent = output.data[JS_MIME_TYPE];\n      // store reference to embed id on output_area\n      output_area._bokeh_element_id = output.metadata[EXEC_MIME_TYPE][\"id\"];\n    }\n    if (output.metadata[EXEC_MIME_TYPE][\"server_id\"] !== undefined) {\n      var bk_div = document.createElement(\"div\");\n      bk_div.innerHTML = output.data[HTML_MIME_TYPE];\n      var script_attrs = bk_div.children[0].attributes;\n      for (var i = 0; i < script_attrs.length; i++) {\n        toinsert[toinsert.length - 1].firstChild.setAttribute(script_attrs[i].name, script_attrs[i].value);\n        toinsert[toinsert.length - 1].firstChild.textContent = bk_div.children[0].textContent\n      }\n      // store reference to server id on output_area\n      output_area._bokeh_server_id = output.metadata[EXEC_MIME_TYPE][\"server_id\"];\n    }\n  }\n\n  function register_renderer(events, OutputArea) {\n\n    function append_mime(data, metadata, element) {\n      // create a DOM node to render to\n      var toinsert = this.create_output_subarea(\n        metadata,\n        CLASS_NAME,\n        EXEC_MIME_TYPE\n      );\n      this.keyboard_manager.register_events(toinsert);\n      // Render to node\n      var props = {data: data, metadata: metadata[EXEC_MIME_TYPE]};\n      render(props, toinsert[toinsert.length - 1]);\n      element.append(toinsert);\n      return toinsert\n    }\n\n    /* Handle when an output is cleared or removed */\n    events.on('clear_output.CodeCell', handleClearOutput);\n    events.on('delete.Cell', handleClearOutput);\n\n    /* Handle when a new output is added */\n    events.on('output_added.OutputArea', handleAddOutput);\n\n    /**\n     * Register the mime type and append_mime function with output_area\n     */\n    OutputArea.prototype.register_mime_type(EXEC_MIME_TYPE, append_mime, {\n      /* Is output safe? */\n      safe: true,\n      /* Index of renderer in `output_area.display_order` */\n      index: 0\n    });\n  }\n\n  // register the mime type if in Jupyter Notebook environment and previously unregistered\n  if (root.Jupyter !== undefined) {\n    var events = require('base/js/events');\n    var OutputArea = require('notebook/js/outputarea').OutputArea;\n\n    if (OutputArea.prototype.mime_types().indexOf(EXEC_MIME_TYPE) == -1) {\n      register_renderer(events, OutputArea);\n    }\n  }\n\n  \n  if (typeof (root._bokeh_timeout) === \"undefined\" || force === true) {\n    root._bokeh_timeout = Date.now() + 5000;\n    root._bokeh_failed_load = false;\n  }\n\n  var NB_LOAD_WARNING = {'data': {'text/html':\n     \"<div style='background-color: #fdd'>\\n\"+\n     \"<p>\\n\"+\n     \"BokehJS does not appear to have successfully loaded. If loading BokehJS from CDN, this \\n\"+\n     \"may be due to a slow or bad network connection. Possible fixes:\\n\"+\n     \"</p>\\n\"+\n     \"<ul>\\n\"+\n     \"<li>re-rerun `output_notebook()` to attempt to load from CDN again, or</li>\\n\"+\n     \"<li>use INLINE resources instead, as so:</li>\\n\"+\n     \"</ul>\\n\"+\n     \"<code>\\n\"+\n     \"from bokeh.resources import INLINE\\n\"+\n     \"output_notebook(resources=INLINE)\\n\"+\n     \"</code>\\n\"+\n     \"</div>\"}};\n\n  function display_loaded() {\n    var el = document.getElementById(null);\n    if (el != null) {\n      el.textContent = \"BokehJS is loading...\";\n    }\n    if (root.Bokeh !== undefined) {\n      if (el != null) {\n        el.textContent = \"BokehJS \" + root.Bokeh.version + \" successfully loaded.\";\n      }\n    } else if (Date.now() < root._bokeh_timeout) {\n      setTimeout(display_loaded, 100)\n    }\n  }\n\n\n  function run_callbacks() {\n    try {\n      root._bokeh_onload_callbacks.forEach(function(callback) {\n        if (callback != null)\n          callback();\n      });\n    } finally {\n      delete root._bokeh_onload_callbacks\n    }\n    console.debug(\"Bokeh: all callbacks have finished\");\n  }\n\n  function load_libs(css_urls, js_urls, callback) {\n    if (css_urls == null) css_urls = [];\n    if (js_urls == null) js_urls = [];\n\n    root._bokeh_onload_callbacks.push(callback);\n    if (root._bokeh_is_loading > 0) {\n      console.debug(\"Bokeh: BokehJS is being loaded, scheduling callback at\", now());\n      return null;\n    }\n    if (js_urls == null || js_urls.length === 0) {\n      run_callbacks();\n      return null;\n    }\n    console.debug(\"Bokeh: BokehJS not loaded, scheduling load and callback at\", now());\n    root._bokeh_is_loading = css_urls.length + js_urls.length;\n\n    function on_load() {\n      root._bokeh_is_loading--;\n      if (root._bokeh_is_loading === 0) {\n        console.debug(\"Bokeh: all BokehJS libraries/stylesheets loaded\");\n        run_callbacks()\n      }\n    }\n\n    function on_error(url) {\n      console.error(\"failed to load \" + url);\n    }\n\n    for (let i = 0; i < css_urls.length; i++) {\n      const url = css_urls[i];\n      const element = document.createElement(\"link\");\n      element.onload = on_load;\n      element.onerror = on_error.bind(null, url);\n      element.rel = \"stylesheet\";\n      element.type = \"text/css\";\n      element.href = url;\n      console.debug(\"Bokeh: injecting link tag for BokehJS stylesheet: \", url);\n      document.body.appendChild(element);\n    }\n\n    const hashes = {\"https://cdn.bokeh.org/bokeh/release/bokeh-2.3.3.min.js\": \"dM3QQsP+wXdHg42wTqW85BjZQdLNNIXqlPw/BgKoExPmTG7ZLML4EGqLMfqHT6ON\", \"https://cdn.bokeh.org/bokeh/release/bokeh-tables-2.3.3.min.js\": \"8x57I4YuIfu8XyZfFo0XVr2WAT8EK4rh/uDe3wF7YuW2FNUSNEpJbsPaB1nJ2fz2\", \"https://cdn.bokeh.org/bokeh/release/bokeh-widgets-2.3.3.min.js\": \"3QTqdz9LyAm2i0sG5XTePsHec3UHWwVsrOL68SYRoAXsafvfAyqtQ+h440+qIBhS\"};\n\n    for (let i = 0; i < js_urls.length; i++) {\n      const url = js_urls[i];\n      const element = document.createElement('script');\n      element.onload = on_load;\n      element.onerror = on_error.bind(null, url);\n      element.async = false;\n      element.src = url;\n      if (url in hashes) {\n        element.crossOrigin = \"anonymous\";\n        element.integrity = \"sha384-\" + hashes[url];\n      }\n      console.debug(\"Bokeh: injecting script tag for BokehJS library: \", url);\n      document.head.appendChild(element);\n    }\n  };\n\n  function inject_raw_css(css) {\n    const element = document.createElement(\"style\");\n    element.appendChild(document.createTextNode(css));\n    document.body.appendChild(element);\n  }\n\n  \n  var js_urls = [\"https://cdn.bokeh.org/bokeh/release/bokeh-2.3.3.min.js\", \"https://cdn.bokeh.org/bokeh/release/bokeh-widgets-2.3.3.min.js\", \"https://cdn.bokeh.org/bokeh/release/bokeh-tables-2.3.3.min.js\"];\n  var css_urls = [];\n  \n\n  var inline_js = [\n    function(Bokeh) {\n      Bokeh.set_log_level(\"info\");\n    },\n    function(Bokeh) {\n    \n    \n    }\n  ];\n\n  function run_inline_js() {\n    \n    if (root.Bokeh !== undefined || force === true) {\n      \n    for (var i = 0; i < inline_js.length; i++) {\n      inline_js[i].call(root, root.Bokeh);\n    }\n    } else if (Date.now() < root._bokeh_timeout) {\n      setTimeout(run_inline_js, 100);\n    } else if (!root._bokeh_failed_load) {\n      console.log(\"Bokeh: BokehJS failed to load within specified timeout.\");\n      root._bokeh_failed_load = true;\n    } else if (force !== true) {\n      var cell = $(document.getElementById(null)).parents('.cell').data().cell;\n      cell.output_area.append_execute_result(NB_LOAD_WARNING)\n    }\n\n  }\n\n  if (root._bokeh_is_loading === 0) {\n    console.debug(\"Bokeh: BokehJS loaded, going straight to plotting\");\n    run_inline_js();\n  } else {\n    load_libs(css_urls, js_urls, function() {\n      console.debug(\"Bokeh: BokehJS plotting callback run at\", now());\n      run_inline_js();\n    });\n  }\n}(window));",
            "application/vnd.bokehjs_load.v0+json": ""
          },
          "metadata": {},
          "output_type": "display_data"
        },
        {
          "data": {
            "text/html": [
              "\n",
              "\n",
              "\n",
              "\n",
              "\n",
              "\n",
              "  <div class=\"bk-root\" id=\"c7ecf1fd-9e56-425c-8f9c-50aa0ed051ed\" data-root-id=\"1453\"></div>\n"
            ]
          },
          "metadata": {},
          "output_type": "display_data"
        },
        {
          "data": {
            "application/javascript": "(function(root) {\n  function embed_document(root) {\n    \n  var docs_json = {\"2c77bff0-4697-4847-a87c-92500acca782\":{\"defs\":[],\"roots\":{\"references\":[{\"attributes\":{\"children\":[{\"id\":\"1295\"},{\"id\":\"1452\"},{\"id\":\"1367\"}]},\"id\":\"1453\",\"type\":\"Column\"},{\"attributes\":{\"axis\":{\"id\":\"1306\"},\"ticker\":null},\"id\":\"1308\",\"type\":\"Grid\"},{\"attributes\":{},\"id\":\"1310\",\"type\":\"BasicTicker\"},{\"attributes\":{\"axis\":{\"id\":\"1309\"},\"dimension\":1,\"ticker\":null},\"id\":\"1312\",\"type\":\"Grid\"},{\"attributes\":{\"formatter\":{\"id\":\"1486\"},\"major_label_policy\":{\"id\":\"1485\"},\"ticker\":{\"id\":\"1310\"}},\"id\":\"1309\",\"type\":\"LinearAxis\"},{\"attributes\":{\"line_color\":\"#2ca02c\",\"line_width\":1.5,\"x\":{\"field\":\"date\"},\"y\":{\"field\":\"MLR With Genetic\"}},\"id\":\"1353\",\"type\":\"Line\"},{\"attributes\":{\"data\":{\"Error MSE MLR\":{\"__ndarray__\":\"5rTpyc5tFEAVZyxYbonwP0XnVvvy9ShAeYD1YF7M8T8TZUZGmosMQHg/iaaXTRtA2f9dvTPx8T8JXDZvIA4yQIIc01MZDFBA4DU1OG8+RkAAAAAAAAD4fwAAAAAAAPh/AAAAAAAA+H8AAAAAAAD4fwAAAAAAAPh/AAAAAAAA+H8AAAAAAAD4fwAAAAAAAPh/AAAAAAAA+H8AAAAAAAD4fw==\",\"dtype\":\"float64\",\"order\":\"little\",\"shape\":[20]},\"Error MSE MLR+Genetic\":{\"__ndarray__\":\"+lZOuLo2G0DeltT6turwPxiphdDIRCdAv7Do4F2V+j86dRY4/vsKQNaQLVa2JRtAEp4MCN1s+D9mw6aq8Y4yQHHbNxM/aVFAOcB0auY0RUAAAAAAAAD4fwAAAAAAAPh/AAAAAAAA+H8AAAAAAAD4fwAAAAAAAPh/AAAAAAAA+H8AAAAAAAD4fwAAAAAAAPh/AAAAAAAA+H8AAAAAAAD4fw==\",\"dtype\":\"float64\",\"order\":\"little\",\"shape\":[20]},\"Error RMSE MLR\":{\"__ndarray__\":\"APhucVAUAkAAdj0KJkTwPwBr4OgVQwxAAKTUZg7g8D8AzujcLDn+PwCbw12k5gRAALytj3vx8D+ArJlMHv8QQABRk4ULBiBAADrxQf6tGkAAAAAAAAD4fwAAAAAAAPh/AAAAAAAA+H8AAAAAAAD4fwAAAAAAAPh/AAAAAAAA+H8AAAAAAAD4fwAAAAAAAPh/AAAAAAAA+H8AAAAAAAD4fw==\",\"dtype\":\"float64\",\"order\":\"little\",\"shape\":[20]},\"Error RMSE MLR+Genetic\":{\"__ndarray__\":\"AIfERuLdBEAA7o//uHPwPwAQsxGOSQtAAMYYSqif9D8AWguspmL9PwCc7hRb1wRAAO4bm83E8z8AQKR5VTsRQEBuYKPOsCBAgHB5Y9kMGkAAAAAAAAD4fwAAAAAAAPh/AAAAAAAA+H8AAAAAAAD4fwAAAAAAAPh/AAAAAAAA+H8AAAAAAAD4fwAAAAAAAPh/AAAAAAAA+H8AAAAAAAD4fw==\",\"dtype\":\"float64\",\"order\":\"little\",\"shape\":[20]},\"MLR With Genetic\":{\"__ndarray__\":\"h8RG4t1sikD3x3/cOWCKQBCzEY5JW4pAYwwl1E9KikCtBVZTsUaKQJzuFFvXPIpA943NZuIxikCAtwxViS2KQEd+csU8TYpA4fLGshmMikDh8sayGYyKQPExPcBpm4pAOTpVvMGpikDTroCGFa6KQGnZHXE/t4pAJdz98zW/ikD20kJi8MWKQGGgBzukzYpAQ2P6ufjUikA61079NdyKQA==\",\"dtype\":\"float64\",\"order\":\"little\",\"shape\":[20]},\"MLR Without Genetic\":{\"__ndarray__\":\"+G5xUBRqikC7HgUTImCKQGvg6BVDXIpAUmozB3BIikBndG6WHEeKQJvDXaTmPIpA3tbHvXgwikCnzGbDAS6KQLyy6dHnT4pAdOKD/FuNikB04oP8W42KQOg/ZtfylYpAklVcccihikCjGz7NTqaKQF7lZVK6rIpAOEL9p36zikA/Bn04c7mKQDLhxfuwv4pAOVFU1PjFikDhYl/XK8yKQA==\",\"dtype\":\"float64\",\"order\":\"little\",\"shape\":[20]},\"Y_test\":{\"__ndarray__\":\"AAAAAABYikAAAAAAAFiKQAAAAAAAQIpAAAAAAABAikAAAAAAADiKQAAAAAAAKIpAAAAAAAAoikAAAAAAAFCKQAAAAAAAkIpAAAAAAABYikAAAAAAAAD4fwAAAAAAAPh/AAAAAAAA+H8AAAAAAAD4fwAAAAAAAPh/AAAAAAAA+H8AAAAAAAD4fwAAAAAAAPh/AAAAAAAA+H8AAAAAAAD4fw==\",\"dtype\":\"float64\",\"order\":\"little\",\"shape\":[20]},\"date\":[\"2021-07-22\",\"2021-07-23\",\"2021-07-24\",\"2021-07-25\",\"2021-07-26\",\"2021-07-27\",\"2021-07-28\",\"2021-07-29\",\"2021-07-30\",\"2021-07-31\",\"2021-08-01\",\"2021-08-02\",\"2021-08-03\",\"2021-08-04\",\"2021-08-05\",\"2021-08-06\",\"2021-08-07\",\"2021-08-08\",\"2021-08-09\",\"2021-08-10\"],\"index\":{\"__ndarray__\":\"AACAMLisd0IAAECWCq13QgAAAPxcrXdCAADAYa+td0IAAIDHAa53QgAAQC1UrndCAAAAk6aud0IAAMD4+K53QgAAgF5Lr3dCAABAxJ2vd0IAAAAq8K93QgAAwI9CsHdCAACA9ZSwd0IAAEBb57B3QgAAAME5sXdCAADAJoyxd0IAAICM3rF3QgAAQPIwsndCAAAAWIOyd0IAAMC91bJ3Qg==\",\"dtype\":\"float64\",\"order\":\"little\",\"shape\":[20]}},\"selected\":{\"id\":\"1498\"},\"selection_policy\":{\"id\":\"1499\"}},\"id\":\"1327\",\"type\":\"ColumnDataSource\"},{\"attributes\":{\"active_multi\":null,\"tools\":[{\"id\":\"1313\"},{\"id\":\"1314\"},{\"id\":\"1315\"},{\"id\":\"1316\"},{\"id\":\"1317\"},{\"id\":\"1318\"}]},\"id\":\"1320\",\"type\":\"Toolbar\"},{\"attributes\":{},\"id\":\"1313\",\"type\":\"PanTool\"},{\"attributes\":{},\"id\":\"1314\",\"type\":\"WheelZoomTool\"},{\"attributes\":{\"overlay\":{\"id\":\"1319\"}},\"id\":\"1315\",\"type\":\"BoxZoomTool\"},{\"attributes\":{},\"id\":\"1316\",\"type\":\"SaveTool\"},{\"attributes\":{},\"id\":\"1317\",\"type\":\"ResetTool\"},{\"attributes\":{},\"id\":\"1318\",\"type\":\"HelpTool\"},{\"attributes\":{\"fill_color\":{\"value\":\"#2ca02c\"},\"line_color\":{\"value\":\"#2ca02c\"},\"size\":{\"value\":3},\"x\":{\"field\":\"date\"},\"y\":{\"field\":\"MLR With Genetic\"}},\"id\":\"1359\",\"type\":\"Scatter\"},{\"attributes\":{},\"id\":\"1495\",\"type\":\"CategoricalTickFormatter\"},{\"attributes\":{\"line_alpha\":0.1,\"line_color\":\"#2ca02c\",\"line_width\":1.5,\"x\":{\"field\":\"date\"},\"y\":{\"field\":\"MLR With Genetic\"}},\"id\":\"1354\",\"type\":\"Line\"},{\"attributes\":{\"data\":{\"Error MSE MLR\":{\"__ndarray__\":\"5rTpyc5tFEAVZyxYbonwP0XnVvvy9ShAeYD1YF7M8T8TZUZGmosMQHg/iaaXTRtA2f9dvTPx8T8JXDZvIA4yQIIc01MZDFBA4DU1OG8+RkAAAAAAAAD4fwAAAAAAAPh/AAAAAAAA+H8AAAAAAAD4fwAAAAAAAPh/AAAAAAAA+H8AAAAAAAD4fwAAAAAAAPh/AAAAAAAA+H8AAAAAAAD4fw==\",\"dtype\":\"float64\",\"order\":\"little\",\"shape\":[20]},\"Error MSE MLR+Genetic\":{\"__ndarray__\":\"+lZOuLo2G0DeltT6turwPxiphdDIRCdAv7Do4F2V+j86dRY4/vsKQNaQLVa2JRtAEp4MCN1s+D9mw6aq8Y4yQHHbNxM/aVFAOcB0auY0RUAAAAAAAAD4fwAAAAAAAPh/AAAAAAAA+H8AAAAAAAD4fwAAAAAAAPh/AAAAAAAA+H8AAAAAAAD4fwAAAAAAAPh/AAAAAAAA+H8AAAAAAAD4fw==\",\"dtype\":\"float64\",\"order\":\"little\",\"shape\":[20]},\"Error RMSE MLR\":{\"__ndarray__\":\"APhucVAUAkAAdj0KJkTwPwBr4OgVQwxAAKTUZg7g8D8AzujcLDn+PwCbw12k5gRAALytj3vx8D+ArJlMHv8QQABRk4ULBiBAADrxQf6tGkAAAAAAAAD4fwAAAAAAAPh/AAAAAAAA+H8AAAAAAAD4fwAAAAAAAPh/AAAAAAAA+H8AAAAAAAD4fwAAAAAAAPh/AAAAAAAA+H8AAAAAAAD4fw==\",\"dtype\":\"float64\",\"order\":\"little\",\"shape\":[20]},\"Error RMSE MLR+Genetic\":{\"__ndarray__\":\"AIfERuLdBEAA7o//uHPwPwAQsxGOSQtAAMYYSqif9D8AWguspmL9PwCc7hRb1wRAAO4bm83E8z8AQKR5VTsRQEBuYKPOsCBAgHB5Y9kMGkAAAAAAAAD4fwAAAAAAAPh/AAAAAAAA+H8AAAAAAAD4fwAAAAAAAPh/AAAAAAAA+H8AAAAAAAD4fwAAAAAAAPh/AAAAAAAA+H8AAAAAAAD4fw==\",\"dtype\":\"float64\",\"order\":\"little\",\"shape\":[20]},\"MLR With Genetic\":{\"__ndarray__\":\"h8RG4t1sikD3x3/cOWCKQBCzEY5JW4pAYwwl1E9KikCtBVZTsUaKQJzuFFvXPIpA943NZuIxikCAtwxViS2KQEd+csU8TYpA4fLGshmMikDh8sayGYyKQPExPcBpm4pAOTpVvMGpikDTroCGFa6KQGnZHXE/t4pAJdz98zW/ikD20kJi8MWKQGGgBzukzYpAQ2P6ufjUikA61079NdyKQA==\",\"dtype\":\"float64\",\"order\":\"little\",\"shape\":[20]},\"MLR Without Genetic\":{\"__ndarray__\":\"+G5xUBRqikC7HgUTImCKQGvg6BVDXIpAUmozB3BIikBndG6WHEeKQJvDXaTmPIpA3tbHvXgwikCnzGbDAS6KQLyy6dHnT4pAdOKD/FuNikB04oP8W42KQOg/ZtfylYpAklVcccihikCjGz7NTqaKQF7lZVK6rIpAOEL9p36zikA/Bn04c7mKQDLhxfuwv4pAOVFU1PjFikDhYl/XK8yKQA==\",\"dtype\":\"float64\",\"order\":\"little\",\"shape\":[20]},\"Y_test\":{\"__ndarray__\":\"AAAAAABYikAAAAAAAFiKQAAAAAAAQIpAAAAAAABAikAAAAAAADiKQAAAAAAAKIpAAAAAAAAoikAAAAAAAFCKQAAAAAAAkIpAAAAAAABYikAAAAAAAAD4fwAAAAAAAPh/AAAAAAAA+H8AAAAAAAD4fwAAAAAAAPh/AAAAAAAA+H8AAAAAAAD4fwAAAAAAAPh/AAAAAAAA+H8AAAAAAAD4fw==\",\"dtype\":\"float64\",\"order\":\"little\",\"shape\":[20]},\"date\":[\"2021-07-22\",\"2021-07-23\",\"2021-07-24\",\"2021-07-25\",\"2021-07-26\",\"2021-07-27\",\"2021-07-28\",\"2021-07-29\",\"2021-07-30\",\"2021-07-31\",\"2021-08-01\",\"2021-08-02\",\"2021-08-03\",\"2021-08-04\",\"2021-08-05\",\"2021-08-06\",\"2021-08-07\",\"2021-08-08\",\"2021-08-09\",\"2021-08-10\"],\"index\":{\"__ndarray__\":\"AACAMLisd0IAAECWCq13QgAAAPxcrXdCAADAYa+td0IAAIDHAa53QgAAQC1UrndCAAAAk6aud0IAAMD4+K53QgAAgF5Lr3dCAABAxJ2vd0IAAAAq8K93QgAAwI9CsHdCAACA9ZSwd0IAAEBb57B3QgAAAME5sXdCAADAJoyxd0IAAICM3rF3QgAAQPIwsndCAAAAWIOyd0IAAMC91bJ3Qg==\",\"dtype\":\"float64\",\"order\":\"little\",\"shape\":[20]}},\"selected\":{\"id\":\"1508\"},\"selection_policy\":{\"id\":\"1509\"}},\"id\":\"1357\",\"type\":\"ColumnDataSource\"},{\"attributes\":{\"fill_alpha\":{\"value\":0.1},\"fill_color\":{\"value\":\"#2ca02c\"},\"line_alpha\":{\"value\":0.1},\"line_color\":{\"value\":\"#2ca02c\"},\"size\":{\"value\":3},\"x\":{\"field\":\"date\"},\"y\":{\"field\":\"MLR With Genetic\"}},\"id\":\"1360\",\"type\":\"Scatter\"},{\"attributes\":{\"line_color\":\"#1f77b4\",\"line_width\":1.5,\"x\":{\"field\":\"date\"},\"y\":{\"field\":\"Error MSE MLR\"}},\"id\":\"1401\",\"type\":\"Line\"},{\"attributes\":{\"source\":{\"id\":\"1351\"}},\"id\":\"1356\",\"type\":\"CDSView\"},{\"attributes\":{\"bottom_units\":\"screen\",\"fill_alpha\":0.5,\"fill_color\":\"lightgrey\",\"left_units\":\"screen\",\"level\":\"overlay\",\"line_alpha\":1.0,\"line_color\":\"black\",\"line_dash\":[4,4],\"line_width\":2,\"right_units\":\"screen\",\"syncable\":false,\"top_units\":\"screen\"},\"id\":\"1319\",\"type\":\"BoxAnnotation\"},{\"attributes\":{\"data_source\":{\"id\":\"1351\"},\"glyph\":{\"id\":\"1353\"},\"hover_glyph\":null,\"muted_glyph\":null,\"nonselection_glyph\":{\"id\":\"1354\"},\"view\":{\"id\":\"1356\"}},\"id\":\"1355\",\"type\":\"GlyphRenderer\"},{\"attributes\":{\"data_source\":{\"id\":\"1333\"},\"glyph\":{\"id\":\"1335\"},\"hover_glyph\":null,\"muted_glyph\":null,\"nonselection_glyph\":{\"id\":\"1336\"},\"view\":{\"id\":\"1338\"}},\"id\":\"1337\",\"type\":\"GlyphRenderer\"},{\"attributes\":{\"line_alpha\":0.1,\"line_color\":\"#1f77b4\",\"line_width\":1.5,\"x\":{\"field\":\"date\"},\"y\":{\"field\":\"Y_test\"}},\"id\":\"1330\",\"type\":\"Line\"},{\"attributes\":{\"source\":{\"id\":\"1327\"}},\"id\":\"1332\",\"type\":\"CDSView\"},{\"attributes\":{\"data\":{\"Error MSE MLR\":{\"__ndarray__\":\"5rTpyc5tFEAVZyxYbonwP0XnVvvy9ShAeYD1YF7M8T8TZUZGmosMQHg/iaaXTRtA2f9dvTPx8T8JXDZvIA4yQIIc01MZDFBA4DU1OG8+RkAAAAAAAAD4fwAAAAAAAPh/AAAAAAAA+H8AAAAAAAD4fwAAAAAAAPh/AAAAAAAA+H8AAAAAAAD4fwAAAAAAAPh/AAAAAAAA+H8AAAAAAAD4fw==\",\"dtype\":\"float64\",\"order\":\"little\",\"shape\":[20]},\"Error MSE MLR+Genetic\":{\"__ndarray__\":\"+lZOuLo2G0DeltT6turwPxiphdDIRCdAv7Do4F2V+j86dRY4/vsKQNaQLVa2JRtAEp4MCN1s+D9mw6aq8Y4yQHHbNxM/aVFAOcB0auY0RUAAAAAAAAD4fwAAAAAAAPh/AAAAAAAA+H8AAAAAAAD4fwAAAAAAAPh/AAAAAAAA+H8AAAAAAAD4fwAAAAAAAPh/AAAAAAAA+H8AAAAAAAD4fw==\",\"dtype\":\"float64\",\"order\":\"little\",\"shape\":[20]},\"Error RMSE MLR\":{\"__ndarray__\":\"APhucVAUAkAAdj0KJkTwPwBr4OgVQwxAAKTUZg7g8D8AzujcLDn+PwCbw12k5gRAALytj3vx8D+ArJlMHv8QQABRk4ULBiBAADrxQf6tGkAAAAAAAAD4fwAAAAAAAPh/AAAAAAAA+H8AAAAAAAD4fwAAAAAAAPh/AAAAAAAA+H8AAAAAAAD4fwAAAAAAAPh/AAAAAAAA+H8AAAAAAAD4fw==\",\"dtype\":\"float64\",\"order\":\"little\",\"shape\":[20]},\"Error RMSE MLR+Genetic\":{\"__ndarray__\":\"AIfERuLdBEAA7o//uHPwPwAQsxGOSQtAAMYYSqif9D8AWguspmL9PwCc7hRb1wRAAO4bm83E8z8AQKR5VTsRQEBuYKPOsCBAgHB5Y9kMGkAAAAAAAAD4fwAAAAAAAPh/AAAAAAAA+H8AAAAAAAD4fwAAAAAAAPh/AAAAAAAA+H8AAAAAAAD4fwAAAAAAAPh/AAAAAAAA+H8AAAAAAAD4fw==\",\"dtype\":\"float64\",\"order\":\"little\",\"shape\":[20]},\"MLR With Genetic\":{\"__ndarray__\":\"h8RG4t1sikD3x3/cOWCKQBCzEY5JW4pAYwwl1E9KikCtBVZTsUaKQJzuFFvXPIpA943NZuIxikCAtwxViS2KQEd+csU8TYpA4fLGshmMikDh8sayGYyKQPExPcBpm4pAOTpVvMGpikDTroCGFa6KQGnZHXE/t4pAJdz98zW/ikD20kJi8MWKQGGgBzukzYpAQ2P6ufjUikA61079NdyKQA==\",\"dtype\":\"float64\",\"order\":\"little\",\"shape\":[20]},\"MLR Without Genetic\":{\"__ndarray__\":\"+G5xUBRqikC7HgUTImCKQGvg6BVDXIpAUmozB3BIikBndG6WHEeKQJvDXaTmPIpA3tbHvXgwikCnzGbDAS6KQLyy6dHnT4pAdOKD/FuNikB04oP8W42KQOg/ZtfylYpAklVcccihikCjGz7NTqaKQF7lZVK6rIpAOEL9p36zikA/Bn04c7mKQDLhxfuwv4pAOVFU1PjFikDhYl/XK8yKQA==\",\"dtype\":\"float64\",\"order\":\"little\",\"shape\":[20]},\"Y_test\":{\"__ndarray__\":\"AAAAAABYikAAAAAAAFiKQAAAAAAAQIpAAAAAAABAikAAAAAAADiKQAAAAAAAKIpAAAAAAAAoikAAAAAAAFCKQAAAAAAAkIpAAAAAAABYikAAAAAAAAD4fwAAAAAAAPh/AAAAAAAA+H8AAAAAAAD4fwAAAAAAAPh/AAAAAAAA+H8AAAAAAAD4fwAAAAAAAPh/AAAAAAAA+H8AAAAAAAD4fw==\",\"dtype\":\"float64\",\"order\":\"little\",\"shape\":[20]},\"date\":[\"2021-07-22\",\"2021-07-23\",\"2021-07-24\",\"2021-07-25\",\"2021-07-26\",\"2021-07-27\",\"2021-07-28\",\"2021-07-29\",\"2021-07-30\",\"2021-07-31\",\"2021-08-01\",\"2021-08-02\",\"2021-08-03\",\"2021-08-04\",\"2021-08-05\",\"2021-08-06\",\"2021-08-07\",\"2021-08-08\",\"2021-08-09\",\"2021-08-10\"],\"index\":{\"__ndarray__\":\"AACAMLisd0IAAECWCq13QgAAAPxcrXdCAADAYa+td0IAAIDHAa53QgAAQC1UrndCAAAAk6aud0IAAMD4+K53QgAAgF5Lr3dCAABAxJ2vd0IAAAAq8K93QgAAwI9CsHdCAACA9ZSwd0IAAEBb57B3QgAAAME5sXdCAADAJoyxd0IAAICM3rF3QgAAQPIwsndCAAAAWIOyd0IAAMC91bJ3Qg==\",\"dtype\":\"float64\",\"order\":\"little\",\"shape\":[20]}},\"selected\":{\"id\":\"1500\"},\"selection_policy\":{\"id\":\"1501\"}},\"id\":\"1333\",\"type\":\"ColumnDataSource\"},{\"attributes\":{\"data_source\":{\"id\":\"1327\"},\"glyph\":{\"id\":\"1329\"},\"hover_glyph\":null,\"muted_glyph\":null,\"nonselection_glyph\":{\"id\":\"1330\"},\"view\":{\"id\":\"1332\"}},\"id\":\"1331\",\"type\":\"GlyphRenderer\"},{\"attributes\":{\"fill_color\":{\"value\":\"#1f77b4\"},\"line_color\":{\"value\":\"#1f77b4\"},\"size\":{\"value\":3},\"x\":{\"field\":\"date\"},\"y\":{\"field\":\"Y_test\"}},\"id\":\"1335\",\"type\":\"Scatter\"},{\"attributes\":{\"line_color\":\"#ff7f0e\",\"line_width\":1.5,\"x\":{\"field\":\"date\"},\"y\":{\"field\":\"MLR Without Genetic\"}},\"id\":\"1341\",\"type\":\"Line\"},{\"attributes\":{\"line_color\":\"#d62728\",\"line_width\":1.5,\"x\":{\"field\":\"date\"},\"y\":{\"field\":\"Error RMSE MLR+Genetic\"}},\"id\":\"1437\",\"type\":\"Line\"},{\"attributes\":{\"fill_alpha\":{\"value\":0.1},\"fill_color\":{\"value\":\"#1f77b4\"},\"line_alpha\":{\"value\":0.1},\"line_color\":{\"value\":\"#1f77b4\"},\"size\":{\"value\":3},\"x\":{\"field\":\"date\"},\"y\":{\"field\":\"Y_test\"}},\"id\":\"1336\",\"type\":\"Scatter\"},{\"attributes\":{},\"id\":\"1492\",\"type\":\"BasicTickFormatter\"},{\"attributes\":{\"source\":{\"id\":\"1411\"}},\"id\":\"1416\",\"type\":\"CDSView\"},{\"attributes\":{\"active_multi\":null,\"tools\":[{\"id\":\"1385\"},{\"id\":\"1386\"},{\"id\":\"1387\"},{\"id\":\"1388\"},{\"id\":\"1389\"},{\"id\":\"1390\"}]},\"id\":\"1392\",\"type\":\"Toolbar\"},{\"attributes\":{\"source\":{\"id\":\"1333\"}},\"id\":\"1338\",\"type\":\"CDSView\"},{\"attributes\":{\"data\":{\"Error MSE MLR\":{\"__ndarray__\":\"5rTpyc5tFEAVZyxYbonwP0XnVvvy9ShAeYD1YF7M8T8TZUZGmosMQHg/iaaXTRtA2f9dvTPx8T8JXDZvIA4yQIIc01MZDFBA4DU1OG8+RkAAAAAAAAD4fwAAAAAAAPh/AAAAAAAA+H8AAAAAAAD4fwAAAAAAAPh/AAAAAAAA+H8AAAAAAAD4fwAAAAAAAPh/AAAAAAAA+H8AAAAAAAD4fw==\",\"dtype\":\"float64\",\"order\":\"little\",\"shape\":[20]},\"Error MSE MLR+Genetic\":{\"__ndarray__\":\"+lZOuLo2G0DeltT6turwPxiphdDIRCdAv7Do4F2V+j86dRY4/vsKQNaQLVa2JRtAEp4MCN1s+D9mw6aq8Y4yQHHbNxM/aVFAOcB0auY0RUAAAAAAAAD4fwAAAAAAAPh/AAAAAAAA+H8AAAAAAAD4fwAAAAAAAPh/AAAAAAAA+H8AAAAAAAD4fwAAAAAAAPh/AAAAAAAA+H8AAAAAAAD4fw==\",\"dtype\":\"float64\",\"order\":\"little\",\"shape\":[20]},\"Error RMSE MLR\":{\"__ndarray__\":\"APhucVAUAkAAdj0KJkTwPwBr4OgVQwxAAKTUZg7g8D8AzujcLDn+PwCbw12k5gRAALytj3vx8D+ArJlMHv8QQABRk4ULBiBAADrxQf6tGkAAAAAAAAD4fwAAAAAAAPh/AAAAAAAA+H8AAAAAAAD4fwAAAAAAAPh/AAAAAAAA+H8AAAAAAAD4fwAAAAAAAPh/AAAAAAAA+H8AAAAAAAD4fw==\",\"dtype\":\"float64\",\"order\":\"little\",\"shape\":[20]},\"Error RMSE MLR+Genetic\":{\"__ndarray__\":\"AIfERuLdBEAA7o//uHPwPwAQsxGOSQtAAMYYSqif9D8AWguspmL9PwCc7hRb1wRAAO4bm83E8z8AQKR5VTsRQEBuYKPOsCBAgHB5Y9kMGkAAAAAAAAD4fwAAAAAAAPh/AAAAAAAA+H8AAAAAAAD4fwAAAAAAAPh/AAAAAAAA+H8AAAAAAAD4fwAAAAAAAPh/AAAAAAAA+H8AAAAAAAD4fw==\",\"dtype\":\"float64\",\"order\":\"little\",\"shape\":[20]},\"MLR With Genetic\":{\"__ndarray__\":\"h8RG4t1sikD3x3/cOWCKQBCzEY5JW4pAYwwl1E9KikCtBVZTsUaKQJzuFFvXPIpA943NZuIxikCAtwxViS2KQEd+csU8TYpA4fLGshmMikDh8sayGYyKQPExPcBpm4pAOTpVvMGpikDTroCGFa6KQGnZHXE/t4pAJdz98zW/ikD20kJi8MWKQGGgBzukzYpAQ2P6ufjUikA61079NdyKQA==\",\"dtype\":\"float64\",\"order\":\"little\",\"shape\":[20]},\"MLR Without Genetic\":{\"__ndarray__\":\"+G5xUBRqikC7HgUTImCKQGvg6BVDXIpAUmozB3BIikBndG6WHEeKQJvDXaTmPIpA3tbHvXgwikCnzGbDAS6KQLyy6dHnT4pAdOKD/FuNikB04oP8W42KQOg/ZtfylYpAklVcccihikCjGz7NTqaKQF7lZVK6rIpAOEL9p36zikA/Bn04c7mKQDLhxfuwv4pAOVFU1PjFikDhYl/XK8yKQA==\",\"dtype\":\"float64\",\"order\":\"little\",\"shape\":[20]},\"Y_test\":{\"__ndarray__\":\"AAAAAABYikAAAAAAAFiKQAAAAAAAQIpAAAAAAABAikAAAAAAADiKQAAAAAAAKIpAAAAAAAAoikAAAAAAAFCKQAAAAAAAkIpAAAAAAABYikAAAAAAAAD4fwAAAAAAAPh/AAAAAAAA+H8AAAAAAAD4fwAAAAAAAPh/AAAAAAAA+H8AAAAAAAD4fwAAAAAAAPh/AAAAAAAA+H8AAAAAAAD4fw==\",\"dtype\":\"float64\",\"order\":\"little\",\"shape\":[20]},\"date\":[\"2021-07-22\",\"2021-07-23\",\"2021-07-24\",\"2021-07-25\",\"2021-07-26\",\"2021-07-27\",\"2021-07-28\",\"2021-07-29\",\"2021-07-30\",\"2021-07-31\",\"2021-08-01\",\"2021-08-02\",\"2021-08-03\",\"2021-08-04\",\"2021-08-05\",\"2021-08-06\",\"2021-08-07\",\"2021-08-08\",\"2021-08-09\",\"2021-08-10\"],\"index\":{\"__ndarray__\":\"AACAMLisd0IAAECWCq13QgAAAPxcrXdCAADAYa+td0IAAIDHAa53QgAAQC1UrndCAAAAk6aud0IAAMD4+K53QgAAgF5Lr3dCAABAxJ2vd0IAAAAq8K93QgAAwI9CsHdCAACA9ZSwd0IAAEBb57B3QgAAAME5sXdCAADAJoyxd0IAAICM3rF3QgAAQPIwsndCAAAAWIOyd0IAAMC91bJ3Qg==\",\"dtype\":\"float64\",\"order\":\"little\",\"shape\":[20]}},\"selected\":{\"id\":\"1517\"},\"selection_policy\":{\"id\":\"1518\"}},\"id\":\"1417\",\"type\":\"ColumnDataSource\"},{\"attributes\":{\"data\":{\"Error MSE MLR\":{\"__ndarray__\":\"5rTpyc5tFEAVZyxYbonwP0XnVvvy9ShAeYD1YF7M8T8TZUZGmosMQHg/iaaXTRtA2f9dvTPx8T8JXDZvIA4yQIIc01MZDFBA4DU1OG8+RkAAAAAAAAD4fwAAAAAAAPh/AAAAAAAA+H8AAAAAAAD4fwAAAAAAAPh/AAAAAAAA+H8AAAAAAAD4fwAAAAAAAPh/AAAAAAAA+H8AAAAAAAD4fw==\",\"dtype\":\"float64\",\"order\":\"little\",\"shape\":[20]},\"Error MSE MLR+Genetic\":{\"__ndarray__\":\"+lZOuLo2G0DeltT6turwPxiphdDIRCdAv7Do4F2V+j86dRY4/vsKQNaQLVa2JRtAEp4MCN1s+D9mw6aq8Y4yQHHbNxM/aVFAOcB0auY0RUAAAAAAAAD4fwAAAAAAAPh/AAAAAAAA+H8AAAAAAAD4fwAAAAAAAPh/AAAAAAAA+H8AAAAAAAD4fwAAAAAAAPh/AAAAAAAA+H8AAAAAAAD4fw==\",\"dtype\":\"float64\",\"order\":\"little\",\"shape\":[20]},\"Error RMSE MLR\":{\"__ndarray__\":\"APhucVAUAkAAdj0KJkTwPwBr4OgVQwxAAKTUZg7g8D8AzujcLDn+PwCbw12k5gRAALytj3vx8D+ArJlMHv8QQABRk4ULBiBAADrxQf6tGkAAAAAAAAD4fwAAAAAAAPh/AAAAAAAA+H8AAAAAAAD4fwAAAAAAAPh/AAAAAAAA+H8AAAAAAAD4fwAAAAAAAPh/AAAAAAAA+H8AAAAAAAD4fw==\",\"dtype\":\"float64\",\"order\":\"little\",\"shape\":[20]},\"Error RMSE MLR+Genetic\":{\"__ndarray__\":\"AIfERuLdBEAA7o//uHPwPwAQsxGOSQtAAMYYSqif9D8AWguspmL9PwCc7hRb1wRAAO4bm83E8z8AQKR5VTsRQEBuYKPOsCBAgHB5Y9kMGkAAAAAAAAD4fwAAAAAAAPh/AAAAAAAA+H8AAAAAAAD4fwAAAAAAAPh/AAAAAAAA+H8AAAAAAAD4fwAAAAAAAPh/AAAAAAAA+H8AAAAAAAD4fw==\",\"dtype\":\"float64\",\"order\":\"little\",\"shape\":[20]},\"MLR With Genetic\":{\"__ndarray__\":\"h8RG4t1sikD3x3/cOWCKQBCzEY5JW4pAYwwl1E9KikCtBVZTsUaKQJzuFFvXPIpA943NZuIxikCAtwxViS2KQEd+csU8TYpA4fLGshmMikDh8sayGYyKQPExPcBpm4pAOTpVvMGpikDTroCGFa6KQGnZHXE/t4pAJdz98zW/ikD20kJi8MWKQGGgBzukzYpAQ2P6ufjUikA61079NdyKQA==\",\"dtype\":\"float64\",\"order\":\"little\",\"shape\":[20]},\"MLR Without Genetic\":{\"__ndarray__\":\"+G5xUBRqikC7HgUTImCKQGvg6BVDXIpAUmozB3BIikBndG6WHEeKQJvDXaTmPIpA3tbHvXgwikCnzGbDAS6KQLyy6dHnT4pAdOKD/FuNikB04oP8W42KQOg/ZtfylYpAklVcccihikCjGz7NTqaKQF7lZVK6rIpAOEL9p36zikA/Bn04c7mKQDLhxfuwv4pAOVFU1PjFikDhYl/XK8yKQA==\",\"dtype\":\"float64\",\"order\":\"little\",\"shape\":[20]},\"Y_test\":{\"__ndarray__\":\"AAAAAABYikAAAAAAAFiKQAAAAAAAQIpAAAAAAABAikAAAAAAADiKQAAAAAAAKIpAAAAAAAAoikAAAAAAAFCKQAAAAAAAkIpAAAAAAABYikAAAAAAAAD4fwAAAAAAAPh/AAAAAAAA+H8AAAAAAAD4fwAAAAAAAPh/AAAAAAAA+H8AAAAAAAD4fwAAAAAAAPh/AAAAAAAA+H8AAAAAAAD4fw==\",\"dtype\":\"float64\",\"order\":\"little\",\"shape\":[20]},\"date\":[\"2021-07-22\",\"2021-07-23\",\"2021-07-24\",\"2021-07-25\",\"2021-07-26\",\"2021-07-27\",\"2021-07-28\",\"2021-07-29\",\"2021-07-30\",\"2021-07-31\",\"2021-08-01\",\"2021-08-02\",\"2021-08-03\",\"2021-08-04\",\"2021-08-05\",\"2021-08-06\",\"2021-08-07\",\"2021-08-08\",\"2021-08-09\",\"2021-08-10\"],\"index\":{\"__ndarray__\":\"AACAMLisd0IAAECWCq13QgAAAPxcrXdCAADAYa+td0IAAIDHAa53QgAAQC1UrndCAAAAk6aud0IAAMD4+K53QgAAgF5Lr3dCAABAxJ2vd0IAAAAq8K93QgAAwI9CsHdCAACA9ZSwd0IAAEBb57B3QgAAAME5sXdCAADAJoyxd0IAAICM3rF3QgAAQPIwsndCAAAAWIOyd0IAAMC91bJ3Qg==\",\"dtype\":\"float64\",\"order\":\"little\",\"shape\":[20]}},\"selected\":{\"id\":\"1502\"},\"selection_policy\":{\"id\":\"1503\"}},\"id\":\"1339\",\"type\":\"ColumnDataSource\"},{\"attributes\":{},\"id\":\"1499\",\"type\":\"UnionRenderers\"},{\"attributes\":{},\"id\":\"1385\",\"type\":\"PanTool\"},{\"attributes\":{\"fill_alpha\":{\"value\":0.1},\"fill_color\":{\"value\":\"#ff7f0e\"},\"line_alpha\":{\"value\":0.1},\"line_color\":{\"value\":\"#ff7f0e\"},\"size\":{\"value\":3},\"x\":{\"field\":\"date\"},\"y\":{\"field\":\"Error MSE MLR+Genetic\"}},\"id\":\"1420\",\"type\":\"Scatter\"},{\"attributes\":{},\"id\":\"1500\",\"type\":\"Selection\"},{\"attributes\":{},\"id\":\"1386\",\"type\":\"WheelZoomTool\"},{\"attributes\":{\"line_alpha\":0.1,\"line_color\":\"#2ca02c\",\"line_width\":1.5,\"x\":{\"field\":\"date\"},\"y\":{\"field\":\"Error RMSE MLR\"}},\"id\":\"1426\",\"type\":\"Line\"},{\"attributes\":{},\"id\":\"1501\",\"type\":\"UnionRenderers\"},{\"attributes\":{\"items\":[{\"id\":\"1364\"},{\"id\":\"1365\"},{\"id\":\"1366\"}],\"location\":\"left\"},\"id\":\"1363\",\"type\":\"Legend\"},{\"attributes\":{\"overlay\":{\"id\":\"1391\"}},\"id\":\"1387\",\"type\":\"BoxZoomTool\"},{\"attributes\":{\"fill_alpha\":{\"value\":0.1},\"fill_color\":{\"value\":\"#ff7f0e\"},\"line_alpha\":{\"value\":0.1},\"line_color\":{\"value\":\"#ff7f0e\"},\"size\":{\"value\":3},\"x\":{\"field\":\"date\"},\"y\":{\"field\":\"MLR Without Genetic\"}},\"id\":\"1348\",\"type\":\"Scatter\"},{\"attributes\":{},\"id\":\"1502\",\"type\":\"Selection\"},{\"attributes\":{\"data_source\":{\"id\":\"1417\"},\"glyph\":{\"id\":\"1419\"},\"hover_glyph\":null,\"muted_glyph\":null,\"nonselection_glyph\":{\"id\":\"1420\"},\"view\":{\"id\":\"1422\"}},\"id\":\"1421\",\"type\":\"GlyphRenderer\"},{\"attributes\":{\"data\":{\"Error MSE MLR\":{\"__ndarray__\":\"5rTpyc5tFEAVZyxYbonwP0XnVvvy9ShAeYD1YF7M8T8TZUZGmosMQHg/iaaXTRtA2f9dvTPx8T8JXDZvIA4yQIIc01MZDFBA4DU1OG8+RkAAAAAAAAD4fwAAAAAAAPh/AAAAAAAA+H8AAAAAAAD4fwAAAAAAAPh/AAAAAAAA+H8AAAAAAAD4fwAAAAAAAPh/AAAAAAAA+H8AAAAAAAD4fw==\",\"dtype\":\"float64\",\"order\":\"little\",\"shape\":[20]},\"Error MSE MLR+Genetic\":{\"__ndarray__\":\"+lZOuLo2G0DeltT6turwPxiphdDIRCdAv7Do4F2V+j86dRY4/vsKQNaQLVa2JRtAEp4MCN1s+D9mw6aq8Y4yQHHbNxM/aVFAOcB0auY0RUAAAAAAAAD4fwAAAAAAAPh/AAAAAAAA+H8AAAAAAAD4fwAAAAAAAPh/AAAAAAAA+H8AAAAAAAD4fwAAAAAAAPh/AAAAAAAA+H8AAAAAAAD4fw==\",\"dtype\":\"float64\",\"order\":\"little\",\"shape\":[20]},\"Error RMSE MLR\":{\"__ndarray__\":\"APhucVAUAkAAdj0KJkTwPwBr4OgVQwxAAKTUZg7g8D8AzujcLDn+PwCbw12k5gRAALytj3vx8D+ArJlMHv8QQABRk4ULBiBAADrxQf6tGkAAAAAAAAD4fwAAAAAAAPh/AAAAAAAA+H8AAAAAAAD4fwAAAAAAAPh/AAAAAAAA+H8AAAAAAAD4fwAAAAAAAPh/AAAAAAAA+H8AAAAAAAD4fw==\",\"dtype\":\"float64\",\"order\":\"little\",\"shape\":[20]},\"Error RMSE MLR+Genetic\":{\"__ndarray__\":\"AIfERuLdBEAA7o//uHPwPwAQsxGOSQtAAMYYSqif9D8AWguspmL9PwCc7hRb1wRAAO4bm83E8z8AQKR5VTsRQEBuYKPOsCBAgHB5Y9kMGkAAAAAAAAD4fwAAAAAAAPh/AAAAAAAA+H8AAAAAAAD4fwAAAAAAAPh/AAAAAAAA+H8AAAAAAAD4fwAAAAAAAPh/AAAAAAAA+H8AAAAAAAD4fw==\",\"dtype\":\"float64\",\"order\":\"little\",\"shape\":[20]},\"MLR With Genetic\":{\"__ndarray__\":\"h8RG4t1sikD3x3/cOWCKQBCzEY5JW4pAYwwl1E9KikCtBVZTsUaKQJzuFFvXPIpA943NZuIxikCAtwxViS2KQEd+csU8TYpA4fLGshmMikDh8sayGYyKQPExPcBpm4pAOTpVvMGpikDTroCGFa6KQGnZHXE/t4pAJdz98zW/ikD20kJi8MWKQGGgBzukzYpAQ2P6ufjUikA61079NdyKQA==\",\"dtype\":\"float64\",\"order\":\"little\",\"shape\":[20]},\"MLR Without Genetic\":{\"__ndarray__\":\"+G5xUBRqikC7HgUTImCKQGvg6BVDXIpAUmozB3BIikBndG6WHEeKQJvDXaTmPIpA3tbHvXgwikCnzGbDAS6KQLyy6dHnT4pAdOKD/FuNikB04oP8W42KQOg/ZtfylYpAklVcccihikCjGz7NTqaKQF7lZVK6rIpAOEL9p36zikA/Bn04c7mKQDLhxfuwv4pAOVFU1PjFikDhYl/XK8yKQA==\",\"dtype\":\"float64\",\"order\":\"little\",\"shape\":[20]},\"Y_test\":{\"__ndarray__\":\"AAAAAABYikAAAAAAAFiKQAAAAAAAQIpAAAAAAABAikAAAAAAADiKQAAAAAAAKIpAAAAAAAAoikAAAAAAAFCKQAAAAAAAkIpAAAAAAABYikAAAAAAAAD4fwAAAAAAAPh/AAAAAAAA+H8AAAAAAAD4fwAAAAAAAPh/AAAAAAAA+H8AAAAAAAD4fwAAAAAAAPh/AAAAAAAA+H8AAAAAAAD4fw==\",\"dtype\":\"float64\",\"order\":\"little\",\"shape\":[20]},\"date\":[\"2021-07-22\",\"2021-07-23\",\"2021-07-24\",\"2021-07-25\",\"2021-07-26\",\"2021-07-27\",\"2021-07-28\",\"2021-07-29\",\"2021-07-30\",\"2021-07-31\",\"2021-08-01\",\"2021-08-02\",\"2021-08-03\",\"2021-08-04\",\"2021-08-05\",\"2021-08-06\",\"2021-08-07\",\"2021-08-08\",\"2021-08-09\",\"2021-08-10\"],\"index\":{\"__ndarray__\":\"AACAMLisd0IAAECWCq13QgAAAPxcrXdCAADAYa+td0IAAIDHAa53QgAAQC1UrndCAAAAk6aud0IAAMD4+K53QgAAgF5Lr3dCAABAxJ2vd0IAAAAq8K93QgAAwI9CsHdCAACA9ZSwd0IAAEBb57B3QgAAAME5sXdCAADAJoyxd0IAAICM3rF3QgAAQPIwsndCAAAAWIOyd0IAAMC91bJ3Qg==\",\"dtype\":\"float64\",\"order\":\"little\",\"shape\":[20]}},\"selected\":{\"id\":\"1504\"},\"selection_policy\":{\"id\":\"1505\"}},\"id\":\"1345\",\"type\":\"ColumnDataSource\"},{\"attributes\":{},\"id\":\"1388\",\"type\":\"SaveTool\"},{\"attributes\":{},\"id\":\"1503\",\"type\":\"UnionRenderers\"},{\"attributes\":{\"data_source\":{\"id\":\"1441\"},\"glyph\":{\"id\":\"1443\"},\"hover_glyph\":null,\"muted_glyph\":null,\"nonselection_glyph\":{\"id\":\"1444\"},\"view\":{\"id\":\"1446\"}},\"id\":\"1445\",\"type\":\"GlyphRenderer\"},{\"attributes\":{\"line_alpha\":0.1,\"line_color\":\"#ff7f0e\",\"line_width\":1.5,\"x\":{\"field\":\"date\"},\"y\":{\"field\":\"MLR Without Genetic\"}},\"id\":\"1342\",\"type\":\"Line\"},{\"attributes\":{},\"id\":\"1389\",\"type\":\"ResetTool\"},{\"attributes\":{\"data\":{\"Error MSE MLR\":{\"__ndarray__\":\"5rTpyc5tFEAVZyxYbonwP0XnVvvy9ShAeYD1YF7M8T8TZUZGmosMQHg/iaaXTRtA2f9dvTPx8T8JXDZvIA4yQIIc01MZDFBA4DU1OG8+RkAAAAAAAAD4fwAAAAAAAPh/AAAAAAAA+H8AAAAAAAD4fwAAAAAAAPh/AAAAAAAA+H8AAAAAAAD4fwAAAAAAAPh/AAAAAAAA+H8AAAAAAAD4fw==\",\"dtype\":\"float64\",\"order\":\"little\",\"shape\":[20]},\"Error MSE MLR+Genetic\":{\"__ndarray__\":\"+lZOuLo2G0DeltT6turwPxiphdDIRCdAv7Do4F2V+j86dRY4/vsKQNaQLVa2JRtAEp4MCN1s+D9mw6aq8Y4yQHHbNxM/aVFAOcB0auY0RUAAAAAAAAD4fwAAAAAAAPh/AAAAAAAA+H8AAAAAAAD4fwAAAAAAAPh/AAAAAAAA+H8AAAAAAAD4fwAAAAAAAPh/AAAAAAAA+H8AAAAAAAD4fw==\",\"dtype\":\"float64\",\"order\":\"little\",\"shape\":[20]},\"Error RMSE MLR\":{\"__ndarray__\":\"APhucVAUAkAAdj0KJkTwPwBr4OgVQwxAAKTUZg7g8D8AzujcLDn+PwCbw12k5gRAALytj3vx8D+ArJlMHv8QQABRk4ULBiBAADrxQf6tGkAAAAAAAAD4fwAAAAAAAPh/AAAAAAAA+H8AAAAAAAD4fwAAAAAAAPh/AAAAAAAA+H8AAAAAAAD4fwAAAAAAAPh/AAAAAAAA+H8AAAAAAAD4fw==\",\"dtype\":\"float64\",\"order\":\"little\",\"shape\":[20]},\"Error RMSE MLR+Genetic\":{\"__ndarray__\":\"AIfERuLdBEAA7o//uHPwPwAQsxGOSQtAAMYYSqif9D8AWguspmL9PwCc7hRb1wRAAO4bm83E8z8AQKR5VTsRQEBuYKPOsCBAgHB5Y9kMGkAAAAAAAAD4fwAAAAAAAPh/AAAAAAAA+H8AAAAAAAD4fwAAAAAAAPh/AAAAAAAA+H8AAAAAAAD4fwAAAAAAAPh/AAAAAAAA+H8AAAAAAAD4fw==\",\"dtype\":\"float64\",\"order\":\"little\",\"shape\":[20]},\"MLR With Genetic\":{\"__ndarray__\":\"h8RG4t1sikD3x3/cOWCKQBCzEY5JW4pAYwwl1E9KikCtBVZTsUaKQJzuFFvXPIpA943NZuIxikCAtwxViS2KQEd+csU8TYpA4fLGshmMikDh8sayGYyKQPExPcBpm4pAOTpVvMGpikDTroCGFa6KQGnZHXE/t4pAJdz98zW/ikD20kJi8MWKQGGgBzukzYpAQ2P6ufjUikA61079NdyKQA==\",\"dtype\":\"float64\",\"order\":\"little\",\"shape\":[20]},\"MLR Without Genetic\":{\"__ndarray__\":\"+G5xUBRqikC7HgUTImCKQGvg6BVDXIpAUmozB3BIikBndG6WHEeKQJvDXaTmPIpA3tbHvXgwikCnzGbDAS6KQLyy6dHnT4pAdOKD/FuNikB04oP8W42KQOg/ZtfylYpAklVcccihikCjGz7NTqaKQF7lZVK6rIpAOEL9p36zikA/Bn04c7mKQDLhxfuwv4pAOVFU1PjFikDhYl/XK8yKQA==\",\"dtype\":\"float64\",\"order\":\"little\",\"shape\":[20]},\"Y_test\":{\"__ndarray__\":\"AAAAAABYikAAAAAAAFiKQAAAAAAAQIpAAAAAAABAikAAAAAAADiKQAAAAAAAKIpAAAAAAAAoikAAAAAAAFCKQAAAAAAAkIpAAAAAAABYikAAAAAAAAD4fwAAAAAAAPh/AAAAAAAA+H8AAAAAAAD4fwAAAAAAAPh/AAAAAAAA+H8AAAAAAAD4fwAAAAAAAPh/AAAAAAAA+H8AAAAAAAD4fw==\",\"dtype\":\"float64\",\"order\":\"little\",\"shape\":[20]},\"date\":[\"2021-07-22\",\"2021-07-23\",\"2021-07-24\",\"2021-07-25\",\"2021-07-26\",\"2021-07-27\",\"2021-07-28\",\"2021-07-29\",\"2021-07-30\",\"2021-07-31\",\"2021-08-01\",\"2021-08-02\",\"2021-08-03\",\"2021-08-04\",\"2021-08-05\",\"2021-08-06\",\"2021-08-07\",\"2021-08-08\",\"2021-08-09\",\"2021-08-10\"],\"index\":{\"__ndarray__\":\"AACAMLisd0IAAECWCq13QgAAAPxcrXdCAADAYa+td0IAAIDHAa53QgAAQC1UrndCAAAAk6aud0IAAMD4+K53QgAAgF5Lr3dCAABAxJ2vd0IAAAAq8K93QgAAwI9CsHdCAACA9ZSwd0IAAEBb57B3QgAAAME5sXdCAADAJoyxd0IAAICM3rF3QgAAQPIwsndCAAAAWIOyd0IAAMC91bJ3Qg==\",\"dtype\":\"float64\",\"order\":\"little\",\"shape\":[20]}},\"selected\":{\"id\":\"1519\"},\"selection_policy\":{\"id\":\"1520\"}},\"id\":\"1423\",\"type\":\"ColumnDataSource\"},{\"attributes\":{},\"id\":\"1504\",\"type\":\"Selection\"},{\"attributes\":{\"source\":{\"id\":\"1339\"}},\"id\":\"1344\",\"type\":\"CDSView\"},{\"attributes\":{\"source\":{\"id\":\"1417\"}},\"id\":\"1422\",\"type\":\"CDSView\"},{\"attributes\":{},\"id\":\"1505\",\"type\":\"UnionRenderers\"},{\"attributes\":{},\"id\":\"1390\",\"type\":\"HelpTool\"},{\"attributes\":{\"data_source\":{\"id\":\"1339\"},\"glyph\":{\"id\":\"1341\"},\"hover_glyph\":null,\"muted_glyph\":null,\"nonselection_glyph\":{\"id\":\"1342\"},\"view\":{\"id\":\"1344\"}},\"id\":\"1343\",\"type\":\"GlyphRenderer\"},{\"attributes\":{},\"id\":\"1506\",\"type\":\"Selection\"},{\"attributes\":{},\"id\":\"1494\",\"type\":\"AllLabels\"},{\"attributes\":{\"line_alpha\":0.1,\"line_color\":\"#d62728\",\"line_width\":1.5,\"x\":{\"field\":\"date\"},\"y\":{\"field\":\"Error RMSE MLR+Genetic\"}},\"id\":\"1438\",\"type\":\"Line\"},{\"attributes\":{},\"id\":\"1507\",\"type\":\"UnionRenderers\"},{\"attributes\":{\"data_source\":{\"id\":\"1345\"},\"glyph\":{\"id\":\"1347\"},\"hover_glyph\":null,\"muted_glyph\":null,\"nonselection_glyph\":{\"id\":\"1348\"},\"view\":{\"id\":\"1350\"}},\"id\":\"1349\",\"type\":\"GlyphRenderer\"},{\"attributes\":{\"fill_alpha\":{\"value\":0.1},\"fill_color\":{\"value\":\"#d62728\"},\"line_alpha\":{\"value\":0.1},\"line_color\":{\"value\":\"#d62728\"},\"size\":{\"value\":3},\"x\":{\"field\":\"date\"},\"y\":{\"field\":\"Error RMSE MLR+Genetic\"}},\"id\":\"1444\",\"type\":\"Scatter\"},{\"attributes\":{\"data_source\":{\"id\":\"1357\"},\"glyph\":{\"id\":\"1359\"},\"hover_glyph\":null,\"muted_glyph\":null,\"nonselection_glyph\":{\"id\":\"1360\"},\"view\":{\"id\":\"1362\"}},\"id\":\"1361\",\"type\":\"GlyphRenderer\"},{\"attributes\":{},\"id\":\"1508\",\"type\":\"Selection\"},{\"attributes\":{\"data\":{\"Error MSE MLR\":{\"__ndarray__\":\"5rTpyc5tFEAVZyxYbonwP0XnVvvy9ShAeYD1YF7M8T8TZUZGmosMQHg/iaaXTRtA2f9dvTPx8T8JXDZvIA4yQIIc01MZDFBA4DU1OG8+RkAAAAAAAAD4fwAAAAAAAPh/AAAAAAAA+H8AAAAAAAD4fwAAAAAAAPh/AAAAAAAA+H8AAAAAAAD4fwAAAAAAAPh/AAAAAAAA+H8AAAAAAAD4fw==\",\"dtype\":\"float64\",\"order\":\"little\",\"shape\":[20]},\"Error MSE MLR+Genetic\":{\"__ndarray__\":\"+lZOuLo2G0DeltT6turwPxiphdDIRCdAv7Do4F2V+j86dRY4/vsKQNaQLVa2JRtAEp4MCN1s+D9mw6aq8Y4yQHHbNxM/aVFAOcB0auY0RUAAAAAAAAD4fwAAAAAAAPh/AAAAAAAA+H8AAAAAAAD4fwAAAAAAAPh/AAAAAAAA+H8AAAAAAAD4fwAAAAAAAPh/AAAAAAAA+H8AAAAAAAD4fw==\",\"dtype\":\"float64\",\"order\":\"little\",\"shape\":[20]},\"Error RMSE MLR\":{\"__ndarray__\":\"APhucVAUAkAAdj0KJkTwPwBr4OgVQwxAAKTUZg7g8D8AzujcLDn+PwCbw12k5gRAALytj3vx8D+ArJlMHv8QQABRk4ULBiBAADrxQf6tGkAAAAAAAAD4fwAAAAAAAPh/AAAAAAAA+H8AAAAAAAD4fwAAAAAAAPh/AAAAAAAA+H8AAAAAAAD4fwAAAAAAAPh/AAAAAAAA+H8AAAAAAAD4fw==\",\"dtype\":\"float64\",\"order\":\"little\",\"shape\":[20]},\"Error RMSE MLR+Genetic\":{\"__ndarray__\":\"AIfERuLdBEAA7o//uHPwPwAQsxGOSQtAAMYYSqif9D8AWguspmL9PwCc7hRb1wRAAO4bm83E8z8AQKR5VTsRQEBuYKPOsCBAgHB5Y9kMGkAAAAAAAAD4fwAAAAAAAPh/AAAAAAAA+H8AAAAAAAD4fwAAAAAAAPh/AAAAAAAA+H8AAAAAAAD4fwAAAAAAAPh/AAAAAAAA+H8AAAAAAAD4fw==\",\"dtype\":\"float64\",\"order\":\"little\",\"shape\":[20]},\"MLR With Genetic\":{\"__ndarray__\":\"h8RG4t1sikD3x3/cOWCKQBCzEY5JW4pAYwwl1E9KikCtBVZTsUaKQJzuFFvXPIpA943NZuIxikCAtwxViS2KQEd+csU8TYpA4fLGshmMikDh8sayGYyKQPExPcBpm4pAOTpVvMGpikDTroCGFa6KQGnZHXE/t4pAJdz98zW/ikD20kJi8MWKQGGgBzukzYpAQ2P6ufjUikA61079NdyKQA==\",\"dtype\":\"float64\",\"order\":\"little\",\"shape\":[20]},\"MLR Without Genetic\":{\"__ndarray__\":\"+G5xUBRqikC7HgUTImCKQGvg6BVDXIpAUmozB3BIikBndG6WHEeKQJvDXaTmPIpA3tbHvXgwikCnzGbDAS6KQLyy6dHnT4pAdOKD/FuNikB04oP8W42KQOg/ZtfylYpAklVcccihikCjGz7NTqaKQF7lZVK6rIpAOEL9p36zikA/Bn04c7mKQDLhxfuwv4pAOVFU1PjFikDhYl/XK8yKQA==\",\"dtype\":\"float64\",\"order\":\"little\",\"shape\":[20]},\"Y_test\":{\"__ndarray__\":\"AAAAAABYikAAAAAAAFiKQAAAAAAAQIpAAAAAAABAikAAAAAAADiKQAAAAAAAKIpAAAAAAAAoikAAAAAAAFCKQAAAAAAAkIpAAAAAAABYikAAAAAAAAD4fwAAAAAAAPh/AAAAAAAA+H8AAAAAAAD4fwAAAAAAAPh/AAAAAAAA+H8AAAAAAAD4fwAAAAAAAPh/AAAAAAAA+H8AAAAAAAD4fw==\",\"dtype\":\"float64\",\"order\":\"little\",\"shape\":[20]},\"date\":[\"2021-07-22\",\"2021-07-23\",\"2021-07-24\",\"2021-07-25\",\"2021-07-26\",\"2021-07-27\",\"2021-07-28\",\"2021-07-29\",\"2021-07-30\",\"2021-07-31\",\"2021-08-01\",\"2021-08-02\",\"2021-08-03\",\"2021-08-04\",\"2021-08-05\",\"2021-08-06\",\"2021-08-07\",\"2021-08-08\",\"2021-08-09\",\"2021-08-10\"],\"index\":{\"__ndarray__\":\"AACAMLisd0IAAECWCq13QgAAAPxcrXdCAADAYa+td0IAAIDHAa53QgAAQC1UrndCAAAAk6aud0IAAMD4+K53QgAAgF5Lr3dCAABAxJ2vd0IAAAAq8K93QgAAwI9CsHdCAACA9ZSwd0IAAEBb57B3QgAAAME5sXdCAADAJoyxd0IAAICM3rF3QgAAQPIwsndCAAAAWIOyd0IAAMC91bJ3Qg==\",\"dtype\":\"float64\",\"order\":\"little\",\"shape\":[20]}},\"selected\":{\"id\":\"1506\"},\"selection_policy\":{\"id\":\"1507\"}},\"id\":\"1351\",\"type\":\"ColumnDataSource\"},{\"attributes\":{},\"id\":\"1509\",\"type\":\"UnionRenderers\"},{\"attributes\":{\"data_source\":{\"id\":\"1435\"},\"glyph\":{\"id\":\"1437\"},\"hover_glyph\":null,\"muted_glyph\":null,\"nonselection_glyph\":{\"id\":\"1438\"},\"view\":{\"id\":\"1440\"}},\"id\":\"1439\",\"type\":\"GlyphRenderer\"},{\"attributes\":{\"above\":[{\"id\":\"1363\"}],\"below\":[{\"id\":\"1306\"}],\"center\":[{\"id\":\"1308\"},{\"id\":\"1312\"}],\"left\":[{\"id\":\"1309\"}],\"renderers\":[{\"id\":\"1331\"},{\"id\":\"1337\"},{\"id\":\"1343\"},{\"id\":\"1349\"},{\"id\":\"1355\"},{\"id\":\"1361\"}],\"title\":{\"id\":\"1296\"},\"toolbar\":{\"id\":\"1320\"},\"width\":900,\"x_range\":{\"id\":\"1298\"},\"x_scale\":{\"id\":\"1302\"},\"y_range\":{\"id\":\"1300\"},\"y_scale\":{\"id\":\"1304\"}},\"id\":\"1295\",\"subtype\":\"Figure\",\"type\":\"Plot\"},{\"attributes\":{\"text\":\"Prediksi Harga Jual pada Jangka Waktu 10 Hari\"},\"id\":\"1368\",\"type\":\"Title\"},{\"attributes\":{\"fill_color\":{\"value\":\"#d62728\"},\"line_color\":{\"value\":\"#d62728\"},\"size\":{\"value\":3},\"x\":{\"field\":\"date\"},\"y\":{\"field\":\"Error RMSE MLR+Genetic\"}},\"id\":\"1443\",\"type\":\"Scatter\"},{\"attributes\":{\"source\":{\"id\":\"1345\"}},\"id\":\"1350\",\"type\":\"CDSView\"},{\"attributes\":{\"source\":{\"id\":\"1423\"}},\"id\":\"1428\",\"type\":\"CDSView\"},{\"attributes\":{},\"id\":\"1511\",\"type\":\"Selection\"},{\"attributes\":{\"label\":{\"value\":\"MLR Without Genetic\"},\"renderers\":[{\"id\":\"1343\"},{\"id\":\"1349\"}]},\"id\":\"1365\",\"type\":\"LegendItem\"},{\"attributes\":{\"source\":{\"id\":\"1441\"}},\"id\":\"1446\",\"type\":\"CDSView\"},{\"attributes\":{},\"id\":\"1512\",\"type\":\"UnionRenderers\"},{\"attributes\":{\"data_source\":{\"id\":\"1423\"},\"glyph\":{\"id\":\"1425\"},\"hover_glyph\":null,\"muted_glyph\":null,\"nonselection_glyph\":{\"id\":\"1426\"},\"view\":{\"id\":\"1428\"}},\"id\":\"1427\",\"type\":\"GlyphRenderer\"},{\"attributes\":{\"data\":{\"Error MSE MLR\":{\"__ndarray__\":\"5rTpyc5tFEAVZyxYbonwP0XnVvvy9ShAeYD1YF7M8T8TZUZGmosMQHg/iaaXTRtA2f9dvTPx8T8JXDZvIA4yQIIc01MZDFBA4DU1OG8+RkAAAAAAAAD4fwAAAAAAAPh/AAAAAAAA+H8AAAAAAAD4fwAAAAAAAPh/AAAAAAAA+H8AAAAAAAD4fwAAAAAAAPh/AAAAAAAA+H8AAAAAAAD4fw==\",\"dtype\":\"float64\",\"order\":\"little\",\"shape\":[20]},\"Error MSE MLR+Genetic\":{\"__ndarray__\":\"+lZOuLo2G0DeltT6turwPxiphdDIRCdAv7Do4F2V+j86dRY4/vsKQNaQLVa2JRtAEp4MCN1s+D9mw6aq8Y4yQHHbNxM/aVFAOcB0auY0RUAAAAAAAAD4fwAAAAAAAPh/AAAAAAAA+H8AAAAAAAD4fwAAAAAAAPh/AAAAAAAA+H8AAAAAAAD4fwAAAAAAAPh/AAAAAAAA+H8AAAAAAAD4fw==\",\"dtype\":\"float64\",\"order\":\"little\",\"shape\":[20]},\"Error RMSE MLR\":{\"__ndarray__\":\"APhucVAUAkAAdj0KJkTwPwBr4OgVQwxAAKTUZg7g8D8AzujcLDn+PwCbw12k5gRAALytj3vx8D+ArJlMHv8QQABRk4ULBiBAADrxQf6tGkAAAAAAAAD4fwAAAAAAAPh/AAAAAAAA+H8AAAAAAAD4fwAAAAAAAPh/AAAAAAAA+H8AAAAAAAD4fwAAAAAAAPh/AAAAAAAA+H8AAAAAAAD4fw==\",\"dtype\":\"float64\",\"order\":\"little\",\"shape\":[20]},\"Error RMSE MLR+Genetic\":{\"__ndarray__\":\"AIfERuLdBEAA7o//uHPwPwAQsxGOSQtAAMYYSqif9D8AWguspmL9PwCc7hRb1wRAAO4bm83E8z8AQKR5VTsRQEBuYKPOsCBAgHB5Y9kMGkAAAAAAAAD4fwAAAAAAAPh/AAAAAAAA+H8AAAAAAAD4fwAAAAAAAPh/AAAAAAAA+H8AAAAAAAD4fwAAAAAAAPh/AAAAAAAA+H8AAAAAAAD4fw==\",\"dtype\":\"float64\",\"order\":\"little\",\"shape\":[20]},\"MLR With Genetic\":{\"__ndarray__\":\"h8RG4t1sikD3x3/cOWCKQBCzEY5JW4pAYwwl1E9KikCtBVZTsUaKQJzuFFvXPIpA943NZuIxikCAtwxViS2KQEd+csU8TYpA4fLGshmMikDh8sayGYyKQPExPcBpm4pAOTpVvMGpikDTroCGFa6KQGnZHXE/t4pAJdz98zW/ikD20kJi8MWKQGGgBzukzYpAQ2P6ufjUikA61079NdyKQA==\",\"dtype\":\"float64\",\"order\":\"little\",\"shape\":[20]},\"MLR Without Genetic\":{\"__ndarray__\":\"+G5xUBRqikC7HgUTImCKQGvg6BVDXIpAUmozB3BIikBndG6WHEeKQJvDXaTmPIpA3tbHvXgwikCnzGbDAS6KQLyy6dHnT4pAdOKD/FuNikB04oP8W42KQOg/ZtfylYpAklVcccihikCjGz7NTqaKQF7lZVK6rIpAOEL9p36zikA/Bn04c7mKQDLhxfuwv4pAOVFU1PjFikDhYl/XK8yKQA==\",\"dtype\":\"float64\",\"order\":\"little\",\"shape\":[20]},\"Y_test\":{\"__ndarray__\":\"AAAAAABYikAAAAAAAFiKQAAAAAAAQIpAAAAAAABAikAAAAAAADiKQAAAAAAAKIpAAAAAAAAoikAAAAAAAFCKQAAAAAAAkIpAAAAAAABYikAAAAAAAAD4fwAAAAAAAPh/AAAAAAAA+H8AAAAAAAD4fwAAAAAAAPh/AAAAAAAA+H8AAAAAAAD4fwAAAAAAAPh/AAAAAAAA+H8AAAAAAAD4fw==\",\"dtype\":\"float64\",\"order\":\"little\",\"shape\":[20]},\"date\":[\"2021-07-22\",\"2021-07-23\",\"2021-07-24\",\"2021-07-25\",\"2021-07-26\",\"2021-07-27\",\"2021-07-28\",\"2021-07-29\",\"2021-07-30\",\"2021-07-31\",\"2021-08-01\",\"2021-08-02\",\"2021-08-03\",\"2021-08-04\",\"2021-08-05\",\"2021-08-06\",\"2021-08-07\",\"2021-08-08\",\"2021-08-09\",\"2021-08-10\"],\"index\":{\"__ndarray__\":\"AACAMLisd0IAAECWCq13QgAAAPxcrXdCAADAYa+td0IAAIDHAa53QgAAQC1UrndCAAAAk6aud0IAAMD4+K53QgAAgF5Lr3dCAABAxJ2vd0IAAAAq8K93QgAAwI9CsHdCAACA9ZSwd0IAAEBb57B3QgAAAME5sXdCAADAJoyxd0IAAICM3rF3QgAAQPIwsndCAAAAWIOyd0IAAMC91bJ3Qg==\",\"dtype\":\"float64\",\"order\":\"little\",\"shape\":[20]}},\"selected\":{\"id\":\"1523\"},\"selection_policy\":{\"id\":\"1524\"}},\"id\":\"1435\",\"type\":\"ColumnDataSource\"},{\"attributes\":{\"source\":{\"id\":\"1435\"}},\"id\":\"1440\",\"type\":\"CDSView\"},{\"attributes\":{\"fill_color\":{\"value\":\"#ff7f0e\"},\"line_color\":{\"value\":\"#ff7f0e\"},\"size\":{\"value\":3},\"x\":{\"field\":\"date\"},\"y\":{\"field\":\"MLR Without Genetic\"}},\"id\":\"1347\",\"type\":\"Scatter\"},{\"attributes\":{\"line_color\":\"#2ca02c\",\"line_width\":1.5,\"x\":{\"field\":\"date\"},\"y\":{\"field\":\"Error RMSE MLR\"}},\"id\":\"1425\",\"type\":\"Line\"},{\"attributes\":{},\"id\":\"1513\",\"type\":\"Selection\"},{\"attributes\":{\"source\":{\"id\":\"1357\"}},\"id\":\"1362\",\"type\":\"CDSView\"},{\"attributes\":{\"data_source\":{\"id\":\"1429\"},\"glyph\":{\"id\":\"1431\"},\"hover_glyph\":null,\"muted_glyph\":null,\"nonselection_glyph\":{\"id\":\"1432\"},\"view\":{\"id\":\"1434\"}},\"id\":\"1433\",\"type\":\"GlyphRenderer\"},{\"attributes\":{\"text\":\"Prediksi Harga Jual pada Jangka Waktu 10 Hari\"},\"id\":\"1296\",\"type\":\"Title\"},{\"attributes\":{\"data\":{\"Error MSE MLR\":{\"__ndarray__\":\"5rTpyc5tFEAVZyxYbonwP0XnVvvy9ShAeYD1YF7M8T8TZUZGmosMQHg/iaaXTRtA2f9dvTPx8T8JXDZvIA4yQIIc01MZDFBA4DU1OG8+RkAAAAAAAAD4fwAAAAAAAPh/AAAAAAAA+H8AAAAAAAD4fwAAAAAAAPh/AAAAAAAA+H8AAAAAAAD4fwAAAAAAAPh/AAAAAAAA+H8AAAAAAAD4fw==\",\"dtype\":\"float64\",\"order\":\"little\",\"shape\":[20]},\"Error MSE MLR+Genetic\":{\"__ndarray__\":\"+lZOuLo2G0DeltT6turwPxiphdDIRCdAv7Do4F2V+j86dRY4/vsKQNaQLVa2JRtAEp4MCN1s+D9mw6aq8Y4yQHHbNxM/aVFAOcB0auY0RUAAAAAAAAD4fwAAAAAAAPh/AAAAAAAA+H8AAAAAAAD4fwAAAAAAAPh/AAAAAAAA+H8AAAAAAAD4fwAAAAAAAPh/AAAAAAAA+H8AAAAAAAD4fw==\",\"dtype\":\"float64\",\"order\":\"little\",\"shape\":[20]},\"Error RMSE MLR\":{\"__ndarray__\":\"APhucVAUAkAAdj0KJkTwPwBr4OgVQwxAAKTUZg7g8D8AzujcLDn+PwCbw12k5gRAALytj3vx8D+ArJlMHv8QQABRk4ULBiBAADrxQf6tGkAAAAAAAAD4fwAAAAAAAPh/AAAAAAAA+H8AAAAAAAD4fwAAAAAAAPh/AAAAAAAA+H8AAAAAAAD4fwAAAAAAAPh/AAAAAAAA+H8AAAAAAAD4fw==\",\"dtype\":\"float64\",\"order\":\"little\",\"shape\":[20]},\"Error RMSE MLR+Genetic\":{\"__ndarray__\":\"AIfERuLdBEAA7o//uHPwPwAQsxGOSQtAAMYYSqif9D8AWguspmL9PwCc7hRb1wRAAO4bm83E8z8AQKR5VTsRQEBuYKPOsCBAgHB5Y9kMGkAAAAAAAAD4fwAAAAAAAPh/AAAAAAAA+H8AAAAAAAD4fwAAAAAAAPh/AAAAAAAA+H8AAAAAAAD4fwAAAAAAAPh/AAAAAAAA+H8AAAAAAAD4fw==\",\"dtype\":\"float64\",\"order\":\"little\",\"shape\":[20]},\"MLR With Genetic\":{\"__ndarray__\":\"h8RG4t1sikD3x3/cOWCKQBCzEY5JW4pAYwwl1E9KikCtBVZTsUaKQJzuFFvXPIpA943NZuIxikCAtwxViS2KQEd+csU8TYpA4fLGshmMikDh8sayGYyKQPExPcBpm4pAOTpVvMGpikDTroCGFa6KQGnZHXE/t4pAJdz98zW/ikD20kJi8MWKQGGgBzukzYpAQ2P6ufjUikA61079NdyKQA==\",\"dtype\":\"float64\",\"order\":\"little\",\"shape\":[20]},\"MLR Without Genetic\":{\"__ndarray__\":\"+G5xUBRqikC7HgUTImCKQGvg6BVDXIpAUmozB3BIikBndG6WHEeKQJvDXaTmPIpA3tbHvXgwikCnzGbDAS6KQLyy6dHnT4pAdOKD/FuNikB04oP8W42KQOg/ZtfylYpAklVcccihikCjGz7NTqaKQF7lZVK6rIpAOEL9p36zikA/Bn04c7mKQDLhxfuwv4pAOVFU1PjFikDhYl/XK8yKQA==\",\"dtype\":\"float64\",\"order\":\"little\",\"shape\":[20]},\"Y_test\":{\"__ndarray__\":\"AAAAAABYikAAAAAAAFiKQAAAAAAAQIpAAAAAAABAikAAAAAAADiKQAAAAAAAKIpAAAAAAAAoikAAAAAAAFCKQAAAAAAAkIpAAAAAAABYikAAAAAAAAD4fwAAAAAAAPh/AAAAAAAA+H8AAAAAAAD4fwAAAAAAAPh/AAAAAAAA+H8AAAAAAAD4fwAAAAAAAPh/AAAAAAAA+H8AAAAAAAD4fw==\",\"dtype\":\"float64\",\"order\":\"little\",\"shape\":[20]},\"date\":[\"2021-07-22\",\"2021-07-23\",\"2021-07-24\",\"2021-07-25\",\"2021-07-26\",\"2021-07-27\",\"2021-07-28\",\"2021-07-29\",\"2021-07-30\",\"2021-07-31\",\"2021-08-01\",\"2021-08-02\",\"2021-08-03\",\"2021-08-04\",\"2021-08-05\",\"2021-08-06\",\"2021-08-07\",\"2021-08-08\",\"2021-08-09\",\"2021-08-10\"],\"index\":{\"__ndarray__\":\"AACAMLisd0IAAECWCq13QgAAAPxcrXdCAADAYa+td0IAAIDHAa53QgAAQC1UrndCAAAAk6aud0IAAMD4+K53QgAAgF5Lr3dCAABAxJ2vd0IAAAAq8K93QgAAwI9CsHdCAACA9ZSwd0IAAEBb57B3QgAAAME5sXdCAADAJoyxd0IAAICM3rF3QgAAQPIwsndCAAAAWIOyd0IAAMC91bJ3Qg==\",\"dtype\":\"float64\",\"order\":\"little\",\"shape\":[20]}},\"selected\":{\"id\":\"1521\"},\"selection_policy\":{\"id\":\"1522\"}},\"id\":\"1429\",\"type\":\"ColumnDataSource\"},{\"attributes\":{\"above\":[{\"id\":\"1447\"}],\"below\":[{\"id\":\"1378\"}],\"center\":[{\"id\":\"1380\"},{\"id\":\"1384\"}],\"left\":[{\"id\":\"1381\"}],\"renderers\":[{\"id\":\"1403\"},{\"id\":\"1409\"},{\"id\":\"1415\"},{\"id\":\"1421\"},{\"id\":\"1427\"},{\"id\":\"1433\"},{\"id\":\"1439\"},{\"id\":\"1445\"}],\"title\":{\"id\":\"1368\"},\"toolbar\":{\"id\":\"1392\"},\"width\":900,\"x_range\":{\"id\":\"1370\"},\"x_scale\":{\"id\":\"1374\"},\"y_range\":{\"id\":\"1372\"},\"y_scale\":{\"id\":\"1376\"}},\"id\":\"1367\",\"subtype\":\"Figure\",\"type\":\"Plot\"},{\"attributes\":{\"factors\":[\"2021-07-22\",\"2021-07-23\",\"2021-07-24\",\"2021-07-25\",\"2021-07-26\",\"2021-07-27\",\"2021-07-28\",\"2021-07-29\",\"2021-07-30\",\"2021-07-31\",\"2021-08-01\",\"2021-08-02\",\"2021-08-03\",\"2021-08-04\",\"2021-08-05\",\"2021-08-06\",\"2021-08-07\",\"2021-08-08\",\"2021-08-09\",\"2021-08-10\"]},\"id\":\"1298\",\"type\":\"FactorRange\"},{\"attributes\":{},\"id\":\"1514\",\"type\":\"UnionRenderers\"},{\"attributes\":{\"bottom_units\":\"screen\",\"fill_alpha\":0.5,\"fill_color\":\"lightgrey\",\"left_units\":\"screen\",\"level\":\"overlay\",\"line_alpha\":1.0,\"line_color\":\"black\",\"line_dash\":[4,4],\"line_width\":2,\"right_units\":\"screen\",\"syncable\":false,\"top_units\":\"screen\"},\"id\":\"1391\",\"type\":\"BoxAnnotation\"},{\"attributes\":{\"label\":{\"value\":\"Error MSE MLR\"},\"renderers\":[{\"id\":\"1403\"},{\"id\":\"1409\"}]},\"id\":\"1448\",\"type\":\"LegendItem\"},{\"attributes\":{\"source\":{\"id\":\"1429\"}},\"id\":\"1434\",\"type\":\"CDSView\"},{\"attributes\":{\"fill_color\":{\"value\":\"#2ca02c\"},\"line_color\":{\"value\":\"#2ca02c\"},\"size\":{\"value\":3},\"x\":{\"field\":\"date\"},\"y\":{\"field\":\"Error RMSE MLR\"}},\"id\":\"1431\",\"type\":\"Scatter\"},{\"attributes\":{},\"id\":\"1515\",\"type\":\"Selection\"},{\"attributes\":{},\"id\":\"1516\",\"type\":\"UnionRenderers\"},{\"attributes\":{\"fill_alpha\":{\"value\":0.1},\"fill_color\":{\"value\":\"#1f77b4\"},\"line_alpha\":{\"value\":0.1},\"line_color\":{\"value\":\"#1f77b4\"},\"size\":{\"value\":3},\"x\":{\"field\":\"date\"},\"y\":{\"field\":\"Error MSE MLR\"}},\"id\":\"1408\",\"type\":\"Scatter\"},{\"attributes\":{\"line_alpha\":0.1,\"line_color\":\"#1f77b4\",\"line_width\":1.5,\"x\":{\"field\":\"date\"},\"y\":{\"field\":\"Error MSE MLR\"}},\"id\":\"1402\",\"type\":\"Line\"},{\"attributes\":{\"label\":{\"value\":\"Y_test\"},\"renderers\":[{\"id\":\"1331\"},{\"id\":\"1337\"}]},\"id\":\"1364\",\"type\":\"LegendItem\"},{\"attributes\":{\"source\":{\"id\":\"1399\"}},\"id\":\"1404\",\"type\":\"CDSView\"},{\"attributes\":{},\"id\":\"1517\",\"type\":\"Selection\"},{\"attributes\":{},\"id\":\"1518\",\"type\":\"UnionRenderers\"},{\"attributes\":{},\"id\":\"1300\",\"type\":\"DataRange1d\"},{\"attributes\":{\"label\":{\"value\":\"MLR With Genetic\"},\"renderers\":[{\"id\":\"1355\"},{\"id\":\"1361\"}]},\"id\":\"1366\",\"type\":\"LegendItem\"},{\"attributes\":{\"data\":{\"Error MSE MLR\":{\"__ndarray__\":\"5rTpyc5tFEAVZyxYbonwP0XnVvvy9ShAeYD1YF7M8T8TZUZGmosMQHg/iaaXTRtA2f9dvTPx8T8JXDZvIA4yQIIc01MZDFBA4DU1OG8+RkAAAAAAAAD4fwAAAAAAAPh/AAAAAAAA+H8AAAAAAAD4fwAAAAAAAPh/AAAAAAAA+H8AAAAAAAD4fwAAAAAAAPh/AAAAAAAA+H8AAAAAAAD4fw==\",\"dtype\":\"float64\",\"order\":\"little\",\"shape\":[20]},\"Error MSE MLR+Genetic\":{\"__ndarray__\":\"+lZOuLo2G0DeltT6turwPxiphdDIRCdAv7Do4F2V+j86dRY4/vsKQNaQLVa2JRtAEp4MCN1s+D9mw6aq8Y4yQHHbNxM/aVFAOcB0auY0RUAAAAAAAAD4fwAAAAAAAPh/AAAAAAAA+H8AAAAAAAD4fwAAAAAAAPh/AAAAAAAA+H8AAAAAAAD4fwAAAAAAAPh/AAAAAAAA+H8AAAAAAAD4fw==\",\"dtype\":\"float64\",\"order\":\"little\",\"shape\":[20]},\"Error RMSE MLR\":{\"__ndarray__\":\"APhucVAUAkAAdj0KJkTwPwBr4OgVQwxAAKTUZg7g8D8AzujcLDn+PwCbw12k5gRAALytj3vx8D+ArJlMHv8QQABRk4ULBiBAADrxQf6tGkAAAAAAAAD4fwAAAAAAAPh/AAAAAAAA+H8AAAAAAAD4fwAAAAAAAPh/AAAAAAAA+H8AAAAAAAD4fwAAAAAAAPh/AAAAAAAA+H8AAAAAAAD4fw==\",\"dtype\":\"float64\",\"order\":\"little\",\"shape\":[20]},\"Error RMSE MLR+Genetic\":{\"__ndarray__\":\"AIfERuLdBEAA7o//uHPwPwAQsxGOSQtAAMYYSqif9D8AWguspmL9PwCc7hRb1wRAAO4bm83E8z8AQKR5VTsRQEBuYKPOsCBAgHB5Y9kMGkAAAAAAAAD4fwAAAAAAAPh/AAAAAAAA+H8AAAAAAAD4fwAAAAAAAPh/AAAAAAAA+H8AAAAAAAD4fwAAAAAAAPh/AAAAAAAA+H8AAAAAAAD4fw==\",\"dtype\":\"float64\",\"order\":\"little\",\"shape\":[20]},\"MLR With Genetic\":{\"__ndarray__\":\"h8RG4t1sikD3x3/cOWCKQBCzEY5JW4pAYwwl1E9KikCtBVZTsUaKQJzuFFvXPIpA943NZuIxikCAtwxViS2KQEd+csU8TYpA4fLGshmMikDh8sayGYyKQPExPcBpm4pAOTpVvMGpikDTroCGFa6KQGnZHXE/t4pAJdz98zW/ikD20kJi8MWKQGGgBzukzYpAQ2P6ufjUikA61079NdyKQA==\",\"dtype\":\"float64\",\"order\":\"little\",\"shape\":[20]},\"MLR Without Genetic\":{\"__ndarray__\":\"+G5xUBRqikC7HgUTImCKQGvg6BVDXIpAUmozB3BIikBndG6WHEeKQJvDXaTmPIpA3tbHvXgwikCnzGbDAS6KQLyy6dHnT4pAdOKD/FuNikB04oP8W42KQOg/ZtfylYpAklVcccihikCjGz7NTqaKQF7lZVK6rIpAOEL9p36zikA/Bn04c7mKQDLhxfuwv4pAOVFU1PjFikDhYl/XK8yKQA==\",\"dtype\":\"float64\",\"order\":\"little\",\"shape\":[20]},\"Y_test\":{\"__ndarray__\":\"AAAAAABYikAAAAAAAFiKQAAAAAAAQIpAAAAAAABAikAAAAAAADiKQAAAAAAAKIpAAAAAAAAoikAAAAAAAFCKQAAAAAAAkIpAAAAAAABYikAAAAAAAAD4fwAAAAAAAPh/AAAAAAAA+H8AAAAAAAD4fwAAAAAAAPh/AAAAAAAA+H8AAAAAAAD4fwAAAAAAAPh/AAAAAAAA+H8AAAAAAAD4fw==\",\"dtype\":\"float64\",\"order\":\"little\",\"shape\":[20]},\"date\":[\"2021-07-22\",\"2021-07-23\",\"2021-07-24\",\"2021-07-25\",\"2021-07-26\",\"2021-07-27\",\"2021-07-28\",\"2021-07-29\",\"2021-07-30\",\"2021-07-31\",\"2021-08-01\",\"2021-08-02\",\"2021-08-03\",\"2021-08-04\",\"2021-08-05\",\"2021-08-06\",\"2021-08-07\",\"2021-08-08\",\"2021-08-09\",\"2021-08-10\"],\"index\":{\"__ndarray__\":\"AACAMLisd0IAAECWCq13QgAAAPxcrXdCAADAYa+td0IAAIDHAa53QgAAQC1UrndCAAAAk6aud0IAAMD4+K53QgAAgF5Lr3dCAABAxJ2vd0IAAAAq8K93QgAAwI9CsHdCAACA9ZSwd0IAAEBb57B3QgAAAME5sXdCAADAJoyxd0IAAICM3rF3QgAAQPIwsndCAAAAWIOyd0IAAMC91bJ3Qg==\",\"dtype\":\"float64\",\"order\":\"little\",\"shape\":[20]}},\"selected\":{\"id\":\"1513\"},\"selection_policy\":{\"id\":\"1514\"}},\"id\":\"1405\",\"type\":\"ColumnDataSource\"},{\"attributes\":{\"label\":{\"value\":\"Error MSE MLR+Genetic\"},\"renderers\":[{\"id\":\"1415\"},{\"id\":\"1421\"}]},\"id\":\"1449\",\"type\":\"LegendItem\"},{\"attributes\":{},\"id\":\"1519\",\"type\":\"Selection\"},{\"attributes\":{},\"id\":\"1452\",\"type\":\"Div\"},{\"attributes\":{\"factors\":[\"2021-07-22\",\"2021-07-23\",\"2021-07-24\",\"2021-07-25\",\"2021-07-26\",\"2021-07-27\",\"2021-07-28\",\"2021-07-29\",\"2021-07-30\",\"2021-07-31\",\"2021-08-01\",\"2021-08-02\",\"2021-08-03\",\"2021-08-04\",\"2021-08-05\",\"2021-08-06\",\"2021-08-07\",\"2021-08-08\",\"2021-08-09\",\"2021-08-10\"]},\"id\":\"1370\",\"type\":\"FactorRange\"},{\"attributes\":{\"fill_alpha\":{\"value\":0.1},\"fill_color\":{\"value\":\"#2ca02c\"},\"line_alpha\":{\"value\":0.1},\"line_color\":{\"value\":\"#2ca02c\"},\"size\":{\"value\":3},\"x\":{\"field\":\"date\"},\"y\":{\"field\":\"Error RMSE MLR\"}},\"id\":\"1432\",\"type\":\"Scatter\"},{\"attributes\":{},\"id\":\"1520\",\"type\":\"UnionRenderers\"},{\"attributes\":{},\"id\":\"1304\",\"type\":\"LinearScale\"},{\"attributes\":{\"data_source\":{\"id\":\"1399\"},\"glyph\":{\"id\":\"1401\"},\"hover_glyph\":null,\"muted_glyph\":null,\"nonselection_glyph\":{\"id\":\"1402\"},\"view\":{\"id\":\"1404\"}},\"id\":\"1403\",\"type\":\"GlyphRenderer\"},{\"attributes\":{},\"id\":\"1488\",\"type\":\"AllLabels\"},{\"attributes\":{},\"id\":\"1372\",\"type\":\"DataRange1d\"},{\"attributes\":{},\"id\":\"1486\",\"type\":\"BasicTickFormatter\"},{\"attributes\":{},\"id\":\"1307\",\"type\":\"CategoricalTicker\"},{\"attributes\":{},\"id\":\"1374\",\"type\":\"CategoricalScale\"},{\"attributes\":{\"data\":{\"Error MSE MLR\":{\"__ndarray__\":\"5rTpyc5tFEAVZyxYbonwP0XnVvvy9ShAeYD1YF7M8T8TZUZGmosMQHg/iaaXTRtA2f9dvTPx8T8JXDZvIA4yQIIc01MZDFBA4DU1OG8+RkAAAAAAAAD4fwAAAAAAAPh/AAAAAAAA+H8AAAAAAAD4fwAAAAAAAPh/AAAAAAAA+H8AAAAAAAD4fwAAAAAAAPh/AAAAAAAA+H8AAAAAAAD4fw==\",\"dtype\":\"float64\",\"order\":\"little\",\"shape\":[20]},\"Error MSE MLR+Genetic\":{\"__ndarray__\":\"+lZOuLo2G0DeltT6turwPxiphdDIRCdAv7Do4F2V+j86dRY4/vsKQNaQLVa2JRtAEp4MCN1s+D9mw6aq8Y4yQHHbNxM/aVFAOcB0auY0RUAAAAAAAAD4fwAAAAAAAPh/AAAAAAAA+H8AAAAAAAD4fwAAAAAAAPh/AAAAAAAA+H8AAAAAAAD4fwAAAAAAAPh/AAAAAAAA+H8AAAAAAAD4fw==\",\"dtype\":\"float64\",\"order\":\"little\",\"shape\":[20]},\"Error RMSE MLR\":{\"__ndarray__\":\"APhucVAUAkAAdj0KJkTwPwBr4OgVQwxAAKTUZg7g8D8AzujcLDn+PwCbw12k5gRAALytj3vx8D+ArJlMHv8QQABRk4ULBiBAADrxQf6tGkAAAAAAAAD4fwAAAAAAAPh/AAAAAAAA+H8AAAAAAAD4fwAAAAAAAPh/AAAAAAAA+H8AAAAAAAD4fwAAAAAAAPh/AAAAAAAA+H8AAAAAAAD4fw==\",\"dtype\":\"float64\",\"order\":\"little\",\"shape\":[20]},\"Error RMSE MLR+Genetic\":{\"__ndarray__\":\"AIfERuLdBEAA7o//uHPwPwAQsxGOSQtAAMYYSqif9D8AWguspmL9PwCc7hRb1wRAAO4bm83E8z8AQKR5VTsRQEBuYKPOsCBAgHB5Y9kMGkAAAAAAAAD4fwAAAAAAAPh/AAAAAAAA+H8AAAAAAAD4fwAAAAAAAPh/AAAAAAAA+H8AAAAAAAD4fwAAAAAAAPh/AAAAAAAA+H8AAAAAAAD4fw==\",\"dtype\":\"float64\",\"order\":\"little\",\"shape\":[20]},\"MLR With Genetic\":{\"__ndarray__\":\"h8RG4t1sikD3x3/cOWCKQBCzEY5JW4pAYwwl1E9KikCtBVZTsUaKQJzuFFvXPIpA943NZuIxikCAtwxViS2KQEd+csU8TYpA4fLGshmMikDh8sayGYyKQPExPcBpm4pAOTpVvMGpikDTroCGFa6KQGnZHXE/t4pAJdz98zW/ikD20kJi8MWKQGGgBzukzYpAQ2P6ufjUikA61079NdyKQA==\",\"dtype\":\"float64\",\"order\":\"little\",\"shape\":[20]},\"MLR Without Genetic\":{\"__ndarray__\":\"+G5xUBRqikC7HgUTImCKQGvg6BVDXIpAUmozB3BIikBndG6WHEeKQJvDXaTmPIpA3tbHvXgwikCnzGbDAS6KQLyy6dHnT4pAdOKD/FuNikB04oP8W42KQOg/ZtfylYpAklVcccihikCjGz7NTqaKQF7lZVK6rIpAOEL9p36zikA/Bn04c7mKQDLhxfuwv4pAOVFU1PjFikDhYl/XK8yKQA==\",\"dtype\":\"float64\",\"order\":\"little\",\"shape\":[20]},\"Y_test\":{\"__ndarray__\":\"AAAAAABYikAAAAAAAFiKQAAAAAAAQIpAAAAAAABAikAAAAAAADiKQAAAAAAAKIpAAAAAAAAoikAAAAAAAFCKQAAAAAAAkIpAAAAAAABYikAAAAAAAAD4fwAAAAAAAPh/AAAAAAAA+H8AAAAAAAD4fwAAAAAAAPh/AAAAAAAA+H8AAAAAAAD4fwAAAAAAAPh/AAAAAAAA+H8AAAAAAAD4fw==\",\"dtype\":\"float64\",\"order\":\"little\",\"shape\":[20]},\"date\":[\"2021-07-22\",\"2021-07-23\",\"2021-07-24\",\"2021-07-25\",\"2021-07-26\",\"2021-07-27\",\"2021-07-28\",\"2021-07-29\",\"2021-07-30\",\"2021-07-31\",\"2021-08-01\",\"2021-08-02\",\"2021-08-03\",\"2021-08-04\",\"2021-08-05\",\"2021-08-06\",\"2021-08-07\",\"2021-08-08\",\"2021-08-09\",\"2021-08-10\"],\"index\":{\"__ndarray__\":\"AACAMLisd0IAAECWCq13QgAAAPxcrXdCAADAYa+td0IAAIDHAa53QgAAQC1UrndCAAAAk6aud0IAAMD4+K53QgAAgF5Lr3dCAABAxJ2vd0IAAAAq8K93QgAAwI9CsHdCAACA9ZSwd0IAAEBb57B3QgAAAME5sXdCAADAJoyxd0IAAICM3rF3QgAAQPIwsndCAAAAWIOyd0IAAMC91bJ3Qg==\",\"dtype\":\"float64\",\"order\":\"little\",\"shape\":[20]}},\"selected\":{\"id\":\"1525\"},\"selection_policy\":{\"id\":\"1526\"}},\"id\":\"1441\",\"type\":\"ColumnDataSource\"},{\"attributes\":{},\"id\":\"1521\",\"type\":\"Selection\"},{\"attributes\":{\"formatter\":{\"id\":\"1489\"},\"major_label_orientation\":\"vertical\",\"major_label_policy\":{\"id\":\"1488\"},\"ticker\":{\"id\":\"1307\"}},\"id\":\"1306\",\"type\":\"CategoricalAxis\"},{\"attributes\":{\"data_source\":{\"id\":\"1405\"},\"glyph\":{\"id\":\"1407\"},\"hover_glyph\":null,\"muted_glyph\":null,\"nonselection_glyph\":{\"id\":\"1408\"},\"view\":{\"id\":\"1410\"}},\"id\":\"1409\",\"type\":\"GlyphRenderer\"},{\"attributes\":{\"label\":{\"value\":\"Error RMSE MLR\"},\"renderers\":[{\"id\":\"1427\"},{\"id\":\"1433\"}]},\"id\":\"1450\",\"type\":\"LegendItem\"},{\"attributes\":{},\"id\":\"1522\",\"type\":\"UnionRenderers\"},{\"attributes\":{},\"id\":\"1376\",\"type\":\"LinearScale\"},{\"attributes\":{\"data_source\":{\"id\":\"1411\"},\"glyph\":{\"id\":\"1413\"},\"hover_glyph\":null,\"muted_glyph\":null,\"nonselection_glyph\":{\"id\":\"1414\"},\"view\":{\"id\":\"1416\"}},\"id\":\"1415\",\"type\":\"GlyphRenderer\"},{\"attributes\":{\"label\":{\"value\":\"Error RMSE MLR+Genetic\"},\"renderers\":[{\"id\":\"1439\"},{\"id\":\"1445\"}]},\"id\":\"1451\",\"type\":\"LegendItem\"},{\"attributes\":{},\"id\":\"1302\",\"type\":\"CategoricalScale\"},{\"attributes\":{\"data\":{\"Error MSE MLR\":{\"__ndarray__\":\"5rTpyc5tFEAVZyxYbonwP0XnVvvy9ShAeYD1YF7M8T8TZUZGmosMQHg/iaaXTRtA2f9dvTPx8T8JXDZvIA4yQIIc01MZDFBA4DU1OG8+RkAAAAAAAAD4fwAAAAAAAPh/AAAAAAAA+H8AAAAAAAD4fwAAAAAAAPh/AAAAAAAA+H8AAAAAAAD4fwAAAAAAAPh/AAAAAAAA+H8AAAAAAAD4fw==\",\"dtype\":\"float64\",\"order\":\"little\",\"shape\":[20]},\"Error MSE MLR+Genetic\":{\"__ndarray__\":\"+lZOuLo2G0DeltT6turwPxiphdDIRCdAv7Do4F2V+j86dRY4/vsKQNaQLVa2JRtAEp4MCN1s+D9mw6aq8Y4yQHHbNxM/aVFAOcB0auY0RUAAAAAAAAD4fwAAAAAAAPh/AAAAAAAA+H8AAAAAAAD4fwAAAAAAAPh/AAAAAAAA+H8AAAAAAAD4fwAAAAAAAPh/AAAAAAAA+H8AAAAAAAD4fw==\",\"dtype\":\"float64\",\"order\":\"little\",\"shape\":[20]},\"Error RMSE MLR\":{\"__ndarray__\":\"APhucVAUAkAAdj0KJkTwPwBr4OgVQwxAAKTUZg7g8D8AzujcLDn+PwCbw12k5gRAALytj3vx8D+ArJlMHv8QQABRk4ULBiBAADrxQf6tGkAAAAAAAAD4fwAAAAAAAPh/AAAAAAAA+H8AAAAAAAD4fwAAAAAAAPh/AAAAAAAA+H8AAAAAAAD4fwAAAAAAAPh/AAAAAAAA+H8AAAAAAAD4fw==\",\"dtype\":\"float64\",\"order\":\"little\",\"shape\":[20]},\"Error RMSE MLR+Genetic\":{\"__ndarray__\":\"AIfERuLdBEAA7o//uHPwPwAQsxGOSQtAAMYYSqif9D8AWguspmL9PwCc7hRb1wRAAO4bm83E8z8AQKR5VTsRQEBuYKPOsCBAgHB5Y9kMGkAAAAAAAAD4fwAAAAAAAPh/AAAAAAAA+H8AAAAAAAD4fwAAAAAAAPh/AAAAAAAA+H8AAAAAAAD4fwAAAAAAAPh/AAAAAAAA+H8AAAAAAAD4fw==\",\"dtype\":\"float64\",\"order\":\"little\",\"shape\":[20]},\"MLR With Genetic\":{\"__ndarray__\":\"h8RG4t1sikD3x3/cOWCKQBCzEY5JW4pAYwwl1E9KikCtBVZTsUaKQJzuFFvXPIpA943NZuIxikCAtwxViS2KQEd+csU8TYpA4fLGshmMikDh8sayGYyKQPExPcBpm4pAOTpVvMGpikDTroCGFa6KQGnZHXE/t4pAJdz98zW/ikD20kJi8MWKQGGgBzukzYpAQ2P6ufjUikA61079NdyKQA==\",\"dtype\":\"float64\",\"order\":\"little\",\"shape\":[20]},\"MLR Without Genetic\":{\"__ndarray__\":\"+G5xUBRqikC7HgUTImCKQGvg6BVDXIpAUmozB3BIikBndG6WHEeKQJvDXaTmPIpA3tbHvXgwikCnzGbDAS6KQLyy6dHnT4pAdOKD/FuNikB04oP8W42KQOg/ZtfylYpAklVcccihikCjGz7NTqaKQF7lZVK6rIpAOEL9p36zikA/Bn04c7mKQDLhxfuwv4pAOVFU1PjFikDhYl/XK8yKQA==\",\"dtype\":\"float64\",\"order\":\"little\",\"shape\":[20]},\"Y_test\":{\"__ndarray__\":\"AAAAAABYikAAAAAAAFiKQAAAAAAAQIpAAAAAAABAikAAAAAAADiKQAAAAAAAKIpAAAAAAAAoikAAAAAAAFCKQAAAAAAAkIpAAAAAAABYikAAAAAAAAD4fwAAAAAAAPh/AAAAAAAA+H8AAAAAAAD4fwAAAAAAAPh/AAAAAAAA+H8AAAAAAAD4fwAAAAAAAPh/AAAAAAAA+H8AAAAAAAD4fw==\",\"dtype\":\"float64\",\"order\":\"little\",\"shape\":[20]},\"date\":[\"2021-07-22\",\"2021-07-23\",\"2021-07-24\",\"2021-07-25\",\"2021-07-26\",\"2021-07-27\",\"2021-07-28\",\"2021-07-29\",\"2021-07-30\",\"2021-07-31\",\"2021-08-01\",\"2021-08-02\",\"2021-08-03\",\"2021-08-04\",\"2021-08-05\",\"2021-08-06\",\"2021-08-07\",\"2021-08-08\",\"2021-08-09\",\"2021-08-10\"],\"index\":{\"__ndarray__\":\"AACAMLisd0IAAECWCq13QgAAAPxcrXdCAADAYa+td0IAAIDHAa53QgAAQC1UrndCAAAAk6aud0IAAMD4+K53QgAAgF5Lr3dCAABAxJ2vd0IAAAAq8K93QgAAwI9CsHdCAACA9ZSwd0IAAEBb57B3QgAAAME5sXdCAADAJoyxd0IAAICM3rF3QgAAQPIwsndCAAAAWIOyd0IAAMC91bJ3Qg==\",\"dtype\":\"float64\",\"order\":\"little\",\"shape\":[20]}},\"selected\":{\"id\":\"1515\"},\"selection_policy\":{\"id\":\"1516\"}},\"id\":\"1411\",\"type\":\"ColumnDataSource\"},{\"attributes\":{},\"id\":\"1523\",\"type\":\"Selection\"},{\"attributes\":{\"formatter\":{\"id\":\"1495\"},\"major_label_orientation\":\"vertical\",\"major_label_policy\":{\"id\":\"1494\"},\"ticker\":{\"id\":\"1379\"}},\"id\":\"1378\",\"type\":\"CategoricalAxis\"},{\"attributes\":{},\"id\":\"1524\",\"type\":\"UnionRenderers\"},{\"attributes\":{},\"id\":\"1382\",\"type\":\"BasicTicker\"},{\"attributes\":{\"line_color\":\"#1f77b4\",\"line_width\":1.5,\"x\":{\"field\":\"date\"},\"y\":{\"field\":\"Y_test\"}},\"id\":\"1329\",\"type\":\"Line\"},{\"attributes\":{},\"id\":\"1379\",\"type\":\"CategoricalTicker\"},{\"attributes\":{\"source\":{\"id\":\"1405\"}},\"id\":\"1410\",\"type\":\"CDSView\"},{\"attributes\":{},\"id\":\"1525\",\"type\":\"Selection\"},{\"attributes\":{\"axis\":{\"id\":\"1378\"},\"ticker\":null},\"id\":\"1380\",\"type\":\"Grid\"},{\"attributes\":{},\"id\":\"1485\",\"type\":\"AllLabels\"},{\"attributes\":{},\"id\":\"1526\",\"type\":\"UnionRenderers\"},{\"attributes\":{\"items\":[{\"id\":\"1448\"},{\"id\":\"1449\"},{\"id\":\"1450\"},{\"id\":\"1451\"}],\"location\":\"left\"},\"id\":\"1447\",\"type\":\"Legend\"},{\"attributes\":{},\"id\":\"1498\",\"type\":\"Selection\"},{\"attributes\":{\"axis\":{\"id\":\"1381\"},\"dimension\":1,\"ticker\":null},\"id\":\"1384\",\"type\":\"Grid\"},{\"attributes\":{\"fill_color\":{\"value\":\"#1f77b4\"},\"line_color\":{\"value\":\"#1f77b4\"},\"size\":{\"value\":3},\"x\":{\"field\":\"date\"},\"y\":{\"field\":\"Error MSE MLR\"}},\"id\":\"1407\",\"type\":\"Scatter\"},{\"attributes\":{\"formatter\":{\"id\":\"1492\"},\"major_label_policy\":{\"id\":\"1491\"},\"ticker\":{\"id\":\"1382\"}},\"id\":\"1381\",\"type\":\"LinearAxis\"},{\"attributes\":{},\"id\":\"1489\",\"type\":\"CategoricalTickFormatter\"},{\"attributes\":{\"line_color\":\"#ff7f0e\",\"line_width\":1.5,\"x\":{\"field\":\"date\"},\"y\":{\"field\":\"Error MSE MLR+Genetic\"}},\"id\":\"1413\",\"type\":\"Line\"},{\"attributes\":{\"fill_color\":{\"value\":\"#ff7f0e\"},\"line_color\":{\"value\":\"#ff7f0e\"},\"size\":{\"value\":3},\"x\":{\"field\":\"date\"},\"y\":{\"field\":\"Error MSE MLR+Genetic\"}},\"id\":\"1419\",\"type\":\"Scatter\"},{\"attributes\":{},\"id\":\"1491\",\"type\":\"AllLabels\"},{\"attributes\":{\"data\":{\"Error MSE MLR\":{\"__ndarray__\":\"5rTpyc5tFEAVZyxYbonwP0XnVvvy9ShAeYD1YF7M8T8TZUZGmosMQHg/iaaXTRtA2f9dvTPx8T8JXDZvIA4yQIIc01MZDFBA4DU1OG8+RkAAAAAAAAD4fwAAAAAAAPh/AAAAAAAA+H8AAAAAAAD4fwAAAAAAAPh/AAAAAAAA+H8AAAAAAAD4fwAAAAAAAPh/AAAAAAAA+H8AAAAAAAD4fw==\",\"dtype\":\"float64\",\"order\":\"little\",\"shape\":[20]},\"Error MSE MLR+Genetic\":{\"__ndarray__\":\"+lZOuLo2G0DeltT6turwPxiphdDIRCdAv7Do4F2V+j86dRY4/vsKQNaQLVa2JRtAEp4MCN1s+D9mw6aq8Y4yQHHbNxM/aVFAOcB0auY0RUAAAAAAAAD4fwAAAAAAAPh/AAAAAAAA+H8AAAAAAAD4fwAAAAAAAPh/AAAAAAAA+H8AAAAAAAD4fwAAAAAAAPh/AAAAAAAA+H8AAAAAAAD4fw==\",\"dtype\":\"float64\",\"order\":\"little\",\"shape\":[20]},\"Error RMSE MLR\":{\"__ndarray__\":\"APhucVAUAkAAdj0KJkTwPwBr4OgVQwxAAKTUZg7g8D8AzujcLDn+PwCbw12k5gRAALytj3vx8D+ArJlMHv8QQABRk4ULBiBAADrxQf6tGkAAAAAAAAD4fwAAAAAAAPh/AAAAAAAA+H8AAAAAAAD4fwAAAAAAAPh/AAAAAAAA+H8AAAAAAAD4fwAAAAAAAPh/AAAAAAAA+H8AAAAAAAD4fw==\",\"dtype\":\"float64\",\"order\":\"little\",\"shape\":[20]},\"Error RMSE MLR+Genetic\":{\"__ndarray__\":\"AIfERuLdBEAA7o//uHPwPwAQsxGOSQtAAMYYSqif9D8AWguspmL9PwCc7hRb1wRAAO4bm83E8z8AQKR5VTsRQEBuYKPOsCBAgHB5Y9kMGkAAAAAAAAD4fwAAAAAAAPh/AAAAAAAA+H8AAAAAAAD4fwAAAAAAAPh/AAAAAAAA+H8AAAAAAAD4fwAAAAAAAPh/AAAAAAAA+H8AAAAAAAD4fw==\",\"dtype\":\"float64\",\"order\":\"little\",\"shape\":[20]},\"MLR With Genetic\":{\"__ndarray__\":\"h8RG4t1sikD3x3/cOWCKQBCzEY5JW4pAYwwl1E9KikCtBVZTsUaKQJzuFFvXPIpA943NZuIxikCAtwxViS2KQEd+csU8TYpA4fLGshmMikDh8sayGYyKQPExPcBpm4pAOTpVvMGpikDTroCGFa6KQGnZHXE/t4pAJdz98zW/ikD20kJi8MWKQGGgBzukzYpAQ2P6ufjUikA61079NdyKQA==\",\"dtype\":\"float64\",\"order\":\"little\",\"shape\":[20]},\"MLR Without Genetic\":{\"__ndarray__\":\"+G5xUBRqikC7HgUTImCKQGvg6BVDXIpAUmozB3BIikBndG6WHEeKQJvDXaTmPIpA3tbHvXgwikCnzGbDAS6KQLyy6dHnT4pAdOKD/FuNikB04oP8W42KQOg/ZtfylYpAklVcccihikCjGz7NTqaKQF7lZVK6rIpAOEL9p36zikA/Bn04c7mKQDLhxfuwv4pAOVFU1PjFikDhYl/XK8yKQA==\",\"dtype\":\"float64\",\"order\":\"little\",\"shape\":[20]},\"Y_test\":{\"__ndarray__\":\"AAAAAABYikAAAAAAAFiKQAAAAAAAQIpAAAAAAABAikAAAAAAADiKQAAAAAAAKIpAAAAAAAAoikAAAAAAAFCKQAAAAAAAkIpAAAAAAABYikAAAAAAAAD4fwAAAAAAAPh/AAAAAAAA+H8AAAAAAAD4fwAAAAAAAPh/AAAAAAAA+H8AAAAAAAD4fwAAAAAAAPh/AAAAAAAA+H8AAAAAAAD4fw==\",\"dtype\":\"float64\",\"order\":\"little\",\"shape\":[20]},\"date\":[\"2021-07-22\",\"2021-07-23\",\"2021-07-24\",\"2021-07-25\",\"2021-07-26\",\"2021-07-27\",\"2021-07-28\",\"2021-07-29\",\"2021-07-30\",\"2021-07-31\",\"2021-08-01\",\"2021-08-02\",\"2021-08-03\",\"2021-08-04\",\"2021-08-05\",\"2021-08-06\",\"2021-08-07\",\"2021-08-08\",\"2021-08-09\",\"2021-08-10\"],\"index\":{\"__ndarray__\":\"AACAMLisd0IAAECWCq13QgAAAPxcrXdCAADAYa+td0IAAIDHAa53QgAAQC1UrndCAAAAk6aud0IAAMD4+K53QgAAgF5Lr3dCAABAxJ2vd0IAAAAq8K93QgAAwI9CsHdCAACA9ZSwd0IAAEBb57B3QgAAAME5sXdCAADAJoyxd0IAAICM3rF3QgAAQPIwsndCAAAAWIOyd0IAAMC91bJ3Qg==\",\"dtype\":\"float64\",\"order\":\"little\",\"shape\":[20]}},\"selected\":{\"id\":\"1511\"},\"selection_policy\":{\"id\":\"1512\"}},\"id\":\"1399\",\"type\":\"ColumnDataSource\"},{\"attributes\":{\"line_alpha\":0.1,\"line_color\":\"#ff7f0e\",\"line_width\":1.5,\"x\":{\"field\":\"date\"},\"y\":{\"field\":\"Error MSE MLR+Genetic\"}},\"id\":\"1414\",\"type\":\"Line\"}],\"root_ids\":[\"1453\"]},\"title\":\"Bokeh Application\",\"version\":\"2.3.3\"}};\n  var render_items = [{\"docid\":\"2c77bff0-4697-4847-a87c-92500acca782\",\"root_ids\":[\"1453\"],\"roots\":{\"1453\":\"c7ecf1fd-9e56-425c-8f9c-50aa0ed051ed\"}}];\n  root.Bokeh.embed.embed_items_notebook(docs_json, render_items);\n\n  }\n  if (root.Bokeh !== undefined) {\n    embed_document(root);\n  } else {\n    var attempts = 0;\n    var timer = setInterval(function(root) {\n      if (root.Bokeh !== undefined) {\n        clearInterval(timer);\n        embed_document(root);\n      } else {\n        attempts++;\n        if (attempts > 100) {\n          clearInterval(timer);\n          console.log(\"Bokeh: ERROR: Unable to run BokehJS code because BokehJS library is missing\");\n        }\n      }\n    }, 10, root)\n  }\n})(window);",
            "application/vnd.bokehjs_exec.v0+json": ""
          },
          "metadata": {
            "application/vnd.bokehjs_exec.v0+json": {
              "id": "1453"
            }
          },
          "output_type": "display_data"
        }
      ],
      "source": [
        "jangka_waktu = int(input(\"Masukkan Jangka Waktu Prediksi (hari)\".ljust(70)))\n",
        "prediction_columns = [\"Y_test\", \"MLR Without Genetic\", \"MLR With Genetic\"]\n",
        "error_columns = [\"Error MSE MLR\", \"Error MSE MLR+Genetic\", \"Error RMSE MLR\", \"Error RMSE MLR+Genetic\"]\n",
        "prediksi_df = rekap[prediction_columns + error_columns]\n",
        "\n",
        "# Dapatkan hasil prediksi pada masa depan\n",
        "prediksi_lanjut = predict_future(steps=jangka_waktu, \n",
        "                                 X=X_test_used, \n",
        "                                 model=linreg_used,\n",
        "                                 colname=\"MLR Without Genetic\")\n",
        "\n",
        "prediksi_lanjut_ga = predict_future(steps=jangka_waktu, \n",
        "                                    X=X_test_used, \n",
        "                                    model=linreg_ga_used,\n",
        "                                    colname=\"MLR With Genetic\")\n",
        "\n",
        "# Gabungkan hasil prediksi\n",
        "prediksi_lanjut_gabungan = pd.concat([prediksi_lanjut, prediksi_lanjut_ga], axis=1)\n",
        "prediksi_df = prediksi_df.append(prediksi_lanjut_gabungan)\n",
        "\n",
        "# DataFrame pada waktu tertentu\n",
        "prediksi_tertentu_df = prediksi_df.iloc[-jangka_waktu * 2:]\n",
        "\n",
        "# Buat kolom tanggal\n",
        "dates_str = [date.strftime(\"%Y-%m-%d\") for date in prediksi_tertentu_df.index]\n",
        "prediksi_tertentu_df[\"date\"] = dates_str\n",
        "print()\n",
        "\n",
        "# Tampilkan diagram garis prediksi\n",
        "items1 = []\n",
        "p1 = figure(width=900, height=600, x_range=dates_str, \n",
        "           title=f\"Prediksi Harga {mode.title()} pada Jangka Waktu {jangka_waktu} Hari\")\n",
        "\n",
        "for name, color in zip(prediction_columns, Category10_3):\n",
        "    line = p1.line(x=\"date\", y=name, line_width=1.5, color=color, source=prediksi_tertentu_df)\n",
        "    scatter = p1.scatter(x=\"date\", y=name, size=3, color=color, source=prediksi_tertentu_df)\n",
        "    p1.xaxis.major_label_orientation = \"vertical\"\n",
        "    p1.legend.location = \"top_left\"\n",
        "    items1.append((name, [line, scatter]))\n",
        "\n",
        "# Tempelkan legenda\n",
        "p1.add_layout(Legend(items=items1, location=\"left\"), \"above\")\n",
        "\n",
        "\n",
        "# Tampilkan diagram garis error\n",
        "items2 = []\n",
        "p2 = figure(width=900, height=600, x_range=dates_str, \n",
        "           title=f\"Prediksi Harga {mode.title()} pada Jangka Waktu {jangka_waktu} Hari\")\n",
        "\n",
        "for name, color in zip(error_columns, Category10_4):\n",
        "    line = p2.line(x=\"date\", y=name, line_width=1.5, color=color, source=prediksi_tertentu_df)\n",
        "    scatter = p2.scatter(x=\"date\", y=name, size=3, color=color, source=prediksi_tertentu_df)\n",
        "    p2.xaxis.major_label_orientation = \"vertical\"\n",
        "    p2.legend.location = \"top_left\"\n",
        "    items2.append((name, [line, scatter]))\n",
        "\n",
        "# Tempelkan legenda\n",
        "p2.add_layout(Legend(items=items2, location=\"left\"), \"above\")\n",
        "\n",
        "\n",
        "layout = column(p1, Div(), p2)\n",
        "show(layout)"
      ]
    },
    {
      "cell_type": "markdown",
      "metadata": {
        "id": "S7VtiW409XXc"
      },
      "source": [
        "## Tabel Prediksi"
      ]
    },
    {
      "cell_type": "code",
      "execution_count": null,
      "metadata": {
        "colab": {
          "base_uri": "https://localhost:8080/",
          "height": 1000
        },
        "id": "2Z0q7H8D7B_9",
        "outputId": "33ff7f1f-20c0-4a77-bd8d-948a24cd0c2a"
      },
      "outputs": [
        {
          "data": {
            "text/html": [
              "\n",
              "  <div id=\"df-142fce79-ea3a-46df-bfc1-8b4009559c0f\">\n",
              "    <div class=\"colab-df-container\">\n",
              "      <div>\n",
              "<style scoped>\n",
              "    .dataframe tbody tr th:only-of-type {\n",
              "        vertical-align: middle;\n",
              "    }\n",
              "\n",
              "    .dataframe tbody tr th {\n",
              "        vertical-align: top;\n",
              "    }\n",
              "\n",
              "    .dataframe thead th {\n",
              "        text-align: right;\n",
              "    }\n",
              "</style>\n",
              "<table border=\"1\" class=\"dataframe\">\n",
              "  <thead>\n",
              "    <tr style=\"text-align: right;\">\n",
              "      <th></th>\n",
              "      <th>Y_test</th>\n",
              "      <th>MLR Without Genetic</th>\n",
              "      <th>MLR With Genetic</th>\n",
              "      <th>Error MSE MLR</th>\n",
              "      <th>Error MSE MLR+Genetic</th>\n",
              "      <th>Error RMSE MLR</th>\n",
              "      <th>Error RMSE MLR+Genetic</th>\n",
              "    </tr>\n",
              "  </thead>\n",
              "  <tbody>\n",
              "    <tr>\n",
              "      <th>2021-07-22</th>\n",
              "      <td>843.0</td>\n",
              "      <td>845.259919</td>\n",
              "      <td>845.608342</td>\n",
              "      <td>5.107234</td>\n",
              "      <td>6.803447</td>\n",
              "      <td>2.259919</td>\n",
              "      <td>2.608342</td>\n",
              "    </tr>\n",
              "    <tr>\n",
              "      <th>2021-07-23</th>\n",
              "      <td>843.0</td>\n",
              "      <td>844.016638</td>\n",
              "      <td>844.028253</td>\n",
              "      <td>1.033552</td>\n",
              "      <td>1.057303</td>\n",
              "      <td>1.016638</td>\n",
              "      <td>1.028253</td>\n",
              "    </tr>\n",
              "    <tr>\n",
              "      <th>2021-07-24</th>\n",
              "      <td>840.0</td>\n",
              "      <td>843.532757</td>\n",
              "      <td>843.410916</td>\n",
              "      <td>12.480369</td>\n",
              "      <td>11.634345</td>\n",
              "      <td>3.532757</td>\n",
              "      <td>3.410916</td>\n",
              "    </tr>\n",
              "    <tr>\n",
              "      <th>2021-07-25</th>\n",
              "      <td>840.0</td>\n",
              "      <td>841.054701</td>\n",
              "      <td>841.288979</td>\n",
              "      <td>1.112395</td>\n",
              "      <td>1.661466</td>\n",
              "      <td>1.054701</td>\n",
              "      <td>1.288979</td>\n",
              "    </tr>\n",
              "    <tr>\n",
              "      <th>2021-07-26</th>\n",
              "      <td>839.0</td>\n",
              "      <td>840.888959</td>\n",
              "      <td>840.836585</td>\n",
              "      <td>3.568165</td>\n",
              "      <td>3.373043</td>\n",
              "      <td>1.888959</td>\n",
              "      <td>1.836585</td>\n",
              "    </tr>\n",
              "    <tr>\n",
              "      <th>2021-07-27</th>\n",
              "      <td>837.0</td>\n",
              "      <td>839.612618</td>\n",
              "      <td>839.605154</td>\n",
              "      <td>6.825774</td>\n",
              "      <td>6.786828</td>\n",
              "      <td>2.612618</td>\n",
              "      <td>2.605154</td>\n",
              "    </tr>\n",
              "    <tr>\n",
              "      <th>2021-07-28</th>\n",
              "      <td>837.0</td>\n",
              "      <td>838.058956</td>\n",
              "      <td>838.235548</td>\n",
              "      <td>1.121387</td>\n",
              "      <td>1.526578</td>\n",
              "      <td>1.058956</td>\n",
              "      <td>1.235548</td>\n",
              "    </tr>\n",
              "    <tr>\n",
              "      <th>2021-07-29</th>\n",
              "      <td>842.0</td>\n",
              "      <td>837.750861</td>\n",
              "      <td>837.692057</td>\n",
              "      <td>18.055182</td>\n",
              "      <td>18.558375</td>\n",
              "      <td>4.249139</td>\n",
              "      <td>4.307943</td>\n",
              "    </tr>\n",
              "    <tr>\n",
              "      <th>2021-07-30</th>\n",
              "      <td>850.0</td>\n",
              "      <td>841.988193</td>\n",
              "      <td>841.654673</td>\n",
              "      <td>64.189046</td>\n",
              "      <td>69.644475</td>\n",
              "      <td>8.011807</td>\n",
              "      <td>8.345327</td>\n",
              "    </tr>\n",
              "    <tr>\n",
              "      <th>2021-07-31</th>\n",
              "      <td>843.0</td>\n",
              "      <td>849.669915</td>\n",
              "      <td>849.512548</td>\n",
              "      <td>44.487769</td>\n",
              "      <td>42.413282</td>\n",
              "      <td>6.669915</td>\n",
              "      <td>6.512548</td>\n",
              "    </tr>\n",
              "    <tr>\n",
              "      <th>2021-08-01</th>\n",
              "      <td>NaN</td>\n",
              "      <td>849.669915</td>\n",
              "      <td>849.512548</td>\n",
              "      <td>NaN</td>\n",
              "      <td>NaN</td>\n",
              "      <td>NaN</td>\n",
              "      <td>NaN</td>\n",
              "    </tr>\n",
              "    <tr>\n",
              "      <th>2021-08-02</th>\n",
              "      <td>NaN</td>\n",
              "      <td>850.743575</td>\n",
              "      <td>851.426636</td>\n",
              "      <td>NaN</td>\n",
              "      <td>NaN</td>\n",
              "      <td>NaN</td>\n",
              "      <td>NaN</td>\n",
              "    </tr>\n",
              "    <tr>\n",
              "      <th>2021-08-03</th>\n",
              "      <td>NaN</td>\n",
              "      <td>852.222872</td>\n",
              "      <td>853.219597</td>\n",
              "      <td>NaN</td>\n",
              "      <td>NaN</td>\n",
              "      <td>NaN</td>\n",
              "      <td>NaN</td>\n",
              "    </tr>\n",
              "    <tr>\n",
              "      <th>2021-08-04</th>\n",
              "      <td>NaN</td>\n",
              "      <td>852.788477</td>\n",
              "      <td>853.760510</td>\n",
              "      <td>NaN</td>\n",
              "      <td>NaN</td>\n",
              "      <td>NaN</td>\n",
              "      <td>NaN</td>\n",
              "    </tr>\n",
              "    <tr>\n",
              "      <th>2021-08-05</th>\n",
              "      <td>NaN</td>\n",
              "      <td>853.590977</td>\n",
              "      <td>854.905977</td>\n",
              "      <td>NaN</td>\n",
              "      <td>NaN</td>\n",
              "      <td>NaN</td>\n",
              "      <td>NaN</td>\n",
              "    </tr>\n",
              "    <tr>\n",
              "      <th>2021-08-06</th>\n",
              "      <td>NaN</td>\n",
              "      <td>854.436844</td>\n",
              "      <td>855.901344</td>\n",
              "      <td>NaN</td>\n",
              "      <td>NaN</td>\n",
              "      <td>NaN</td>\n",
              "      <td>NaN</td>\n",
              "    </tr>\n",
              "    <tr>\n",
              "      <th>2021-08-07</th>\n",
              "      <td>NaN</td>\n",
              "      <td>855.181260</td>\n",
              "      <td>856.742375</td>\n",
              "      <td>NaN</td>\n",
              "      <td>NaN</td>\n",
              "      <td>NaN</td>\n",
              "      <td>NaN</td>\n",
              "    </tr>\n",
              "    <tr>\n",
              "      <th>2021-08-08</th>\n",
              "      <td>NaN</td>\n",
              "      <td>855.961418</td>\n",
              "      <td>857.705191</td>\n",
              "      <td>NaN</td>\n",
              "      <td>NaN</td>\n",
              "      <td>NaN</td>\n",
              "      <td>NaN</td>\n",
              "    </tr>\n",
              "    <tr>\n",
              "      <th>2021-08-09</th>\n",
              "      <td>NaN</td>\n",
              "      <td>856.746499</td>\n",
              "      <td>858.621448</td>\n",
              "      <td>NaN</td>\n",
              "      <td>NaN</td>\n",
              "      <td>NaN</td>\n",
              "      <td>NaN</td>\n",
              "    </tr>\n",
              "    <tr>\n",
              "      <th>2021-08-10</th>\n",
              "      <td>NaN</td>\n",
              "      <td>857.521407</td>\n",
              "      <td>859.526362</td>\n",
              "      <td>NaN</td>\n",
              "      <td>NaN</td>\n",
              "      <td>NaN</td>\n",
              "      <td>NaN</td>\n",
              "    </tr>\n",
              "  </tbody>\n",
              "</table>\n",
              "</div>\n",
              "      <button class=\"colab-df-convert\" onclick=\"convertToInteractive('df-142fce79-ea3a-46df-bfc1-8b4009559c0f')\"\n",
              "              title=\"Convert this dataframe to an interactive table.\"\n",
              "              style=\"display:none;\">\n",
              "        \n",
              "  <svg xmlns=\"http://www.w3.org/2000/svg\" height=\"24px\"viewBox=\"0 0 24 24\"\n",
              "       width=\"24px\">\n",
              "    <path d=\"M0 0h24v24H0V0z\" fill=\"none\"/>\n",
              "    <path d=\"M18.56 5.44l.94 2.06.94-2.06 2.06-.94-2.06-.94-.94-2.06-.94 2.06-2.06.94zm-11 1L8.5 8.5l.94-2.06 2.06-.94-2.06-.94L8.5 2.5l-.94 2.06-2.06.94zm10 10l.94 2.06.94-2.06 2.06-.94-2.06-.94-.94-2.06-.94 2.06-2.06.94z\"/><path d=\"M17.41 7.96l-1.37-1.37c-.4-.4-.92-.59-1.43-.59-.52 0-1.04.2-1.43.59L10.3 9.45l-7.72 7.72c-.78.78-.78 2.05 0 2.83L4 21.41c.39.39.9.59 1.41.59.51 0 1.02-.2 1.41-.59l7.78-7.78 2.81-2.81c.8-.78.8-2.07 0-2.86zM5.41 20L4 18.59l7.72-7.72 1.47 1.35L5.41 20z\"/>\n",
              "  </svg>\n",
              "      </button>\n",
              "      \n",
              "  <style>\n",
              "    .colab-df-container {\n",
              "      display:flex;\n",
              "      flex-wrap:wrap;\n",
              "      gap: 12px;\n",
              "    }\n",
              "\n",
              "    .colab-df-convert {\n",
              "      background-color: #E8F0FE;\n",
              "      border: none;\n",
              "      border-radius: 50%;\n",
              "      cursor: pointer;\n",
              "      display: none;\n",
              "      fill: #1967D2;\n",
              "      height: 32px;\n",
              "      padding: 0 0 0 0;\n",
              "      width: 32px;\n",
              "    }\n",
              "\n",
              "    .colab-df-convert:hover {\n",
              "      background-color: #E2EBFA;\n",
              "      box-shadow: 0px 1px 2px rgba(60, 64, 67, 0.3), 0px 1px 3px 1px rgba(60, 64, 67, 0.15);\n",
              "      fill: #174EA6;\n",
              "    }\n",
              "\n",
              "    [theme=dark] .colab-df-convert {\n",
              "      background-color: #3B4455;\n",
              "      fill: #D2E3FC;\n",
              "    }\n",
              "\n",
              "    [theme=dark] .colab-df-convert:hover {\n",
              "      background-color: #434B5C;\n",
              "      box-shadow: 0px 1px 3px 1px rgba(0, 0, 0, 0.15);\n",
              "      filter: drop-shadow(0px 1px 2px rgba(0, 0, 0, 0.3));\n",
              "      fill: #FFFFFF;\n",
              "    }\n",
              "  </style>\n",
              "\n",
              "      <script>\n",
              "        const buttonEl =\n",
              "          document.querySelector('#df-142fce79-ea3a-46df-bfc1-8b4009559c0f button.colab-df-convert');\n",
              "        buttonEl.style.display =\n",
              "          google.colab.kernel.accessAllowed ? 'block' : 'none';\n",
              "\n",
              "        async function convertToInteractive(key) {\n",
              "          const element = document.querySelector('#df-142fce79-ea3a-46df-bfc1-8b4009559c0f');\n",
              "          const dataTable =\n",
              "            await google.colab.kernel.invokeFunction('convertToInteractive',\n",
              "                                                     [key], {});\n",
              "          if (!dataTable) return;\n",
              "\n",
              "          const docLinkHtml = 'Like what you see? Visit the ' +\n",
              "            '<a target=\"_blank\" href=https://colab.research.google.com/notebooks/data_table.ipynb>data table notebook</a>'\n",
              "            + ' to learn more about interactive tables.';\n",
              "          element.innerHTML = '';\n",
              "          dataTable['output_type'] = 'display_data';\n",
              "          await google.colab.output.renderOutput(dataTable, element);\n",
              "          const docLink = document.createElement('div');\n",
              "          docLink.innerHTML = docLinkHtml;\n",
              "          element.appendChild(docLink);\n",
              "        }\n",
              "      </script>\n",
              "    </div>\n",
              "  </div>\n",
              "  "
            ],
            "text/plain": [
              "            Y_test  MLR Without Genetic  ...  Error RMSE MLR  Error RMSE MLR+Genetic\n",
              "2021-07-22   843.0           845.259919  ...        2.259919                2.608342\n",
              "2021-07-23   843.0           844.016638  ...        1.016638                1.028253\n",
              "2021-07-24   840.0           843.532757  ...        3.532757                3.410916\n",
              "2021-07-25   840.0           841.054701  ...        1.054701                1.288979\n",
              "2021-07-26   839.0           840.888959  ...        1.888959                1.836585\n",
              "2021-07-27   837.0           839.612618  ...        2.612618                2.605154\n",
              "2021-07-28   837.0           838.058956  ...        1.058956                1.235548\n",
              "2021-07-29   842.0           837.750861  ...        4.249139                4.307943\n",
              "2021-07-30   850.0           841.988193  ...        8.011807                8.345327\n",
              "2021-07-31   843.0           849.669915  ...        6.669915                6.512548\n",
              "2021-08-01     NaN           849.669915  ...             NaN                     NaN\n",
              "2021-08-02     NaN           850.743575  ...             NaN                     NaN\n",
              "2021-08-03     NaN           852.222872  ...             NaN                     NaN\n",
              "2021-08-04     NaN           852.788477  ...             NaN                     NaN\n",
              "2021-08-05     NaN           853.590977  ...             NaN                     NaN\n",
              "2021-08-06     NaN           854.436844  ...             NaN                     NaN\n",
              "2021-08-07     NaN           855.181260  ...             NaN                     NaN\n",
              "2021-08-08     NaN           855.961418  ...             NaN                     NaN\n",
              "2021-08-09     NaN           856.746499  ...             NaN                     NaN\n",
              "2021-08-10     NaN           857.521407  ...             NaN                     NaN\n",
              "\n",
              "[20 rows x 7 columns]"
            ]
          },
          "execution_count": 41,
          "metadata": {},
          "output_type": "execute_result"
        }
      ],
      "source": [
        "prediksi_df.iloc[-jangka_waktu * 2:]"
      ]
    },
    {
      "cell_type": "markdown",
      "metadata": {
        "id": "mqaabOa0-SWx"
      },
      "source": [
        "# Prediksi pada Tanggal Tertentu"
      ]
    },
    {
      "cell_type": "code",
      "execution_count": null,
      "metadata": {
        "id": "PBkoZBX4-g_W"
      },
      "outputs": [],
      "source": [
        "awal = X_used.index[0].strftime(\"%d/%m/%Y\")\n",
        "akhir = X_used.index[-1].strftime(\"%d/%m/%Y\")\n",
        "\n",
        "def prediction_date_based(date, X, y, model_regular, model_ga):\n",
        "    # Validasi tanggal\n",
        "    pd_date = pd.to_datetime(date, format=\"%d/%m/%Y\")\n",
        "    assert pd_date >= X.index[0], f\"Date must be more than {awal}\"\n",
        "\n",
        "    # Jika dalam jangkauan data\n",
        "    if pd_date <= X.index[-1]:\n",
        "        # Fitur data\n",
        "        feature = X.loc[pd_date: pd_date + pd.Timedelta(days=1)]\n",
        "\n",
        "        # Prediksi\n",
        "        predictions = y.copy().loc[pd_date]\n",
        "        predictions.columns = [\"Y_actual\"]\n",
        "        predictions[\"MLR Without GA\"] = model_regular.predict(feature)[0][0]\n",
        "        predictions[\"MLR With Genetic\"] = model_ga.predict(feature)[0][0]\n",
        "\n",
        "    # Jika pada masa depan\n",
        "    else:\n",
        "        steps = pd_date - X.index[-1]\n",
        "        steps = steps.days\n",
        "        predictions = predict_future(steps, X, linreg_used, \"MLR Without GA\")\n",
        "        predictions_ga = predict_future(steps, X, linreg_ga_used, \"MLR With Genetic\")\n",
        "        predictions = pd.concat([predictions, predictions_ga], axis=1).iloc[-1:]\n",
        "\n",
        "    return predictions"
      ]
    },
    {
      "cell_type": "code",
      "execution_count": null,
      "metadata": {
        "colab": {
          "base_uri": "https://localhost:8080/",
          "height": 202
        },
        "id": "TeXKyC0G-WaA",
        "outputId": "68056b71-7492-412a-da85-70b918d6b0e8"
      },
      "outputs": [
        {
          "name": "stdout",
          "output_type": "stream",
          "text": [
            "Tanggal prediksi mulai dari 05/01/2017\n",
            "==================================================\n",
            "Masukkan harga emas apa yang ingin diprediksi (beli / jual)           jual\n",
            "Masukkan tahun                                                        2021\n",
            "Masukkan bulan:                                                       12\n",
            "Masukkan hari:                                                        7\n",
            "--------------------\n"
          ]
        },
        {
          "data": {
            "text/html": [
              "\n",
              "  <div id=\"df-4c2ded1e-f10e-44d6-a65c-33d7825ae61a\">\n",
              "    <div class=\"colab-df-container\">\n",
              "      <div>\n",
              "<style scoped>\n",
              "    .dataframe tbody tr th:only-of-type {\n",
              "        vertical-align: middle;\n",
              "    }\n",
              "\n",
              "    .dataframe tbody tr th {\n",
              "        vertical-align: top;\n",
              "    }\n",
              "\n",
              "    .dataframe thead th {\n",
              "        text-align: right;\n",
              "    }\n",
              "</style>\n",
              "<table border=\"1\" class=\"dataframe\">\n",
              "  <thead>\n",
              "    <tr style=\"text-align: right;\">\n",
              "      <th></th>\n",
              "      <th>MLR Without GA</th>\n",
              "      <th>MLR With Genetic</th>\n",
              "    </tr>\n",
              "  </thead>\n",
              "  <tbody>\n",
              "    <tr>\n",
              "      <th>2021-12-07</th>\n",
              "      <td>961.90644</td>\n",
              "      <td>983.1414</td>\n",
              "    </tr>\n",
              "  </tbody>\n",
              "</table>\n",
              "</div>\n",
              "      <button class=\"colab-df-convert\" onclick=\"convertToInteractive('df-4c2ded1e-f10e-44d6-a65c-33d7825ae61a')\"\n",
              "              title=\"Convert this dataframe to an interactive table.\"\n",
              "              style=\"display:none;\">\n",
              "        \n",
              "  <svg xmlns=\"http://www.w3.org/2000/svg\" height=\"24px\"viewBox=\"0 0 24 24\"\n",
              "       width=\"24px\">\n",
              "    <path d=\"M0 0h24v24H0V0z\" fill=\"none\"/>\n",
              "    <path d=\"M18.56 5.44l.94 2.06.94-2.06 2.06-.94-2.06-.94-.94-2.06-.94 2.06-2.06.94zm-11 1L8.5 8.5l.94-2.06 2.06-.94-2.06-.94L8.5 2.5l-.94 2.06-2.06.94zm10 10l.94 2.06.94-2.06 2.06-.94-2.06-.94-.94-2.06-.94 2.06-2.06.94z\"/><path d=\"M17.41 7.96l-1.37-1.37c-.4-.4-.92-.59-1.43-.59-.52 0-1.04.2-1.43.59L10.3 9.45l-7.72 7.72c-.78.78-.78 2.05 0 2.83L4 21.41c.39.39.9.59 1.41.59.51 0 1.02-.2 1.41-.59l7.78-7.78 2.81-2.81c.8-.78.8-2.07 0-2.86zM5.41 20L4 18.59l7.72-7.72 1.47 1.35L5.41 20z\"/>\n",
              "  </svg>\n",
              "      </button>\n",
              "      \n",
              "  <style>\n",
              "    .colab-df-container {\n",
              "      display:flex;\n",
              "      flex-wrap:wrap;\n",
              "      gap: 12px;\n",
              "    }\n",
              "\n",
              "    .colab-df-convert {\n",
              "      background-color: #E8F0FE;\n",
              "      border: none;\n",
              "      border-radius: 50%;\n",
              "      cursor: pointer;\n",
              "      display: none;\n",
              "      fill: #1967D2;\n",
              "      height: 32px;\n",
              "      padding: 0 0 0 0;\n",
              "      width: 32px;\n",
              "    }\n",
              "\n",
              "    .colab-df-convert:hover {\n",
              "      background-color: #E2EBFA;\n",
              "      box-shadow: 0px 1px 2px rgba(60, 64, 67, 0.3), 0px 1px 3px 1px rgba(60, 64, 67, 0.15);\n",
              "      fill: #174EA6;\n",
              "    }\n",
              "\n",
              "    [theme=dark] .colab-df-convert {\n",
              "      background-color: #3B4455;\n",
              "      fill: #D2E3FC;\n",
              "    }\n",
              "\n",
              "    [theme=dark] .colab-df-convert:hover {\n",
              "      background-color: #434B5C;\n",
              "      box-shadow: 0px 1px 3px 1px rgba(0, 0, 0, 0.15);\n",
              "      filter: drop-shadow(0px 1px 2px rgba(0, 0, 0, 0.3));\n",
              "      fill: #FFFFFF;\n",
              "    }\n",
              "  </style>\n",
              "\n",
              "      <script>\n",
              "        const buttonEl =\n",
              "          document.querySelector('#df-4c2ded1e-f10e-44d6-a65c-33d7825ae61a button.colab-df-convert');\n",
              "        buttonEl.style.display =\n",
              "          google.colab.kernel.accessAllowed ? 'block' : 'none';\n",
              "\n",
              "        async function convertToInteractive(key) {\n",
              "          const element = document.querySelector('#df-4c2ded1e-f10e-44d6-a65c-33d7825ae61a');\n",
              "          const dataTable =\n",
              "            await google.colab.kernel.invokeFunction('convertToInteractive',\n",
              "                                                     [key], {});\n",
              "          if (!dataTable) return;\n",
              "\n",
              "          const docLinkHtml = 'Like what you see? Visit the ' +\n",
              "            '<a target=\"_blank\" href=https://colab.research.google.com/notebooks/data_table.ipynb>data table notebook</a>'\n",
              "            + ' to learn more about interactive tables.';\n",
              "          element.innerHTML = '';\n",
              "          dataTable['output_type'] = 'display_data';\n",
              "          await google.colab.output.renderOutput(dataTable, element);\n",
              "          const docLink = document.createElement('div');\n",
              "          docLink.innerHTML = docLinkHtml;\n",
              "          element.appendChild(docLink);\n",
              "        }\n",
              "      </script>\n",
              "    </div>\n",
              "  </div>\n",
              "  "
            ],
            "text/plain": [
              "            MLR Without GA  MLR With Genetic\n",
              "2021-12-07       961.90644          983.1414"
            ]
          },
          "execution_count": 46,
          "metadata": {},
          "output_type": "execute_result"
        }
      ],
      "source": [
        "# Parameter mode harga\n",
        "predictions_params = {\n",
        "    \"beli\": [X_beli, y_beli, linreg_beli, linreg_beli_ga],\n",
        "    \"jual\": [X_jual, y_jual, linreg_jual, linreg_jual_ga]\n",
        "}\n",
        "\n",
        "# Tampilkan info tanggal\n",
        "print(f\"Tanggal prediksi mulai dari {awal}\")\n",
        "print(\"=\" * 50)\n",
        "\n",
        "# Input tanggal tertentu\n",
        "mode = input(\"Masukkan harga emas apa yang ingin diprediksi (beli / jual)\".ljust(70))\n",
        "tahun = int(input(\"Masukkan tahun\".ljust(70)))\n",
        "bulan = int(input(\"Masukkan bulan:\".ljust(70)))\n",
        "hari = int(input(\"Masukkan hari:\".ljust(70)))\n",
        "print(\"-\" * 20)\n",
        "tanggal = f\"{hari}/{bulan:02d}/{tahun}\"\n",
        "\n",
        "# Tampilkan hasil prediksi\n",
        "hasil_prediksi = prediction_date_based(tanggal, *predictions_params[mode.lower()])\n",
        "hasil_prediksi"
      ]
    }
  ],
  "metadata": {
    "colab": {
      "collapsed_sections": [],
      "name": "Prediksi_Harga_Emas.ipynb",
      "provenance": []
    },
    "kernelspec": {
      "display_name": "Python 3.8.12 ('apps')",
      "language": "python",
      "name": "python3"
    },
    "language_info": {
      "codemirror_mode": {
        "name": "ipython",
        "version": 3
      },
      "file_extension": ".py",
      "mimetype": "text/x-python",
      "name": "python",
      "nbconvert_exporter": "python",
      "pygments_lexer": "ipython3",
      "version": "3.8.12"
    },
    "vscode": {
      "interpreter": {
        "hash": "9abe9f0e3b19e4a4226ee44cf649c21966d084e06d275154703550961767cc5d"
      }
    }
  },
  "nbformat": 4,
  "nbformat_minor": 0
}
